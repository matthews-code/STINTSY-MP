{
 "cells": [
  {
   "cell_type": "markdown",
   "id": "eaa450ed",
   "metadata": {},
   "source": [
    "Authors: Matthew Buensalida, Alenna Cayton, Joaquin Escarraga"
   ]
  },
  {
   "cell_type": "markdown",
   "id": "d15c0998",
   "metadata": {},
   "source": [
    "Section: S11"
   ]
  },
  {
   "cell_type": "markdown",
   "id": "f5ca0636",
   "metadata": {},
   "source": [
    "# Spotify Song Genre Classification"
   ]
  },
  {
   "cell_type": "markdown",
   "id": "af8410a6",
   "metadata": {},
   "source": [
    "In this notebook, several models will be tried:\n",
    "\n",
    "1. Gaussian Naive Bayes\n",
    "2. Logistic Regression\n",
    "3. Random Forest\n",
    "4. Neural Networks"
   ]
  },
  {
   "cell_type": "markdown",
   "id": "be89b762",
   "metadata": {},
   "source": [
    "# Dataset"
   ]
  },
  {
   "cell_type": "markdown",
   "id": "9690e785",
   "metadata": {},
   "source": [
    "The dataset **Spotify Tracks DB** contains songs from spotify including 26 genres with a total of 232,725 tracks.\n",
    "\n",
    "Link to Kaggle dataset: https://www.kaggle.com/datasets/zaheenhamidani/ultimate-spotify-tracks-db?fbclid=IwAR1ScyhFIzpafp-jl9bO7gdKWoQ1cyDKDYzPPLRC85GamjA898nwBHEOp8s\n"
   ]
  },
  {
   "cell_type": "markdown",
   "id": "e513b56f",
   "metadata": {},
   "source": [
    "The dataset contains 232,725 **observations** (rows) which each represent a song across 18 **variables** (columns). The following are the descriptions of each variable in the dataset."
   ]
  },
  {
   "cell_type": "markdown",
   "id": "178ebb26",
   "metadata": {},
   "source": [
    "- **`genre`**: genre of the song (string)\n",
    "- **`artist_name`**: artist of the song (string)\n",
    "- **`track_name`**: name of track (string)\n",
    "- **`track_id`**: id of track (string)\n",
    "- **`popularity`**: popularity of track represented by an integer\n",
    "- **`acousticness`**: confidence measure of acousticness\n",
    "- **`danceability`**: suitability of a track for dancing based on a combination of tempo, rythm, stability, beat strengthm and regularity.\n",
    "- **`duration_ms`**: duration ms of the track\n",
    "- **`energy`**: confidence measure of energy representing a perceptual measure of intensity and activity\n",
    "- **`instrumentalness`**: confidence measure of instrumentalness\n",
    "- **`key`**: key of track\n",
    "- **`liveness`**: confidence measure of liveness\n",
    "- **`loudness`**: loudness of track (LUFS)\n",
    "- **`mode`**: mode of track\n",
    "- **`speechiness`**: confidence measure of speechiness\n",
    "- **`tempo`**: BPM of track\n",
    "- **`time_signature`**: time signature of track\n",
    "- **`valence`**: confidence measure of valence "
   ]
  },
  {
   "cell_type": "markdown",
   "id": "d9f5e005",
   "metadata": {},
   "source": [
    "## Reading the Dataset"
   ]
  },
  {
   "cell_type": "code",
   "execution_count": 1,
   "id": "e86d3a4e",
   "metadata": {},
   "outputs": [],
   "source": [
    "import matplotlib.pyplot as plt\n",
    "import numpy as np\n",
    "import pandas as pd"
   ]
  },
  {
   "cell_type": "markdown",
   "id": "6abd1cf2",
   "metadata": {},
   "source": [
    "Read CSV file."
   ]
  },
  {
   "cell_type": "code",
   "execution_count": 2,
   "id": "11d1fade",
   "metadata": {},
   "outputs": [],
   "source": [
    "df = pd.read_csv('SpotifyFeatures.csv')"
   ]
  },
  {
   "cell_type": "code",
   "execution_count": 3,
   "id": "fe7de4ae",
   "metadata": {},
   "outputs": [
    {
     "name": "stdout",
     "output_type": "stream",
     "text": [
      "<class 'pandas.core.frame.DataFrame'>\n",
      "RangeIndex: 232725 entries, 0 to 232724\n",
      "Data columns (total 18 columns):\n",
      " #   Column            Non-Null Count   Dtype  \n",
      "---  ------            --------------   -----  \n",
      " 0   genre             232725 non-null  object \n",
      " 1   artist_name       232725 non-null  object \n",
      " 2   track_name        232725 non-null  object \n",
      " 3   track_id          232725 non-null  object \n",
      " 4   popularity        232725 non-null  int64  \n",
      " 5   acousticness      232725 non-null  float64\n",
      " 6   danceability      232725 non-null  float64\n",
      " 7   duration_ms       232725 non-null  int64  \n",
      " 8   energy            232725 non-null  float64\n",
      " 9   instrumentalness  232725 non-null  float64\n",
      " 10  key               232725 non-null  object \n",
      " 11  liveness          232725 non-null  float64\n",
      " 12  loudness          232725 non-null  float64\n",
      " 13  mode              232725 non-null  object \n",
      " 14  speechiness       232725 non-null  float64\n",
      " 15  tempo             232725 non-null  float64\n",
      " 16  time_signature    232725 non-null  object \n",
      " 17  valence           232725 non-null  float64\n",
      "dtypes: float64(9), int64(2), object(7)\n",
      "memory usage: 32.0+ MB\n"
     ]
    }
   ],
   "source": [
    "df.info()"
   ]
  },
  {
   "cell_type": "markdown",
   "id": "62864ea8",
   "metadata": {},
   "source": [
    "## Dataset Preprocessing / Cleaning"
   ]
  },
  {
   "cell_type": "markdown",
   "id": "f959e821",
   "metadata": {},
   "source": [
    "Drop duplicate values."
   ]
  },
  {
   "cell_type": "code",
   "execution_count": 4,
   "id": "8dc0fa66",
   "metadata": {
    "scrolled": false
   },
   "outputs": [
    {
     "data": {
      "text/html": [
       "<div>\n",
       "<style scoped>\n",
       "    .dataframe tbody tr th:only-of-type {\n",
       "        vertical-align: middle;\n",
       "    }\n",
       "\n",
       "    .dataframe tbody tr th {\n",
       "        vertical-align: top;\n",
       "    }\n",
       "\n",
       "    .dataframe thead th {\n",
       "        text-align: right;\n",
       "    }\n",
       "</style>\n",
       "<table border=\"1\" class=\"dataframe\">\n",
       "  <thead>\n",
       "    <tr style=\"text-align: right;\">\n",
       "      <th></th>\n",
       "      <th>genre</th>\n",
       "      <th>artist_name</th>\n",
       "      <th>track_name</th>\n",
       "      <th>track_id</th>\n",
       "      <th>popularity</th>\n",
       "      <th>acousticness</th>\n",
       "      <th>danceability</th>\n",
       "      <th>duration_ms</th>\n",
       "      <th>energy</th>\n",
       "      <th>instrumentalness</th>\n",
       "      <th>key</th>\n",
       "      <th>liveness</th>\n",
       "      <th>loudness</th>\n",
       "      <th>mode</th>\n",
       "      <th>speechiness</th>\n",
       "      <th>tempo</th>\n",
       "      <th>time_signature</th>\n",
       "      <th>valence</th>\n",
       "    </tr>\n",
       "  </thead>\n",
       "  <tbody>\n",
       "    <tr>\n",
       "      <th>0</th>\n",
       "      <td>Movie</td>\n",
       "      <td>Henri Salvador</td>\n",
       "      <td>C'est beau de faire un Show</td>\n",
       "      <td>0BRjO6ga9RKCKjfDqeFgWV</td>\n",
       "      <td>0</td>\n",
       "      <td>0.6110</td>\n",
       "      <td>0.389</td>\n",
       "      <td>99373</td>\n",
       "      <td>0.910</td>\n",
       "      <td>0.000000</td>\n",
       "      <td>C#</td>\n",
       "      <td>0.3460</td>\n",
       "      <td>-1.828</td>\n",
       "      <td>Major</td>\n",
       "      <td>0.0525</td>\n",
       "      <td>166.969</td>\n",
       "      <td>4/4</td>\n",
       "      <td>0.814</td>\n",
       "    </tr>\n",
       "    <tr>\n",
       "      <th>1</th>\n",
       "      <td>Movie</td>\n",
       "      <td>Martin &amp; les fées</td>\n",
       "      <td>Perdu d'avance (par Gad Elmaleh)</td>\n",
       "      <td>0BjC1NfoEOOusryehmNudP</td>\n",
       "      <td>1</td>\n",
       "      <td>0.2460</td>\n",
       "      <td>0.590</td>\n",
       "      <td>137373</td>\n",
       "      <td>0.737</td>\n",
       "      <td>0.000000</td>\n",
       "      <td>F#</td>\n",
       "      <td>0.1510</td>\n",
       "      <td>-5.559</td>\n",
       "      <td>Minor</td>\n",
       "      <td>0.0868</td>\n",
       "      <td>174.003</td>\n",
       "      <td>4/4</td>\n",
       "      <td>0.816</td>\n",
       "    </tr>\n",
       "    <tr>\n",
       "      <th>2</th>\n",
       "      <td>Movie</td>\n",
       "      <td>Joseph Williams</td>\n",
       "      <td>Don't Let Me Be Lonely Tonight</td>\n",
       "      <td>0CoSDzoNIKCRs124s9uTVy</td>\n",
       "      <td>3</td>\n",
       "      <td>0.9520</td>\n",
       "      <td>0.663</td>\n",
       "      <td>170267</td>\n",
       "      <td>0.131</td>\n",
       "      <td>0.000000</td>\n",
       "      <td>C</td>\n",
       "      <td>0.1030</td>\n",
       "      <td>-13.879</td>\n",
       "      <td>Minor</td>\n",
       "      <td>0.0362</td>\n",
       "      <td>99.488</td>\n",
       "      <td>5/4</td>\n",
       "      <td>0.368</td>\n",
       "    </tr>\n",
       "    <tr>\n",
       "      <th>3</th>\n",
       "      <td>Movie</td>\n",
       "      <td>Henri Salvador</td>\n",
       "      <td>Dis-moi Monsieur Gordon Cooper</td>\n",
       "      <td>0Gc6TVm52BwZD07Ki6tIvf</td>\n",
       "      <td>0</td>\n",
       "      <td>0.7030</td>\n",
       "      <td>0.240</td>\n",
       "      <td>152427</td>\n",
       "      <td>0.326</td>\n",
       "      <td>0.000000</td>\n",
       "      <td>C#</td>\n",
       "      <td>0.0985</td>\n",
       "      <td>-12.178</td>\n",
       "      <td>Major</td>\n",
       "      <td>0.0395</td>\n",
       "      <td>171.758</td>\n",
       "      <td>4/4</td>\n",
       "      <td>0.227</td>\n",
       "    </tr>\n",
       "    <tr>\n",
       "      <th>4</th>\n",
       "      <td>Movie</td>\n",
       "      <td>Fabien Nataf</td>\n",
       "      <td>Ouverture</td>\n",
       "      <td>0IuslXpMROHdEPvSl1fTQK</td>\n",
       "      <td>4</td>\n",
       "      <td>0.9500</td>\n",
       "      <td>0.331</td>\n",
       "      <td>82625</td>\n",
       "      <td>0.225</td>\n",
       "      <td>0.123000</td>\n",
       "      <td>F</td>\n",
       "      <td>0.2020</td>\n",
       "      <td>-21.150</td>\n",
       "      <td>Major</td>\n",
       "      <td>0.0456</td>\n",
       "      <td>140.576</td>\n",
       "      <td>4/4</td>\n",
       "      <td>0.390</td>\n",
       "    </tr>\n",
       "    <tr>\n",
       "      <th>...</th>\n",
       "      <td>...</td>\n",
       "      <td>...</td>\n",
       "      <td>...</td>\n",
       "      <td>...</td>\n",
       "      <td>...</td>\n",
       "      <td>...</td>\n",
       "      <td>...</td>\n",
       "      <td>...</td>\n",
       "      <td>...</td>\n",
       "      <td>...</td>\n",
       "      <td>...</td>\n",
       "      <td>...</td>\n",
       "      <td>...</td>\n",
       "      <td>...</td>\n",
       "      <td>...</td>\n",
       "      <td>...</td>\n",
       "      <td>...</td>\n",
       "      <td>...</td>\n",
       "    </tr>\n",
       "    <tr>\n",
       "      <th>232716</th>\n",
       "      <td>Soul</td>\n",
       "      <td>John Legend</td>\n",
       "      <td>Quickly (feat. Brandy)</td>\n",
       "      <td>1U0OMWvR89Cm20vCNar50f</td>\n",
       "      <td>39</td>\n",
       "      <td>0.2310</td>\n",
       "      <td>0.736</td>\n",
       "      <td>222667</td>\n",
       "      <td>0.701</td>\n",
       "      <td>0.000000</td>\n",
       "      <td>A#</td>\n",
       "      <td>0.2030</td>\n",
       "      <td>-4.345</td>\n",
       "      <td>Minor</td>\n",
       "      <td>0.1000</td>\n",
       "      <td>99.991</td>\n",
       "      <td>4/4</td>\n",
       "      <td>0.770</td>\n",
       "    </tr>\n",
       "    <tr>\n",
       "      <th>232717</th>\n",
       "      <td>Soul</td>\n",
       "      <td>Belly</td>\n",
       "      <td>P.O.P.</td>\n",
       "      <td>2gGqKJWfWbToha2YmDxnnj</td>\n",
       "      <td>43</td>\n",
       "      <td>0.1040</td>\n",
       "      <td>0.802</td>\n",
       "      <td>201173</td>\n",
       "      <td>0.516</td>\n",
       "      <td>0.000485</td>\n",
       "      <td>D</td>\n",
       "      <td>0.1050</td>\n",
       "      <td>-9.014</td>\n",
       "      <td>Major</td>\n",
       "      <td>0.2130</td>\n",
       "      <td>175.666</td>\n",
       "      <td>4/4</td>\n",
       "      <td>0.482</td>\n",
       "    </tr>\n",
       "    <tr>\n",
       "      <th>232719</th>\n",
       "      <td>Soul</td>\n",
       "      <td>Bobby \"Blue\" Bland</td>\n",
       "      <td>I'll Take Care Of You - Single Version</td>\n",
       "      <td>2iZf3EUedz9MPqbAvXdpdA</td>\n",
       "      <td>32</td>\n",
       "      <td>0.5660</td>\n",
       "      <td>0.423</td>\n",
       "      <td>144667</td>\n",
       "      <td>0.337</td>\n",
       "      <td>0.000000</td>\n",
       "      <td>A#</td>\n",
       "      <td>0.2760</td>\n",
       "      <td>-13.092</td>\n",
       "      <td>Minor</td>\n",
       "      <td>0.0436</td>\n",
       "      <td>80.023</td>\n",
       "      <td>4/4</td>\n",
       "      <td>0.497</td>\n",
       "    </tr>\n",
       "    <tr>\n",
       "      <th>232721</th>\n",
       "      <td>Soul</td>\n",
       "      <td>Jr Thomas &amp; The Volcanos</td>\n",
       "      <td>Burning Fire</td>\n",
       "      <td>1qWZdkBl4UVPj9lK6HuuFM</td>\n",
       "      <td>38</td>\n",
       "      <td>0.0329</td>\n",
       "      <td>0.785</td>\n",
       "      <td>282447</td>\n",
       "      <td>0.683</td>\n",
       "      <td>0.000880</td>\n",
       "      <td>E</td>\n",
       "      <td>0.2370</td>\n",
       "      <td>-6.944</td>\n",
       "      <td>Minor</td>\n",
       "      <td>0.0337</td>\n",
       "      <td>113.830</td>\n",
       "      <td>4/4</td>\n",
       "      <td>0.969</td>\n",
       "    </tr>\n",
       "    <tr>\n",
       "      <th>232724</th>\n",
       "      <td>Soul</td>\n",
       "      <td>Mint Condition</td>\n",
       "      <td>You Don't Have To Hurt No More</td>\n",
       "      <td>34XO9RwPMKjbvRry54QzWn</td>\n",
       "      <td>35</td>\n",
       "      <td>0.0973</td>\n",
       "      <td>0.758</td>\n",
       "      <td>323027</td>\n",
       "      <td>0.470</td>\n",
       "      <td>0.000049</td>\n",
       "      <td>G#</td>\n",
       "      <td>0.0836</td>\n",
       "      <td>-6.708</td>\n",
       "      <td>Minor</td>\n",
       "      <td>0.0287</td>\n",
       "      <td>113.897</td>\n",
       "      <td>4/4</td>\n",
       "      <td>0.479</td>\n",
       "    </tr>\n",
       "  </tbody>\n",
       "</table>\n",
       "<p>141650 rows × 18 columns</p>\n",
       "</div>"
      ],
      "text/plain": [
       "        genre               artist_name  \\\n",
       "0       Movie            Henri Salvador   \n",
       "1       Movie         Martin & les fées   \n",
       "2       Movie           Joseph Williams   \n",
       "3       Movie            Henri Salvador   \n",
       "4       Movie              Fabien Nataf   \n",
       "...       ...                       ...   \n",
       "232716   Soul               John Legend   \n",
       "232717   Soul                     Belly   \n",
       "232719   Soul        Bobby \"Blue\" Bland   \n",
       "232721   Soul  Jr Thomas & The Volcanos   \n",
       "232724   Soul            Mint Condition   \n",
       "\n",
       "                                    track_name                track_id  \\\n",
       "0                  C'est beau de faire un Show  0BRjO6ga9RKCKjfDqeFgWV   \n",
       "1             Perdu d'avance (par Gad Elmaleh)  0BjC1NfoEOOusryehmNudP   \n",
       "2               Don't Let Me Be Lonely Tonight  0CoSDzoNIKCRs124s9uTVy   \n",
       "3               Dis-moi Monsieur Gordon Cooper  0Gc6TVm52BwZD07Ki6tIvf   \n",
       "4                                    Ouverture  0IuslXpMROHdEPvSl1fTQK   \n",
       "...                                        ...                     ...   \n",
       "232716                  Quickly (feat. Brandy)  1U0OMWvR89Cm20vCNar50f   \n",
       "232717                                  P.O.P.  2gGqKJWfWbToha2YmDxnnj   \n",
       "232719  I'll Take Care Of You - Single Version  2iZf3EUedz9MPqbAvXdpdA   \n",
       "232721                            Burning Fire  1qWZdkBl4UVPj9lK6HuuFM   \n",
       "232724          You Don't Have To Hurt No More  34XO9RwPMKjbvRry54QzWn   \n",
       "\n",
       "        popularity  acousticness  danceability  duration_ms  energy  \\\n",
       "0                0        0.6110         0.389        99373   0.910   \n",
       "1                1        0.2460         0.590       137373   0.737   \n",
       "2                3        0.9520         0.663       170267   0.131   \n",
       "3                0        0.7030         0.240       152427   0.326   \n",
       "4                4        0.9500         0.331        82625   0.225   \n",
       "...            ...           ...           ...          ...     ...   \n",
       "232716          39        0.2310         0.736       222667   0.701   \n",
       "232717          43        0.1040         0.802       201173   0.516   \n",
       "232719          32        0.5660         0.423       144667   0.337   \n",
       "232721          38        0.0329         0.785       282447   0.683   \n",
       "232724          35        0.0973         0.758       323027   0.470   \n",
       "\n",
       "        instrumentalness key  liveness  loudness   mode  speechiness    tempo  \\\n",
       "0               0.000000  C#    0.3460    -1.828  Major       0.0525  166.969   \n",
       "1               0.000000  F#    0.1510    -5.559  Minor       0.0868  174.003   \n",
       "2               0.000000   C    0.1030   -13.879  Minor       0.0362   99.488   \n",
       "3               0.000000  C#    0.0985   -12.178  Major       0.0395  171.758   \n",
       "4               0.123000   F    0.2020   -21.150  Major       0.0456  140.576   \n",
       "...                  ...  ..       ...       ...    ...          ...      ...   \n",
       "232716          0.000000  A#    0.2030    -4.345  Minor       0.1000   99.991   \n",
       "232717          0.000485   D    0.1050    -9.014  Major       0.2130  175.666   \n",
       "232719          0.000000  A#    0.2760   -13.092  Minor       0.0436   80.023   \n",
       "232721          0.000880   E    0.2370    -6.944  Minor       0.0337  113.830   \n",
       "232724          0.000049  G#    0.0836    -6.708  Minor       0.0287  113.897   \n",
       "\n",
       "       time_signature  valence  \n",
       "0                 4/4    0.814  \n",
       "1                 4/4    0.816  \n",
       "2                 5/4    0.368  \n",
       "3                 4/4    0.227  \n",
       "4                 4/4    0.390  \n",
       "...               ...      ...  \n",
       "232716            4/4    0.770  \n",
       "232717            4/4    0.482  \n",
       "232719            4/4    0.497  \n",
       "232721            4/4    0.969  \n",
       "232724            4/4    0.479  \n",
       "\n",
       "[141650 rows x 18 columns]"
      ]
     },
     "execution_count": 4,
     "metadata": {},
     "output_type": "execute_result"
    }
   ],
   "source": [
    "df = df.drop_duplicates(subset='track_id', keep=False, inplace=False)\n",
    "df"
   ]
  },
  {
   "cell_type": "markdown",
   "id": "a69c7cb0",
   "metadata": {},
   "source": [
    "Drop unneeded columns."
   ]
  },
  {
   "cell_type": "code",
   "execution_count": 5,
   "id": "6e8e65d8",
   "metadata": {},
   "outputs": [],
   "source": [
    "df = df.drop(axis = 1, columns = ['artist_name', 'track_name', 'track_id', 'popularity'])"
   ]
  },
  {
   "cell_type": "markdown",
   "id": "c5670ce3",
   "metadata": {},
   "source": [
    "Re-arrange dataframe columns to match with Spotify API."
   ]
  },
  {
   "cell_type": "code",
   "execution_count": 6,
   "id": "cb44a8e4",
   "metadata": {},
   "outputs": [],
   "source": [
    "df = df[['danceability', 'energy', 'key', 'loudness', 'mode', 'speechiness', 'acousticness', 'instrumentalness', 'liveness', 'valence', 'tempo', 'duration_ms', 'time_signature', 'genre']]"
   ]
  },
  {
   "cell_type": "markdown",
   "id": "1aa944c8",
   "metadata": {},
   "source": [
    "Re-assign `key`, `mode`, and `time_signature` entries to their corresponding numerical values based on [this website](https://www.therecordindustry.io/analyzing-spotify-audio-features/)."
   ]
  },
  {
   "cell_type": "code",
   "execution_count": 7,
   "id": "b8c57c00",
   "metadata": {},
   "outputs": [],
   "source": [
    "# Drop the 8 rows with time signature 0/4 and remove a\n",
    "\n",
    "df = df[df.time_signature != '0/4']\n",
    "\n",
    "# Data's numerical representation\n",
    "\n",
    "keys_key = {'C':  0, 'C#': 1, 'D':  2, 'D#': 3, 'E':  4, 'F':  5, 'F#': 6, 'G':  7, 'G#': 8, 'A':  9, 'A#': 10, 'B':  11}\n",
    "keys_time_signature = {'1/4': 1, '2/4': 2, '3/4': 3, '4/4': 4, '5/4': 5}\n",
    "keys_mode = {'Major': 1, 'Minor': 0}\n",
    "\n",
    "# Remap values according to dictionaries above.\n",
    "\n",
    "for i in keys_key.values():\n",
    "    \n",
    "    key = list(keys_key.keys())\n",
    "    number = list(keys_key.values())\n",
    "    df['key'] = df['key'].replace([str(key[i])], str(number[i]))\n",
    "    \n",
    "for i in keys_time_signature.values():\n",
    "    \n",
    "    key = list(keys_time_signature.keys())\n",
    "    number = list(keys_time_signature.values())  \n",
    "    df['time_signature'] = df['time_signature'].replace([str(key[i-1])], number[i-1])\n",
    "\n",
    "for i in keys_mode.values():\n",
    "    \n",
    "    key = list(keys_mode.keys())\n",
    "    number = list(keys_mode.values())\n",
    "    df['mode'] = df['mode'].replace([str(key[i])], str(number[i]))"
   ]
  },
  {
   "cell_type": "code",
   "execution_count": 8,
   "id": "9aaf10cf",
   "metadata": {},
   "outputs": [
    {
     "data": {
      "text/plain": [
       "array(['Movie', 'A Capella', 'Alternative', 'Country', 'Dance',\n",
       "       'Electronic', 'Anime', 'Folk', 'Blues', 'R&B', 'Opera', 'Hip-Hop',\n",
       "       \"Children's Music\", 'Children’s Music', 'Rap', 'Indie',\n",
       "       'Classical', 'Pop', 'Reggae', 'Reggaeton', 'Jazz', 'Rock', 'Ska',\n",
       "       'Comedy', 'Soul', 'Soundtrack', 'World'], dtype=object)"
      ]
     },
     "execution_count": 8,
     "metadata": {},
     "output_type": "execute_result"
    }
   ],
   "source": [
    "df['genre'].unique()"
   ]
  },
  {
   "cell_type": "markdown",
   "id": "9ceeb64e",
   "metadata": {},
   "source": [
    "Identify number of songs for each genre."
   ]
  },
  {
   "cell_type": "code",
   "execution_count": 9,
   "id": "771aaaf4",
   "metadata": {},
   "outputs": [
    {
     "data": {
      "text/plain": [
       "Comedy              9672\n",
       "Anime               8556\n",
       "Reggaeton           8526\n",
       "Soundtrack          8446\n",
       "Electronic          8186\n",
       "Classical           8042\n",
       "Ska                 8016\n",
       "World               7960\n",
       "Opera               7888\n",
       "Reggae              7689\n",
       "Movie               7480\n",
       "Blues               7255\n",
       "Jazz                7185\n",
       "Country             6526\n",
       "Children's Music    5402\n",
       "Soul                4418\n",
       "Folk                4342\n",
       "Dance               2738\n",
       "R&B                 2725\n",
       "Indie               1974\n",
       "Hip-Hop             1903\n",
       "Rock                1865\n",
       "Alternative         1817\n",
       "Pop                 1329\n",
       "Rap                  982\n",
       "Children’s Music     604\n",
       "A Capella            119\n",
       "Name: genre, dtype: int64"
      ]
     },
     "execution_count": 9,
     "metadata": {},
     "output_type": "execute_result"
    }
   ],
   "source": [
    "df['genre'].value_counts()"
   ]
  },
  {
   "cell_type": "markdown",
   "id": "6a17519f",
   "metadata": {},
   "source": [
    "Since we are only going to use 8 genres for this model, drop genres that can be a subgenre of another genre."
   ]
  },
  {
   "cell_type": "code",
   "execution_count": 10,
   "id": "701b524e",
   "metadata": {},
   "outputs": [],
   "source": [
    "df = df[df['genre'].str.match('Soul|Indie|Anime|Country|Comedy|Blues|Movie|Soundtrack|Children’s Music|Folk|Alternative|World|Reggaeton|Ska|Reggae|Dance|Opera|Children\\'s Music|A Capella') == False]"
   ]
  },
  {
   "cell_type": "markdown",
   "id": "e26810d8",
   "metadata": {},
   "source": [
    "Check to see if the genres have been successfully dropped."
   ]
  },
  {
   "cell_type": "code",
   "execution_count": 11,
   "id": "7cffc29f",
   "metadata": {},
   "outputs": [
    {
     "data": {
      "text/plain": [
       "array(['Electronic', 'R&B', 'Hip-Hop', 'Rap', 'Classical', 'Pop', 'Jazz',\n",
       "       'Rock'], dtype=object)"
      ]
     },
     "execution_count": 11,
     "metadata": {},
     "output_type": "execute_result"
    }
   ],
   "source": [
    "df['genre'].unique()"
   ]
  },
  {
   "cell_type": "markdown",
   "id": "3c13acb3",
   "metadata": {},
   "source": [
    "# Exploratory Data Analysis"
   ]
  },
  {
   "cell_type": "markdown",
   "id": "98d07316",
   "metadata": {},
   "source": [
    "Let us do a simple exploration with the data and see what we can find."
   ]
  },
  {
   "cell_type": "code",
   "execution_count": 12,
   "id": "e47fd20f",
   "metadata": {},
   "outputs": [
    {
     "data": {
      "image/png": "[encoded data removed]",
      "text/plain": [
       "<Figure size 720x720 with 1 Axes>"
      ]
     },
     "metadata": {},
     "output_type": "display_data"
    }
   ],
   "source": [
    "# Find percent of each genre\n",
    "df_genre = df['genre'].value_counts() / len(df)\n",
    "sizes = df_genre.values.tolist()\n",
    "labels = df_genre.index.values.tolist()\n",
    "\n",
    "# Pie chart for genre\n",
    "fig1, ax1 = plt.subplots(figsize=(10,10))\n",
    "ax1.pie(sizes, labels=labels, autopct='%1.1f%%', shadow=False, textprops={'fontsize': 14})\n",
    "ax1.axis('equal')\n",
    "plt.show()\n"
   ]
  },
  {
   "cell_type": "markdown",
   "id": "14b15e1a",
   "metadata": {},
   "source": [
    "The pie chart above shows that majority of the songs in the dataset are classical(25%), electronic(25.4%) and jazz(22.3%) music."
   ]
  },
  {
   "cell_type": "markdown",
   "id": "a534b4fd",
   "metadata": {},
   "source": [
    "**Is there a correlation between the song attributes in the dataset?**"
   ]
  },
  {
   "cell_type": "markdown",
   "id": "de50fe3a",
   "metadata": {},
   "source": [
    "To answer this question, we can observe the correlation matrix. This is a commonly used tool to gain a better understanding of how much the variables are related to each other. \n"
   ]
  },
  {
   "cell_type": "code",
   "execution_count": 13,
   "id": "c5646f82",
   "metadata": {},
   "outputs": [
    {
     "data": {
      "image/png": "[encoded data removed]",
      "text/plain": [
       "<Figure size 1440x720 with 2 Axes>"
      ]
     },
     "metadata": {
      "needs_background": "light"
     },
     "output_type": "display_data"
    }
   ],
   "source": [
    "import seaborn as sns\n",
    "\n",
    "df_matrix = df.drop(['genre'], axis = 1)\n",
    "\n",
    "fig, ax = plt.subplots(figsize=(20,10))\n",
    "sns.heatmap(df_matrix.corr(), annot=True, cmap='YlGnBu', vmin=-1, vmax=1, center=0, ax=ax)\n",
    "plt.title('LINEAR CORRELATION MATRIX')\n",
    "plt.show()"
   ]
  },
  {
   "cell_type": "markdown",
   "id": "847d9564",
   "metadata": {},
   "source": [
    "Upon observation of the linear correlation matrix, there seems to be a strong positive correlation between `loudness ` and `energy ` with a correlation coefficient of 0.82"
   ]
  },
  {
   "cell_type": "markdown",
   "id": "5dd03003",
   "metadata": {},
   "source": [
    "**Are there certain song attributes that stand out per genre?**\n",
    "\n",
    "To answer this question, we will compare the song attribute values using their mean values per genre. "
   ]
  },
  {
   "cell_type": "code",
   "execution_count": 14,
   "id": "a7938f81",
   "metadata": {},
   "outputs": [
    {
     "data": {
      "text/html": [
       "<div>\n",
       "<style scoped>\n",
       "    .dataframe tbody tr th:only-of-type {\n",
       "        vertical-align: middle;\n",
       "    }\n",
       "\n",
       "    .dataframe tbody tr th {\n",
       "        vertical-align: top;\n",
       "    }\n",
       "\n",
       "    .dataframe thead th {\n",
       "        text-align: right;\n",
       "    }\n",
       "</style>\n",
       "<table border=\"1\" class=\"dataframe\">\n",
       "  <thead>\n",
       "    <tr style=\"text-align: right;\">\n",
       "      <th></th>\n",
       "      <th>acousticness</th>\n",
       "    </tr>\n",
       "    <tr>\n",
       "      <th>genre</th>\n",
       "      <th></th>\n",
       "    </tr>\n",
       "  </thead>\n",
       "  <tbody>\n",
       "    <tr>\n",
       "      <th>Classical</th>\n",
       "      <td>0.872682</td>\n",
       "    </tr>\n",
       "    <tr>\n",
       "      <th>Jazz</th>\n",
       "      <td>0.510011</td>\n",
       "    </tr>\n",
       "    <tr>\n",
       "      <th>Pop</th>\n",
       "      <td>0.293093</td>\n",
       "    </tr>\n",
       "    <tr>\n",
       "      <th>R&amp;B</th>\n",
       "      <td>0.282003</td>\n",
       "    </tr>\n",
       "    <tr>\n",
       "      <th>Rap</th>\n",
       "      <td>0.251441</td>\n",
       "    </tr>\n",
       "    <tr>\n",
       "      <th>Rock</th>\n",
       "      <td>0.208501</td>\n",
       "    </tr>\n",
       "    <tr>\n",
       "      <th>Hip-Hop</th>\n",
       "      <td>0.195898</td>\n",
       "    </tr>\n",
       "    <tr>\n",
       "      <th>Electronic</th>\n",
       "      <td>0.107848</td>\n",
       "    </tr>\n",
       "  </tbody>\n",
       "</table>\n",
       "</div>"
      ],
      "text/plain": [
       "            acousticness\n",
       "genre                   \n",
       "Classical       0.872682\n",
       "Jazz            0.510011\n",
       "Pop             0.293093\n",
       "R&B             0.282003\n",
       "Rap             0.251441\n",
       "Rock            0.208501\n",
       "Hip-Hop         0.195898\n",
       "Electronic      0.107848"
      ]
     },
     "execution_count": 14,
     "metadata": {},
     "output_type": "execute_result"
    }
   ],
   "source": [
    "df[['genre','acousticness']].groupby('genre').mean().sort_values(by='acousticness', ascending=False)"
   ]
  },
  {
   "cell_type": "code",
   "execution_count": 15,
   "id": "c77acbb3",
   "metadata": {},
   "outputs": [
    {
     "data": {
      "text/html": [
       "<div>\n",
       "<style scoped>\n",
       "    .dataframe tbody tr th:only-of-type {\n",
       "        vertical-align: middle;\n",
       "    }\n",
       "\n",
       "    .dataframe tbody tr th {\n",
       "        vertical-align: top;\n",
       "    }\n",
       "\n",
       "    .dataframe thead th {\n",
       "        text-align: right;\n",
       "    }\n",
       "</style>\n",
       "<table border=\"1\" class=\"dataframe\">\n",
       "  <thead>\n",
       "    <tr style=\"text-align: right;\">\n",
       "      <th></th>\n",
       "      <th>danceability</th>\n",
       "    </tr>\n",
       "    <tr>\n",
       "      <th>genre</th>\n",
       "      <th></th>\n",
       "    </tr>\n",
       "  </thead>\n",
       "  <tbody>\n",
       "    <tr>\n",
       "      <th>Hip-Hop</th>\n",
       "      <td>0.725938</td>\n",
       "    </tr>\n",
       "    <tr>\n",
       "      <th>Rap</th>\n",
       "      <td>0.707508</td>\n",
       "    </tr>\n",
       "    <tr>\n",
       "      <th>R&amp;B</th>\n",
       "      <td>0.642277</td>\n",
       "    </tr>\n",
       "    <tr>\n",
       "      <th>Pop</th>\n",
       "      <td>0.623026</td>\n",
       "    </tr>\n",
       "    <tr>\n",
       "      <th>Electronic</th>\n",
       "      <td>0.619469</td>\n",
       "    </tr>\n",
       "    <tr>\n",
       "      <th>Jazz</th>\n",
       "      <td>0.584280</td>\n",
       "    </tr>\n",
       "    <tr>\n",
       "      <th>Rock</th>\n",
       "      <td>0.509611</td>\n",
       "    </tr>\n",
       "    <tr>\n",
       "      <th>Classical</th>\n",
       "      <td>0.311555</td>\n",
       "    </tr>\n",
       "  </tbody>\n",
       "</table>\n",
       "</div>"
      ],
      "text/plain": [
       "            danceability\n",
       "genre                   \n",
       "Hip-Hop         0.725938\n",
       "Rap             0.707508\n",
       "R&B             0.642277\n",
       "Pop             0.623026\n",
       "Electronic      0.619469\n",
       "Jazz            0.584280\n",
       "Rock            0.509611\n",
       "Classical       0.311555"
      ]
     },
     "execution_count": 15,
     "metadata": {},
     "output_type": "execute_result"
    }
   ],
   "source": [
    "df[['genre','danceability']].groupby('genre').mean().sort_values(by='danceability', ascending=False)"
   ]
  },
  {
   "cell_type": "code",
   "execution_count": 16,
   "id": "b0575980",
   "metadata": {},
   "outputs": [
    {
     "data": {
      "text/html": [
       "<div>\n",
       "<style scoped>\n",
       "    .dataframe tbody tr th:only-of-type {\n",
       "        vertical-align: middle;\n",
       "    }\n",
       "\n",
       "    .dataframe tbody tr th {\n",
       "        vertical-align: top;\n",
       "    }\n",
       "\n",
       "    .dataframe thead th {\n",
       "        text-align: right;\n",
       "    }\n",
       "</style>\n",
       "<table border=\"1\" class=\"dataframe\">\n",
       "  <thead>\n",
       "    <tr style=\"text-align: right;\">\n",
       "      <th></th>\n",
       "      <th>duration_ms</th>\n",
       "    </tr>\n",
       "    <tr>\n",
       "      <th>genre</th>\n",
       "      <th></th>\n",
       "    </tr>\n",
       "  </thead>\n",
       "  <tbody>\n",
       "    <tr>\n",
       "      <th>Classical</th>\n",
       "      <td>316337.034320</td>\n",
       "    </tr>\n",
       "    <tr>\n",
       "      <th>Electronic</th>\n",
       "      <td>267172.723797</td>\n",
       "    </tr>\n",
       "    <tr>\n",
       "      <th>Jazz</th>\n",
       "      <td>263126.296033</td>\n",
       "    </tr>\n",
       "    <tr>\n",
       "      <th>Rock</th>\n",
       "      <td>251779.856300</td>\n",
       "    </tr>\n",
       "    <tr>\n",
       "      <th>R&amp;B</th>\n",
       "      <td>220205.091009</td>\n",
       "    </tr>\n",
       "    <tr>\n",
       "      <th>Pop</th>\n",
       "      <td>214780.709556</td>\n",
       "    </tr>\n",
       "    <tr>\n",
       "      <th>Hip-Hop</th>\n",
       "      <td>207470.958487</td>\n",
       "    </tr>\n",
       "    <tr>\n",
       "      <th>Rap</th>\n",
       "      <td>194685.920570</td>\n",
       "    </tr>\n",
       "  </tbody>\n",
       "</table>\n",
       "</div>"
      ],
      "text/plain": [
       "              duration_ms\n",
       "genre                    \n",
       "Classical   316337.034320\n",
       "Electronic  267172.723797\n",
       "Jazz        263126.296033\n",
       "Rock        251779.856300\n",
       "R&B         220205.091009\n",
       "Pop         214780.709556\n",
       "Hip-Hop     207470.958487\n",
       "Rap         194685.920570"
      ]
     },
     "execution_count": 16,
     "metadata": {},
     "output_type": "execute_result"
    }
   ],
   "source": [
    "df[['genre','duration_ms']].groupby('genre').mean().sort_values(by='duration_ms', ascending=False)"
   ]
  },
  {
   "cell_type": "code",
   "execution_count": 17,
   "id": "7ada8670",
   "metadata": {},
   "outputs": [
    {
     "data": {
      "text/html": [
       "<div>\n",
       "<style scoped>\n",
       "    .dataframe tbody tr th:only-of-type {\n",
       "        vertical-align: middle;\n",
       "    }\n",
       "\n",
       "    .dataframe tbody tr th {\n",
       "        vertical-align: top;\n",
       "    }\n",
       "\n",
       "    .dataframe thead th {\n",
       "        text-align: right;\n",
       "    }\n",
       "</style>\n",
       "<table border=\"1\" class=\"dataframe\">\n",
       "  <thead>\n",
       "    <tr style=\"text-align: right;\">\n",
       "      <th></th>\n",
       "      <th>energy</th>\n",
       "    </tr>\n",
       "    <tr>\n",
       "      <th>genre</th>\n",
       "      <th></th>\n",
       "    </tr>\n",
       "  </thead>\n",
       "  <tbody>\n",
       "    <tr>\n",
       "      <th>Electronic</th>\n",
       "      <td>0.752051</td>\n",
       "    </tr>\n",
       "    <tr>\n",
       "      <th>Rock</th>\n",
       "      <td>0.672042</td>\n",
       "    </tr>\n",
       "    <tr>\n",
       "      <th>Pop</th>\n",
       "      <td>0.647998</td>\n",
       "    </tr>\n",
       "    <tr>\n",
       "      <th>Hip-Hop</th>\n",
       "      <td>0.645662</td>\n",
       "    </tr>\n",
       "    <tr>\n",
       "      <th>Rap</th>\n",
       "      <td>0.598514</td>\n",
       "    </tr>\n",
       "    <tr>\n",
       "      <th>R&amp;B</th>\n",
       "      <td>0.576216</td>\n",
       "    </tr>\n",
       "    <tr>\n",
       "      <th>Jazz</th>\n",
       "      <td>0.470373</td>\n",
       "    </tr>\n",
       "    <tr>\n",
       "      <th>Classical</th>\n",
       "      <td>0.175878</td>\n",
       "    </tr>\n",
       "  </tbody>\n",
       "</table>\n",
       "</div>"
      ],
      "text/plain": [
       "              energy\n",
       "genre               \n",
       "Electronic  0.752051\n",
       "Rock        0.672042\n",
       "Pop         0.647998\n",
       "Hip-Hop     0.645662\n",
       "Rap         0.598514\n",
       "R&B         0.576216\n",
       "Jazz        0.470373\n",
       "Classical   0.175878"
      ]
     },
     "execution_count": 17,
     "metadata": {},
     "output_type": "execute_result"
    }
   ],
   "source": [
    "df[['genre','energy']].groupby('genre').mean().sort_values(by='energy', ascending=False)"
   ]
  },
  {
   "cell_type": "code",
   "execution_count": 18,
   "id": "8359372e",
   "metadata": {},
   "outputs": [
    {
     "data": {
      "text/html": [
       "<div>\n",
       "<style scoped>\n",
       "    .dataframe tbody tr th:only-of-type {\n",
       "        vertical-align: middle;\n",
       "    }\n",
       "\n",
       "    .dataframe tbody tr th {\n",
       "        vertical-align: top;\n",
       "    }\n",
       "\n",
       "    .dataframe thead th {\n",
       "        text-align: right;\n",
       "    }\n",
       "</style>\n",
       "<table border=\"1\" class=\"dataframe\">\n",
       "  <thead>\n",
       "    <tr style=\"text-align: right;\">\n",
       "      <th></th>\n",
       "      <th>instrumentalness</th>\n",
       "    </tr>\n",
       "    <tr>\n",
       "      <th>genre</th>\n",
       "      <th></th>\n",
       "    </tr>\n",
       "  </thead>\n",
       "  <tbody>\n",
       "    <tr>\n",
       "      <th>Classical</th>\n",
       "      <td>0.602429</td>\n",
       "    </tr>\n",
       "    <tr>\n",
       "      <th>Jazz</th>\n",
       "      <td>0.386490</td>\n",
       "    </tr>\n",
       "    <tr>\n",
       "      <th>Electronic</th>\n",
       "      <td>0.343693</td>\n",
       "    </tr>\n",
       "    <tr>\n",
       "      <th>Rock</th>\n",
       "      <td>0.067755</td>\n",
       "    </tr>\n",
       "    <tr>\n",
       "      <th>Rap</th>\n",
       "      <td>0.031258</td>\n",
       "    </tr>\n",
       "    <tr>\n",
       "      <th>R&amp;B</th>\n",
       "      <td>0.025704</td>\n",
       "    </tr>\n",
       "    <tr>\n",
       "      <th>Pop</th>\n",
       "      <td>0.024443</td>\n",
       "    </tr>\n",
       "    <tr>\n",
       "      <th>Hip-Hop</th>\n",
       "      <td>0.017129</td>\n",
       "    </tr>\n",
       "  </tbody>\n",
       "</table>\n",
       "</div>"
      ],
      "text/plain": [
       "            instrumentalness\n",
       "genre                       \n",
       "Classical           0.602429\n",
       "Jazz                0.386490\n",
       "Electronic          0.343693\n",
       "Rock                0.067755\n",
       "Rap                 0.031258\n",
       "R&B                 0.025704\n",
       "Pop                 0.024443\n",
       "Hip-Hop             0.017129"
      ]
     },
     "execution_count": 18,
     "metadata": {},
     "output_type": "execute_result"
    }
   ],
   "source": [
    "df[['genre','instrumentalness']].groupby('genre').mean().sort_values(by='instrumentalness', ascending=False)"
   ]
  },
  {
   "cell_type": "code",
   "execution_count": 19,
   "id": "5a07ef4a",
   "metadata": {},
   "outputs": [
    {
     "data": {
      "text/html": [
       "<div>\n",
       "<style scoped>\n",
       "    .dataframe tbody tr th:only-of-type {\n",
       "        vertical-align: middle;\n",
       "    }\n",
       "\n",
       "    .dataframe tbody tr th {\n",
       "        vertical-align: top;\n",
       "    }\n",
       "\n",
       "    .dataframe thead th {\n",
       "        text-align: right;\n",
       "    }\n",
       "</style>\n",
       "<table border=\"1\" class=\"dataframe\">\n",
       "  <thead>\n",
       "    <tr style=\"text-align: right;\">\n",
       "      <th></th>\n",
       "      <th>liveness</th>\n",
       "    </tr>\n",
       "    <tr>\n",
       "      <th>genre</th>\n",
       "      <th></th>\n",
       "    </tr>\n",
       "  </thead>\n",
       "  <tbody>\n",
       "    <tr>\n",
       "      <th>Electronic</th>\n",
       "      <td>0.213489</td>\n",
       "    </tr>\n",
       "    <tr>\n",
       "      <th>Rock</th>\n",
       "      <td>0.198388</td>\n",
       "    </tr>\n",
       "    <tr>\n",
       "      <th>Hip-Hop</th>\n",
       "      <td>0.197641</td>\n",
       "    </tr>\n",
       "    <tr>\n",
       "      <th>Rap</th>\n",
       "      <td>0.179980</td>\n",
       "    </tr>\n",
       "    <tr>\n",
       "      <th>Pop</th>\n",
       "      <td>0.177140</td>\n",
       "    </tr>\n",
       "    <tr>\n",
       "      <th>R&amp;B</th>\n",
       "      <td>0.176333</td>\n",
       "    </tr>\n",
       "    <tr>\n",
       "      <th>Jazz</th>\n",
       "      <td>0.172108</td>\n",
       "    </tr>\n",
       "    <tr>\n",
       "      <th>Classical</th>\n",
       "      <td>0.160034</td>\n",
       "    </tr>\n",
       "  </tbody>\n",
       "</table>\n",
       "</div>"
      ],
      "text/plain": [
       "            liveness\n",
       "genre               \n",
       "Electronic  0.213489\n",
       "Rock        0.198388\n",
       "Hip-Hop     0.197641\n",
       "Rap         0.179980\n",
       "Pop         0.177140\n",
       "R&B         0.176333\n",
       "Jazz        0.172108\n",
       "Classical   0.160034"
      ]
     },
     "execution_count": 19,
     "metadata": {},
     "output_type": "execute_result"
    }
   ],
   "source": [
    "df[['genre','liveness']].groupby('genre').mean().sort_values(by='liveness', ascending=False)[:26]"
   ]
  },
  {
   "cell_type": "code",
   "execution_count": 20,
   "id": "c0457400",
   "metadata": {},
   "outputs": [
    {
     "data": {
      "text/html": [
       "<div>\n",
       "<style scoped>\n",
       "    .dataframe tbody tr th:only-of-type {\n",
       "        vertical-align: middle;\n",
       "    }\n",
       "\n",
       "    .dataframe tbody tr th {\n",
       "        vertical-align: top;\n",
       "    }\n",
       "\n",
       "    .dataframe thead th {\n",
       "        text-align: right;\n",
       "    }\n",
       "</style>\n",
       "<table border=\"1\" class=\"dataframe\">\n",
       "  <thead>\n",
       "    <tr style=\"text-align: right;\">\n",
       "      <th></th>\n",
       "      <th>loudness</th>\n",
       "    </tr>\n",
       "    <tr>\n",
       "      <th>genre</th>\n",
       "      <th></th>\n",
       "    </tr>\n",
       "  </thead>\n",
       "  <tbody>\n",
       "    <tr>\n",
       "      <th>Pop</th>\n",
       "      <td>-6.210878</td>\n",
       "    </tr>\n",
       "    <tr>\n",
       "      <th>Electronic</th>\n",
       "      <td>-6.785214</td>\n",
       "    </tr>\n",
       "    <tr>\n",
       "      <th>Hip-Hop</th>\n",
       "      <td>-7.007624</td>\n",
       "    </tr>\n",
       "    <tr>\n",
       "      <th>R&amp;B</th>\n",
       "      <td>-7.382235</td>\n",
       "    </tr>\n",
       "    <tr>\n",
       "      <th>Rap</th>\n",
       "      <td>-7.697729</td>\n",
       "    </tr>\n",
       "    <tr>\n",
       "      <th>Rock</th>\n",
       "      <td>-8.099151</td>\n",
       "    </tr>\n",
       "    <tr>\n",
       "      <th>Jazz</th>\n",
       "      <td>-11.270528</td>\n",
       "    </tr>\n",
       "    <tr>\n",
       "      <th>Classical</th>\n",
       "      <td>-21.817642</td>\n",
       "    </tr>\n",
       "  </tbody>\n",
       "</table>\n",
       "</div>"
      ],
      "text/plain": [
       "             loudness\n",
       "genre                \n",
       "Pop         -6.210878\n",
       "Electronic  -6.785214\n",
       "Hip-Hop     -7.007624\n",
       "R&B         -7.382235\n",
       "Rap         -7.697729\n",
       "Rock        -8.099151\n",
       "Jazz       -11.270528\n",
       "Classical  -21.817642"
      ]
     },
     "execution_count": 20,
     "metadata": {},
     "output_type": "execute_result"
    }
   ],
   "source": [
    "df[['genre','loudness']].groupby('genre').mean().sort_values(by='loudness', ascending=False)"
   ]
  },
  {
   "cell_type": "code",
   "execution_count": 21,
   "id": "9e955249",
   "metadata": {},
   "outputs": [
    {
     "data": {
      "text/html": [
       "<div>\n",
       "<style scoped>\n",
       "    .dataframe tbody tr th:only-of-type {\n",
       "        vertical-align: middle;\n",
       "    }\n",
       "\n",
       "    .dataframe tbody tr th {\n",
       "        vertical-align: top;\n",
       "    }\n",
       "\n",
       "    .dataframe thead th {\n",
       "        text-align: right;\n",
       "    }\n",
       "</style>\n",
       "<table border=\"1\" class=\"dataframe\">\n",
       "  <thead>\n",
       "    <tr style=\"text-align: right;\">\n",
       "      <th></th>\n",
       "      <th>speechiness</th>\n",
       "    </tr>\n",
       "    <tr>\n",
       "      <th>genre</th>\n",
       "      <th></th>\n",
       "    </tr>\n",
       "  </thead>\n",
       "  <tbody>\n",
       "    <tr>\n",
       "      <th>Hip-Hop</th>\n",
       "      <td>0.214923</td>\n",
       "    </tr>\n",
       "    <tr>\n",
       "      <th>Rap</th>\n",
       "      <td>0.201147</td>\n",
       "    </tr>\n",
       "    <tr>\n",
       "      <th>R&amp;B</th>\n",
       "      <td>0.130579</td>\n",
       "    </tr>\n",
       "    <tr>\n",
       "      <th>Electronic</th>\n",
       "      <td>0.103370</td>\n",
       "    </tr>\n",
       "    <tr>\n",
       "      <th>Pop</th>\n",
       "      <td>0.076913</td>\n",
       "    </tr>\n",
       "    <tr>\n",
       "      <th>Jazz</th>\n",
       "      <td>0.073973</td>\n",
       "    </tr>\n",
       "    <tr>\n",
       "      <th>Rock</th>\n",
       "      <td>0.055619</td>\n",
       "    </tr>\n",
       "    <tr>\n",
       "      <th>Classical</th>\n",
       "      <td>0.052147</td>\n",
       "    </tr>\n",
       "  </tbody>\n",
       "</table>\n",
       "</div>"
      ],
      "text/plain": [
       "            speechiness\n",
       "genre                  \n",
       "Hip-Hop        0.214923\n",
       "Rap            0.201147\n",
       "R&B            0.130579\n",
       "Electronic     0.103370\n",
       "Pop            0.076913\n",
       "Jazz           0.073973\n",
       "Rock           0.055619\n",
       "Classical      0.052147"
      ]
     },
     "execution_count": 21,
     "metadata": {},
     "output_type": "execute_result"
    }
   ],
   "source": [
    "df[['genre','speechiness']].groupby('genre').mean().sort_values(by='speechiness', ascending=False)"
   ]
  },
  {
   "cell_type": "code",
   "execution_count": 22,
   "id": "40a48b63",
   "metadata": {},
   "outputs": [
    {
     "data": {
      "text/html": [
       "<div>\n",
       "<style scoped>\n",
       "    .dataframe tbody tr th:only-of-type {\n",
       "        vertical-align: middle;\n",
       "    }\n",
       "\n",
       "    .dataframe tbody tr th {\n",
       "        vertical-align: top;\n",
       "    }\n",
       "\n",
       "    .dataframe thead th {\n",
       "        text-align: right;\n",
       "    }\n",
       "</style>\n",
       "<table border=\"1\" class=\"dataframe\">\n",
       "  <thead>\n",
       "    <tr style=\"text-align: right;\">\n",
       "      <th></th>\n",
       "      <th>tempo</th>\n",
       "    </tr>\n",
       "    <tr>\n",
       "      <th>genre</th>\n",
       "      <th></th>\n",
       "    </tr>\n",
       "  </thead>\n",
       "  <tbody>\n",
       "    <tr>\n",
       "      <th>Electronic</th>\n",
       "      <td>126.815279</td>\n",
       "    </tr>\n",
       "    <tr>\n",
       "      <th>Rock</th>\n",
       "      <td>123.409935</td>\n",
       "    </tr>\n",
       "    <tr>\n",
       "      <th>Hip-Hop</th>\n",
       "      <td>122.601051</td>\n",
       "    </tr>\n",
       "    <tr>\n",
       "      <th>Pop</th>\n",
       "      <td>122.550709</td>\n",
       "    </tr>\n",
       "    <tr>\n",
       "      <th>Rap</th>\n",
       "      <td>119.833145</td>\n",
       "    </tr>\n",
       "    <tr>\n",
       "      <th>R&amp;B</th>\n",
       "      <td>117.631531</td>\n",
       "    </tr>\n",
       "    <tr>\n",
       "      <th>Jazz</th>\n",
       "      <td>111.894777</td>\n",
       "    </tr>\n",
       "    <tr>\n",
       "      <th>Classical</th>\n",
       "      <td>104.617212</td>\n",
       "    </tr>\n",
       "  </tbody>\n",
       "</table>\n",
       "</div>"
      ],
      "text/plain": [
       "                 tempo\n",
       "genre                 \n",
       "Electronic  126.815279\n",
       "Rock        123.409935\n",
       "Hip-Hop     122.601051\n",
       "Pop         122.550709\n",
       "Rap         119.833145\n",
       "R&B         117.631531\n",
       "Jazz        111.894777\n",
       "Classical   104.617212"
      ]
     },
     "execution_count": 22,
     "metadata": {},
     "output_type": "execute_result"
    }
   ],
   "source": [
    "df[['genre','tempo']].groupby('genre').mean().sort_values(by='tempo', ascending=False)"
   ]
  },
  {
   "cell_type": "code",
   "execution_count": 23,
   "id": "1d30c5c0",
   "metadata": {
    "scrolled": false
   },
   "outputs": [
    {
     "data": {
      "text/html": [
       "<div>\n",
       "<style scoped>\n",
       "    .dataframe tbody tr th:only-of-type {\n",
       "        vertical-align: middle;\n",
       "    }\n",
       "\n",
       "    .dataframe tbody tr th {\n",
       "        vertical-align: top;\n",
       "    }\n",
       "\n",
       "    .dataframe thead th {\n",
       "        text-align: right;\n",
       "    }\n",
       "</style>\n",
       "<table border=\"1\" class=\"dataframe\">\n",
       "  <thead>\n",
       "    <tr style=\"text-align: right;\">\n",
       "      <th></th>\n",
       "      <th>valence</th>\n",
       "    </tr>\n",
       "    <tr>\n",
       "      <th>genre</th>\n",
       "      <th></th>\n",
       "    </tr>\n",
       "  </thead>\n",
       "  <tbody>\n",
       "    <tr>\n",
       "      <th>Jazz</th>\n",
       "      <td>0.513024</td>\n",
       "    </tr>\n",
       "    <tr>\n",
       "      <th>Pop</th>\n",
       "      <td>0.510723</td>\n",
       "    </tr>\n",
       "    <tr>\n",
       "      <th>Rock</th>\n",
       "      <td>0.504130</td>\n",
       "    </tr>\n",
       "    <tr>\n",
       "      <th>Hip-Hop</th>\n",
       "      <td>0.482935</td>\n",
       "    </tr>\n",
       "    <tr>\n",
       "      <th>R&amp;B</th>\n",
       "      <td>0.447904</td>\n",
       "    </tr>\n",
       "    <tr>\n",
       "      <th>Rap</th>\n",
       "      <td>0.434643</td>\n",
       "    </tr>\n",
       "    <tr>\n",
       "      <th>Electronic</th>\n",
       "      <td>0.381457</td>\n",
       "    </tr>\n",
       "    <tr>\n",
       "      <th>Classical</th>\n",
       "      <td>0.222763</td>\n",
       "    </tr>\n",
       "  </tbody>\n",
       "</table>\n",
       "</div>"
      ],
      "text/plain": [
       "             valence\n",
       "genre               \n",
       "Jazz        0.513024\n",
       "Pop         0.510723\n",
       "Rock        0.504130\n",
       "Hip-Hop     0.482935\n",
       "R&B         0.447904\n",
       "Rap         0.434643\n",
       "Electronic  0.381457\n",
       "Classical   0.222763"
      ]
     },
     "execution_count": 23,
     "metadata": {},
     "output_type": "execute_result"
    }
   ],
   "source": [
    "df[['genre','valence']].groupby('genre').mean().sort_values(by='valence', ascending=False)"
   ]
  },
  {
   "cell_type": "markdown",
   "id": "73342405",
   "metadata": {},
   "source": [
    "**Key takeaways**: <br> \n",
    "\n",
    "Based on the tables above, these are the leading genres per song feature when averaged across all songs.\n",
    "\n",
    "- Classical music tend to be the longest and the most instrumental out of all genres.\n",
    "- Electronic music is usually fast and lively.\n",
    "- Hip-hop music has a lot of lyrics and is very \"dancy\".\n",
    "- Pop music is loud.\n",
    "- Jazz is high in valence (upbeat and happy sounding).\n",
    "\n",
    "|Classical       |Electronic|Hip-hop     |Pop     |Jazz   |\n",
    "|---             |---       |---         |---     |---    |\n",
    "|acousticness    |energy    |danceability|loudness|valence|\n",
    "|duration        |liveness  |speechiness |        |       |\n",
    "|instrumentalness|tempo     |            |        |       |"
   ]
  },
  {
   "cell_type": "markdown",
   "id": "d462e464",
   "metadata": {},
   "source": [
    "Finally, before we proceed to model building, we first have to convert our nominal labels into numerical labels."
   ]
  },
  {
   "cell_type": "code",
   "execution_count": 24,
   "id": "1bf520fe",
   "metadata": {},
   "outputs": [],
   "source": [
    "from sklearn import preprocessing"
   ]
  },
  {
   "cell_type": "code",
   "execution_count": 25,
   "id": "aea9bcf1",
   "metadata": {},
   "outputs": [],
   "source": [
    "label_enc = preprocessing.LabelEncoder()\n",
    "df[\"genre\"] = label_enc.fit_transform(df[\"genre\"])"
   ]
  },
  {
   "cell_type": "markdown",
   "id": "dbccdf67",
   "metadata": {},
   "source": [
    "Let us see the mapping of the original nominal labels and the numerical codes."
   ]
  },
  {
   "cell_type": "code",
   "execution_count": 26,
   "id": "a10d3858",
   "metadata": {
    "scrolled": true
   },
   "outputs": [
    {
     "name": "stdout",
     "output_type": "stream",
     "text": [
      "Mapping from nominal to numerical labels:\n",
      "{'Classical': 0, 'Electronic': 1, 'Hip-Hop': 2, 'Jazz': 3, 'Pop': 4, 'R&B': 5, 'Rap': 6, 'Rock': 7}\n"
     ]
    }
   ],
   "source": [
    "print(\"Mapping from nominal to numerical labels:\")\n",
    "print(dict(zip(label_enc.classes_,label_enc.transform(label_enc.classes_))))"
   ]
  },
  {
   "cell_type": "code",
   "execution_count": 27,
   "id": "624f23a9",
   "metadata": {},
   "outputs": [],
   "source": [
    "df = df.reset_index()\n",
    "df = df.drop(axis = 1, columns = ['index'])"
   ]
  },
  {
   "cell_type": "markdown",
   "id": "827537e5",
   "metadata": {},
   "source": [
    "Check dataframe after preprocessing. As expected, the `genre` column now has numerical values. "
   ]
  },
  {
   "cell_type": "code",
   "execution_count": 28,
   "id": "4c9dc70c",
   "metadata": {},
   "outputs": [
    {
     "data": {
      "text/html": [
       "<div>\n",
       "<style scoped>\n",
       "    .dataframe tbody tr th:only-of-type {\n",
       "        vertical-align: middle;\n",
       "    }\n",
       "\n",
       "    .dataframe tbody tr th {\n",
       "        vertical-align: top;\n",
       "    }\n",
       "\n",
       "    .dataframe thead th {\n",
       "        text-align: right;\n",
       "    }\n",
       "</style>\n",
       "<table border=\"1\" class=\"dataframe\">\n",
       "  <thead>\n",
       "    <tr style=\"text-align: right;\">\n",
       "      <th></th>\n",
       "      <th>danceability</th>\n",
       "      <th>energy</th>\n",
       "      <th>key</th>\n",
       "      <th>loudness</th>\n",
       "      <th>mode</th>\n",
       "      <th>speechiness</th>\n",
       "      <th>acousticness</th>\n",
       "      <th>instrumentalness</th>\n",
       "      <th>liveness</th>\n",
       "      <th>valence</th>\n",
       "      <th>tempo</th>\n",
       "      <th>duration_ms</th>\n",
       "      <th>time_signature</th>\n",
       "      <th>genre</th>\n",
       "    </tr>\n",
       "  </thead>\n",
       "  <tbody>\n",
       "    <tr>\n",
       "      <th>0</th>\n",
       "      <td>0.536</td>\n",
       "      <td>0.879</td>\n",
       "      <td>1</td>\n",
       "      <td>-3.019</td>\n",
       "      <td>1</td>\n",
       "      <td>0.0621</td>\n",
       "      <td>0.074200</td>\n",
       "      <td>0.000000</td>\n",
       "      <td>0.0847</td>\n",
       "      <td>0.334</td>\n",
       "      <td>140.137</td>\n",
       "      <td>192000</td>\n",
       "      <td>4</td>\n",
       "      <td>1</td>\n",
       "    </tr>\n",
       "    <tr>\n",
       "      <th>1</th>\n",
       "      <td>0.793</td>\n",
       "      <td>0.703</td>\n",
       "      <td>0</td>\n",
       "      <td>-9.548</td>\n",
       "      <td>1</td>\n",
       "      <td>0.0581</td>\n",
       "      <td>0.000726</td>\n",
       "      <td>0.880000</td>\n",
       "      <td>0.0750</td>\n",
       "      <td>0.856</td>\n",
       "      <td>130.270</td>\n",
       "      <td>450800</td>\n",
       "      <td>4</td>\n",
       "      <td>1</td>\n",
       "    </tr>\n",
       "    <tr>\n",
       "      <th>2</th>\n",
       "      <td>0.611</td>\n",
       "      <td>0.697</td>\n",
       "      <td>2</td>\n",
       "      <td>-8.618</td>\n",
       "      <td>1</td>\n",
       "      <td>0.1330</td>\n",
       "      <td>0.019300</td>\n",
       "      <td>0.000000</td>\n",
       "      <td>0.3320</td>\n",
       "      <td>0.476</td>\n",
       "      <td>122.752</td>\n",
       "      <td>320357</td>\n",
       "      <td>4</td>\n",
       "      <td>1</td>\n",
       "    </tr>\n",
       "    <tr>\n",
       "      <th>3</th>\n",
       "      <td>0.794</td>\n",
       "      <td>0.811</td>\n",
       "      <td>6</td>\n",
       "      <td>-8.966</td>\n",
       "      <td>0</td>\n",
       "      <td>0.0380</td>\n",
       "      <td>0.042600</td>\n",
       "      <td>0.000001</td>\n",
       "      <td>0.1010</td>\n",
       "      <td>0.862</td>\n",
       "      <td>116.047</td>\n",
       "      <td>248413</td>\n",
       "      <td>4</td>\n",
       "      <td>1</td>\n",
       "    </tr>\n",
       "    <tr>\n",
       "      <th>4</th>\n",
       "      <td>0.775</td>\n",
       "      <td>0.585</td>\n",
       "      <td>10</td>\n",
       "      <td>-9.516</td>\n",
       "      <td>0</td>\n",
       "      <td>0.0271</td>\n",
       "      <td>0.042200</td>\n",
       "      <td>0.619000</td>\n",
       "      <td>0.0770</td>\n",
       "      <td>0.518</td>\n",
       "      <td>109.942</td>\n",
       "      <td>337560</td>\n",
       "      <td>4</td>\n",
       "      <td>1</td>\n",
       "    </tr>\n",
       "    <tr>\n",
       "      <th>...</th>\n",
       "      <td>...</td>\n",
       "      <td>...</td>\n",
       "      <td>...</td>\n",
       "      <td>...</td>\n",
       "      <td>...</td>\n",
       "      <td>...</td>\n",
       "      <td>...</td>\n",
       "      <td>...</td>\n",
       "      <td>...</td>\n",
       "      <td>...</td>\n",
       "      <td>...</td>\n",
       "      <td>...</td>\n",
       "      <td>...</td>\n",
       "      <td>...</td>\n",
       "    </tr>\n",
       "    <tr>\n",
       "      <th>32212</th>\n",
       "      <td>0.630</td>\n",
       "      <td>0.688</td>\n",
       "      <td>2</td>\n",
       "      <td>-9.816</td>\n",
       "      <td>1</td>\n",
       "      <td>0.0266</td>\n",
       "      <td>0.124000</td>\n",
       "      <td>0.000048</td>\n",
       "      <td>0.1580</td>\n",
       "      <td>0.893</td>\n",
       "      <td>124.825</td>\n",
       "      <td>218040</td>\n",
       "      <td>4</td>\n",
       "      <td>7</td>\n",
       "    </tr>\n",
       "    <tr>\n",
       "      <th>32213</th>\n",
       "      <td>0.615</td>\n",
       "      <td>0.401</td>\n",
       "      <td>4</td>\n",
       "      <td>-14.070</td>\n",
       "      <td>0</td>\n",
       "      <td>0.0507</td>\n",
       "      <td>0.203000</td>\n",
       "      <td>0.000000</td>\n",
       "      <td>0.0860</td>\n",
       "      <td>0.672</td>\n",
       "      <td>87.959</td>\n",
       "      <td>264960</td>\n",
       "      <td>4</td>\n",
       "      <td>7</td>\n",
       "    </tr>\n",
       "    <tr>\n",
       "      <th>32214</th>\n",
       "      <td>0.394</td>\n",
       "      <td>0.682</td>\n",
       "      <td>9</td>\n",
       "      <td>-11.972</td>\n",
       "      <td>1</td>\n",
       "      <td>0.1110</td>\n",
       "      <td>0.033500</td>\n",
       "      <td>0.000231</td>\n",
       "      <td>0.3070</td>\n",
       "      <td>0.361</td>\n",
       "      <td>100.646</td>\n",
       "      <td>262747</td>\n",
       "      <td>4</td>\n",
       "      <td>7</td>\n",
       "    </tr>\n",
       "    <tr>\n",
       "      <th>32215</th>\n",
       "      <td>0.658</td>\n",
       "      <td>0.537</td>\n",
       "      <td>6</td>\n",
       "      <td>-7.535</td>\n",
       "      <td>0</td>\n",
       "      <td>0.0307</td>\n",
       "      <td>0.138000</td>\n",
       "      <td>0.000000</td>\n",
       "      <td>0.0572</td>\n",
       "      <td>0.887</td>\n",
       "      <td>132.115</td>\n",
       "      <td>116373</td>\n",
       "      <td>4</td>\n",
       "      <td>7</td>\n",
       "    </tr>\n",
       "    <tr>\n",
       "      <th>32216</th>\n",
       "      <td>0.718</td>\n",
       "      <td>0.593</td>\n",
       "      <td>0</td>\n",
       "      <td>-9.976</td>\n",
       "      <td>1</td>\n",
       "      <td>0.0377</td>\n",
       "      <td>0.670000</td>\n",
       "      <td>0.000000</td>\n",
       "      <td>0.1720</td>\n",
       "      <td>0.869</td>\n",
       "      <td>124.251</td>\n",
       "      <td>136067</td>\n",
       "      <td>4</td>\n",
       "      <td>7</td>\n",
       "    </tr>\n",
       "  </tbody>\n",
       "</table>\n",
       "<p>32217 rows × 14 columns</p>\n",
       "</div>"
      ],
      "text/plain": [
       "       danceability  energy key  loudness mode  speechiness  acousticness  \\\n",
       "0             0.536   0.879   1    -3.019    1       0.0621      0.074200   \n",
       "1             0.793   0.703   0    -9.548    1       0.0581      0.000726   \n",
       "2             0.611   0.697   2    -8.618    1       0.1330      0.019300   \n",
       "3             0.794   0.811   6    -8.966    0       0.0380      0.042600   \n",
       "4             0.775   0.585  10    -9.516    0       0.0271      0.042200   \n",
       "...             ...     ...  ..       ...  ...          ...           ...   \n",
       "32212         0.630   0.688   2    -9.816    1       0.0266      0.124000   \n",
       "32213         0.615   0.401   4   -14.070    0       0.0507      0.203000   \n",
       "32214         0.394   0.682   9   -11.972    1       0.1110      0.033500   \n",
       "32215         0.658   0.537   6    -7.535    0       0.0307      0.138000   \n",
       "32216         0.718   0.593   0    -9.976    1       0.0377      0.670000   \n",
       "\n",
       "       instrumentalness  liveness  valence    tempo  duration_ms  \\\n",
       "0              0.000000    0.0847    0.334  140.137       192000   \n",
       "1              0.880000    0.0750    0.856  130.270       450800   \n",
       "2              0.000000    0.3320    0.476  122.752       320357   \n",
       "3              0.000001    0.1010    0.862  116.047       248413   \n",
       "4              0.619000    0.0770    0.518  109.942       337560   \n",
       "...                 ...       ...      ...      ...          ...   \n",
       "32212          0.000048    0.1580    0.893  124.825       218040   \n",
       "32213          0.000000    0.0860    0.672   87.959       264960   \n",
       "32214          0.000231    0.3070    0.361  100.646       262747   \n",
       "32215          0.000000    0.0572    0.887  132.115       116373   \n",
       "32216          0.000000    0.1720    0.869  124.251       136067   \n",
       "\n",
       "       time_signature  genre  \n",
       "0                   4      1  \n",
       "1                   4      1  \n",
       "2                   4      1  \n",
       "3                   4      1  \n",
       "4                   4      1  \n",
       "...               ...    ...  \n",
       "32212               4      7  \n",
       "32213               4      7  \n",
       "32214               4      7  \n",
       "32215               4      7  \n",
       "32216               4      7  \n",
       "\n",
       "[32217 rows x 14 columns]"
      ]
     },
     "execution_count": 28,
     "metadata": {},
     "output_type": "execute_result"
    }
   ],
   "source": [
    "df"
   ]
  },
  {
   "cell_type": "markdown",
   "id": "5b115e44",
   "metadata": {},
   "source": [
    "# Building the models"
   ]
  },
  {
   "cell_type": "markdown",
   "id": "4f8df578",
   "metadata": {},
   "source": [
    "## Train/test split"
   ]
  },
  {
   "cell_type": "markdown",
   "id": "463a9721",
   "metadata": {},
   "source": [
    "Prepare the `X` feature dataset and `y` label vector."
   ]
  },
  {
   "cell_type": "code",
   "execution_count": 29,
   "id": "71934bd8",
   "metadata": {},
   "outputs": [],
   "source": [
    "X_genre =  df.values[:,:-1]\n",
    "y_genre = df.values[:,-1].astype(int)"
   ]
  },
  {
   "cell_type": "markdown",
   "id": "daf34bc9",
   "metadata": {},
   "source": [
    "Split `X_genre` and `y_genre` into training and test sets."
   ]
  },
  {
   "cell_type": "code",
   "execution_count": 30,
   "id": "932aba50",
   "metadata": {},
   "outputs": [],
   "source": [
    "from sklearn.model_selection import train_test_split"
   ]
  },
  {
   "cell_type": "code",
   "execution_count": 31,
   "id": "235133e5",
   "metadata": {},
   "outputs": [
    {
     "name": "stdout",
     "output_type": "stream",
     "text": [
      "Genre train and test split\n",
      "X_train:  (27384, 13)\n",
      "y_train:  (27384,)\n",
      "X_test:   (4833, 13)\n",
      "y_test:   (4833,)\n"
     ]
    }
   ],
   "source": [
    "X_train, X_test, y_train, y_test = train_test_split(X_genre, y_genre, test_size = 0.15, random_state = 1, stratify = y_genre)\n",
    " \n",
    "print(\"Genre train and test split\")\n",
    "print(\"X_train: \", X_train.shape)\n",
    "print(\"y_train: \", y_train.shape)\n",
    "print(\"X_test:  \", X_test.shape)\n",
    "print(\"y_test:  \", y_test.shape)"
   ]
  },
  {
   "cell_type": "markdown",
   "id": "cf17f49e",
   "metadata": {},
   "source": [
    "Create a function that computes accuracy. Let us call it `compute_accuracy`."
   ]
  },
  {
   "cell_type": "code",
   "execution_count": 32,
   "id": "562198d8",
   "metadata": {},
   "outputs": [],
   "source": [
    "def compute_accuracy(predictions, actual):\n",
    "    \n",
    "    num_correct = sum(predictions == actual)\n",
    "    accuracy = (num_correct/len(actual)) * 100\n",
    "    \n",
    "    return accuracy"
   ]
  },
  {
   "cell_type": "markdown",
   "id": "e77b170c",
   "metadata": {},
   "source": [
    "## Gaussian Naive Bayes"
   ]
  },
  {
   "cell_type": "code",
   "execution_count": 33,
   "id": "d3ee175a",
   "metadata": {},
   "outputs": [],
   "source": [
    "from sklearn.naive_bayes import GaussianNB"
   ]
  },
  {
   "cell_type": "code",
   "execution_count": 34,
   "id": "289819b3",
   "metadata": {},
   "outputs": [],
   "source": [
    "nb_genre = GaussianNB()"
   ]
  },
  {
   "cell_type": "code",
   "execution_count": 35,
   "id": "9d9530b8",
   "metadata": {},
   "outputs": [
    {
     "data": {
      "text/plain": [
       "GaussianNB()"
      ]
     },
     "execution_count": 35,
     "metadata": {},
     "output_type": "execute_result"
    }
   ],
   "source": [
    "nb_genre.fit(X_train, y_train)"
   ]
  },
  {
   "cell_type": "code",
   "execution_count": 36,
   "id": "a2b9c7b9",
   "metadata": {},
   "outputs": [],
   "source": [
    "nb_train_predictions = nb_genre.predict(X_train)"
   ]
  },
  {
   "cell_type": "code",
   "execution_count": 37,
   "id": "24d66045",
   "metadata": {},
   "outputs": [
    {
     "name": "stdout",
     "output_type": "stream",
     "text": [
      "Training accuracy:  49.934268185801926 %\n"
     ]
    }
   ],
   "source": [
    "print(\"Training accuracy: \", compute_accuracy(nb_train_predictions, y_train), \"%\")"
   ]
  },
  {
   "cell_type": "code",
   "execution_count": 38,
   "id": "3d24b0b4",
   "metadata": {},
   "outputs": [],
   "source": [
    "nb_test_predictions = nb_genre.predict(X_test)"
   ]
  },
  {
   "cell_type": "code",
   "execution_count": 39,
   "id": "428e0a34",
   "metadata": {},
   "outputs": [
    {
     "name": "stdout",
     "output_type": "stream",
     "text": [
      "Test set accuracy:  50.5276225946617 %\n"
     ]
    }
   ],
   "source": [
    "print(\"Test set accuracy: \", compute_accuracy(nb_test_predictions, y_test), \"%\")"
   ]
  },
  {
   "cell_type": "markdown",
   "id": "cb5b1450",
   "metadata": {},
   "source": [
    "### Hyperparameter Tuning (Gaussian NB)"
   ]
  },
  {
   "cell_type": "code",
   "execution_count": 40,
   "id": "9e358062",
   "metadata": {
    "scrolled": false
   },
   "outputs": [
    {
     "data": {
      "text/plain": [
       "{'priors': None, 'var_smoothing': 1e-09}"
      ]
     },
     "execution_count": 40,
     "metadata": {},
     "output_type": "execute_result"
    }
   ],
   "source": [
    "nb_genre.get_params()"
   ]
  },
  {
   "cell_type": "code",
   "execution_count": 41,
   "id": "e85b4597",
   "metadata": {},
   "outputs": [],
   "source": [
    "from sklearn.model_selection import GridSearchCV"
   ]
  },
  {
   "cell_type": "code",
   "execution_count": 42,
   "id": "13c4f939",
   "metadata": {},
   "outputs": [],
   "source": [
    "params_NB = {'var_smoothing': np.logspace(0,-9, num = 100)}"
   ]
  },
  {
   "cell_type": "code",
   "execution_count": 43,
   "id": "cee35c3d",
   "metadata": {},
   "outputs": [
    {
     "data": {
      "text/plain": [
       "{'var_smoothing': 1e-09}"
      ]
     },
     "execution_count": 43,
     "metadata": {},
     "output_type": "execute_result"
    }
   ],
   "source": [
    "# tuning the model\n",
    "gs_NB = GridSearchCV(nb_genre, params_NB, cv = 10, scoring = 'accuracy') \n",
    "gs_NB.fit(X_train, y_train)\n",
    "\n",
    "gs_NB.best_params_"
   ]
  },
  {
   "cell_type": "markdown",
   "id": "4a22d651",
   "metadata": {},
   "source": [
    "## Logistic Regression"
   ]
  },
  {
   "cell_type": "code",
   "execution_count": 44,
   "id": "7c7bc93e",
   "metadata": {},
   "outputs": [],
   "source": [
    "from sklearn.linear_model import LogisticRegression"
   ]
  },
  {
   "cell_type": "code",
   "execution_count": 45,
   "id": "1d1a2d1e",
   "metadata": {},
   "outputs": [],
   "source": [
    "lr_genre = LogisticRegression()"
   ]
  },
  {
   "cell_type": "code",
   "execution_count": 46,
   "id": "b19d8fd6",
   "metadata": {},
   "outputs": [
    {
     "data": {
      "text/plain": [
       "LogisticRegression()"
      ]
     },
     "execution_count": 46,
     "metadata": {},
     "output_type": "execute_result"
    }
   ],
   "source": [
    "lr_genre.fit(X_train, y_train)"
   ]
  },
  {
   "cell_type": "code",
   "execution_count": 47,
   "id": "9d63e003",
   "metadata": {},
   "outputs": [],
   "source": [
    "lr_train_predictions = lr_genre.predict(X_train)"
   ]
  },
  {
   "cell_type": "code",
   "execution_count": 48,
   "id": "aeb96e18",
   "metadata": {},
   "outputs": [
    {
     "name": "stdout",
     "output_type": "stream",
     "text": [
      "Training accuracy:  32.27432077125329 %\n"
     ]
    }
   ],
   "source": [
    "print(\"Training accuracy: \", compute_accuracy(lr_train_predictions, y_train), \"%\")"
   ]
  },
  {
   "cell_type": "code",
   "execution_count": 49,
   "id": "fec58a6c",
   "metadata": {},
   "outputs": [],
   "source": [
    "lr_test_predictions = lr_genre.predict(X_test)"
   ]
  },
  {
   "cell_type": "code",
   "execution_count": 50,
   "id": "e78a5db9",
   "metadata": {},
   "outputs": [
    {
     "name": "stdout",
     "output_type": "stream",
     "text": [
      "Test set accuracy:  31.96772191185599 %\n"
     ]
    }
   ],
   "source": [
    "print(\"Test set accuracy: \", compute_accuracy(lr_test_predictions, y_test), \"%\")"
   ]
  },
  {
   "cell_type": "markdown",
   "id": "5c39fbe0",
   "metadata": {},
   "source": [
    "## Random Forest Classifier"
   ]
  },
  {
   "cell_type": "code",
   "execution_count": 51,
   "id": "5790785f",
   "metadata": {},
   "outputs": [],
   "source": [
    "from sklearn.ensemble import RandomForestClassifier"
   ]
  },
  {
   "cell_type": "code",
   "execution_count": 52,
   "id": "62000895",
   "metadata": {},
   "outputs": [],
   "source": [
    "rfc_genre = RandomForestClassifier()"
   ]
  },
  {
   "cell_type": "code",
   "execution_count": 53,
   "id": "ef305d79",
   "metadata": {},
   "outputs": [
    {
     "data": {
      "text/plain": [
       "{'bootstrap': True,\n",
       " 'ccp_alpha': 0.0,\n",
       " 'class_weight': None,\n",
       " 'criterion': 'gini',\n",
       " 'max_depth': None,\n",
       " 'max_features': 'auto',\n",
       " 'max_leaf_nodes': None,\n",
       " 'max_samples': None,\n",
       " 'min_impurity_decrease': 0.0,\n",
       " 'min_samples_leaf': 1,\n",
       " 'min_samples_split': 2,\n",
       " 'min_weight_fraction_leaf': 0.0,\n",
       " 'n_estimators': 100,\n",
       " 'n_jobs': None,\n",
       " 'oob_score': False,\n",
       " 'random_state': None,\n",
       " 'verbose': 0,\n",
       " 'warm_start': False}"
      ]
     },
     "execution_count": 53,
     "metadata": {},
     "output_type": "execute_result"
    }
   ],
   "source": [
    "rfc_genre.get_params()"
   ]
  },
  {
   "cell_type": "code",
   "execution_count": 54,
   "id": "ae45a4b8",
   "metadata": {},
   "outputs": [
    {
     "data": {
      "text/plain": [
       "RandomForestClassifier()"
      ]
     },
     "execution_count": 54,
     "metadata": {},
     "output_type": "execute_result"
    }
   ],
   "source": [
    "rfc_genre.fit(X_train, y_train)"
   ]
  },
  {
   "cell_type": "code",
   "execution_count": 55,
   "id": "fb825f52",
   "metadata": {},
   "outputs": [],
   "source": [
    "rfc_train_predictions = rfc_genre.predict(X_train)"
   ]
  },
  {
   "cell_type": "code",
   "execution_count": 56,
   "id": "fb5357c2",
   "metadata": {},
   "outputs": [
    {
     "name": "stdout",
     "output_type": "stream",
     "text": [
      "Training accuracy:  99.9926964650891 %\n"
     ]
    }
   ],
   "source": [
    "print(\"Training accuracy: \", compute_accuracy(rfc_train_predictions, y_train), \"%\")"
   ]
  },
  {
   "cell_type": "code",
   "execution_count": 57,
   "id": "2ce02daf",
   "metadata": {},
   "outputs": [],
   "source": [
    "rfc_test_predictions = rfc_genre.predict(X_test)"
   ]
  },
  {
   "cell_type": "code",
   "execution_count": 58,
   "id": "0c597a57",
   "metadata": {},
   "outputs": [
    {
     "name": "stdout",
     "output_type": "stream",
     "text": [
      "Test set accuracy:  68.83923029174426 %\n"
     ]
    }
   ],
   "source": [
    "print(\"Test set accuracy: \", compute_accuracy(rfc_test_predictions, y_test), \"%\")"
   ]
  },
  {
   "cell_type": "markdown",
   "id": "7dc6fa90",
   "metadata": {},
   "source": [
    "### Hyperparameter Tuning (Random Forest Classifier)"
   ]
  },
  {
   "cell_type": "code",
   "execution_count": 59,
   "id": "17026885",
   "metadata": {},
   "outputs": [],
   "source": [
    "hyperparameters = [\n",
    "    {\n",
    "    'n_estimators': [100, 200, 300, 400, 500],\n",
    "    'criterion': ['gini', 'entropy'],\n",
    "    'max_depth' : [5, 10, 20, 30],\n",
    "    'min_samples_split' : [2, 4, 6, 10, 15, 20],\n",
    "    'max_leaf_nodes': [3, 5, 10, 20, 50, 100]\n",
    "    }\n",
    "]"
   ]
  },
  {
   "cell_type": "code",
   "execution_count": 60,
   "id": "c63d182a",
   "metadata": {},
   "outputs": [],
   "source": [
    "from sklearn.model_selection import RandomizedSearchCV"
   ]
  },
  {
   "cell_type": "code",
   "execution_count": 61,
   "id": "22887b54",
   "metadata": {},
   "outputs": [
    {
     "data": {
      "text/plain": [
       "RandomizedSearchCV(cv=5, estimator=RandomForestClassifier(), n_iter=20,\n",
       "                   param_distributions=[{'criterion': ['gini', 'entropy'],\n",
       "                                         'max_depth': [5, 10, 20, 30],\n",
       "                                         'max_leaf_nodes': [3, 5, 10, 20, 50,\n",
       "                                                            100],\n",
       "                                         'min_samples_split': [2, 4, 6, 10, 15,\n",
       "                                                               20],\n",
       "                                         'n_estimators': [100, 200, 300, 400,\n",
       "                                                          500]}],\n",
       "                   random_state=42)"
      ]
     },
     "execution_count": 61,
     "metadata": {},
     "output_type": "execute_result"
    }
   ],
   "source": [
    "rsrfc = RandomizedSearchCV(rfc_genre,hyperparameters, n_iter=20,cv =5, random_state=42 )\n",
    "rsrfc.fit(X_train,y_train)"
   ]
  },
  {
   "cell_type": "code",
   "execution_count": 62,
   "id": "a62f7d2e",
   "metadata": {},
   "outputs": [
    {
     "name": "stdout",
     "output_type": "stream",
     "text": [
      "Best tuned random forest performance: \t 65.56382937719634 %\n"
     ]
    }
   ],
   "source": [
    "print(\"Best tuned random forest performance: \\t\", rsrfc.best_score_*100, \"%\")"
   ]
  },
  {
   "cell_type": "code",
   "execution_count": 64,
   "id": "1643c58e",
   "metadata": {},
   "outputs": [],
   "source": [
    "best_model = rsrfc.best_estimator_"
   ]
  },
  {
   "cell_type": "code",
   "execution_count": 65,
   "id": "d961c572",
   "metadata": {},
   "outputs": [
    {
     "name": "stdout",
     "output_type": "stream",
     "text": [
      "Best model test accuracy: 68.83923029174426 %\n"
     ]
    }
   ],
   "source": [
    "predictions_test = rfc_genre.predict(X_test)\n",
    "\n",
    "acc = compute_accuracy(predictions_test, y_test)\n",
    "print(\"Best model test accuracy:\",acc,\"%\")"
   ]
  },
  {
   "cell_type": "markdown",
   "id": "f6b82d14",
   "metadata": {},
   "source": [
    "## Neural Networks"
   ]
  },
  {
   "cell_type": "code",
   "execution_count": 66,
   "id": "6d332d59",
   "metadata": {},
   "outputs": [],
   "source": [
    "# import here\n",
    "from sklearn.neural_network import MLPClassifier "
   ]
  },
  {
   "cell_type": "code",
   "execution_count": 67,
   "id": "f795fabc",
   "metadata": {},
   "outputs": [],
   "source": [
    "nn_genre = MLPClassifier()"
   ]
  },
  {
   "cell_type": "code",
   "execution_count": 68,
   "id": "1f8f4836",
   "metadata": {},
   "outputs": [
    {
     "data": {
      "text/plain": [
       "MLPClassifier()"
      ]
     },
     "execution_count": 68,
     "metadata": {},
     "output_type": "execute_result"
    }
   ],
   "source": [
    "nn_genre.fit(X_train, y_train)"
   ]
  },
  {
   "cell_type": "code",
   "execution_count": 69,
   "id": "20c95de7",
   "metadata": {},
   "outputs": [],
   "source": [
    "nn_train_predictions = nn_genre.predict(X_train)"
   ]
  },
  {
   "cell_type": "code",
   "execution_count": 70,
   "id": "c849e54c",
   "metadata": {},
   "outputs": [
    {
     "name": "stdout",
     "output_type": "stream",
     "text": [
      "Training accuracy:  24.780893952673093 %\n"
     ]
    }
   ],
   "source": [
    "print(\"Training accuracy: \", compute_accuracy(nn_train_predictions, y_train), \"%\")"
   ]
  },
  {
   "cell_type": "code",
   "execution_count": 71,
   "id": "6e698dd4",
   "metadata": {},
   "outputs": [],
   "source": [
    "nn_test_predictions = nn_genre.predict(X_test)"
   ]
  },
  {
   "cell_type": "code",
   "execution_count": 72,
   "id": "ae1b194e",
   "metadata": {},
   "outputs": [
    {
     "name": "stdout",
     "output_type": "stream",
     "text": [
      "Test set accuracy:  24.663769915166565 %\n"
     ]
    }
   ],
   "source": [
    "print(\"Test set accuracy: \", compute_accuracy(nn_test_predictions, y_test), \"%\")"
   ]
  },
  {
   "cell_type": "markdown",
   "id": "558a98cb",
   "metadata": {},
   "source": [
    "# Spotify API"
   ]
  },
  {
   "cell_type": "markdown",
   "id": "8256b9a5",
   "metadata": {},
   "source": [
    "Import necessary libraries and initialize `Spotify` object."
   ]
  },
  {
   "cell_type": "code",
   "execution_count": 73,
   "id": "d33462cc",
   "metadata": {},
   "outputs": [],
   "source": [
    "import spotipy\n",
    "from spotipy.oauth2 import SpotifyClientCredentials"
   ]
  },
  {
   "cell_type": "code",
   "execution_count": 74,
   "id": "d3a30d0e",
   "metadata": {},
   "outputs": [],
   "source": [
    "sp = spotipy.Spotify(auth_manager=SpotifyClientCredentials(client_id=\"9d4f5395df08402c8b25d34f50f7504f\",\n",
    "                                                           client_secret=\"3a450bdfecdb42d0a66e81320b8012ee\"))"
   ]
  },
  {
   "cell_type": "markdown",
   "id": "5fa58110",
   "metadata": {},
   "source": [
    "Choose a song and **enter its Spotify link** below!"
   ]
  },
  {
   "cell_type": "code",
   "execution_count": null,
   "id": "88ff0f45",
   "metadata": {},
   "outputs": [],
   "source": [
    "song_link = input(\"Enter song link: \")"
   ]
  },
  {
   "cell_type": "code",
   "execution_count": null,
   "id": "4f06d567",
   "metadata": {},
   "outputs": [],
   "source": [
    "result_object = sp.track(song_link)\n",
    "title = result_object.get('name')\n",
    "artist = result_object.get('album').get('artists')[0].get('name')"
   ]
  },
  {
   "cell_type": "code",
   "execution_count": null,
   "id": "f8ed3778",
   "metadata": {},
   "outputs": [],
   "source": [
    "print('The title of the song is ' + title + ' by ' + artist + '. Its audio features will be shown below.')"
   ]
  },
  {
   "cell_type": "markdown",
   "id": "85c6f56d",
   "metadata": {},
   "source": [
    "Retreive the song's audio features using the `Spotify` object and remove unecessary keys."
   ]
  },
  {
   "cell_type": "code",
   "execution_count": null,
   "id": "2c8b4feb",
   "metadata": {},
   "outputs": [],
   "source": [
    "audio_features = sp.audio_features(song_link)\n",
    "\n",
    "keys_to_remove = ('type', 'uri', 'track_href', 'analysis_url', 'id')\n",
    "\n",
    "for key in keys_to_remove:\n",
    "    audio_features[0].pop(key, None)"
   ]
  },
  {
   "cell_type": "code",
   "execution_count": null,
   "id": "0b99d385",
   "metadata": {},
   "outputs": [],
   "source": [
    "pd.DataFrame(audio_features)"
   ]
  },
  {
   "cell_type": "markdown",
   "id": "70bf20fb",
   "metadata": {},
   "source": [
    "Convert dictionary into list to be used by the model."
   ]
  },
  {
   "cell_type": "code",
   "execution_count": null,
   "id": "1b01f94e",
   "metadata": {},
   "outputs": [],
   "source": [
    "test_case = list(audio_features[0].values())"
   ]
  },
  {
   "cell_type": "markdown",
   "id": "a0f10677",
   "metadata": {},
   "source": [
    "Predict the song's genre using the model."
   ]
  },
  {
   "cell_type": "code",
   "execution_count": null,
   "id": "48b208ef",
   "metadata": {},
   "outputs": [],
   "source": [
    "label_enc.classes_[df['genre'].unique()]"
   ]
  },
  {
   "cell_type": "markdown",
   "id": "1fee9fcd",
   "metadata": {},
   "source": [
    "**Model objects**\n",
    "- Naive Bayes: `nb_genre`\n",
    "- Logistic Regression: `lr_genre` \n",
    "- Random Forest Classifier: `rfc_genre`"
   ]
  },
  {
   "cell_type": "code",
   "execution_count": null,
   "id": "c29a99e3",
   "metadata": {},
   "outputs": [],
   "source": [
    "prediction = label_enc.classes_[rfc_genre.predict([test_case])[0]]\n",
    "print(\"The model's predicted genre for \" + title + ' is ' + prediction + '.')"
   ]
  }
 ],
 "metadata": {
  "kernelspec": {
   "display_name": "Python 3 (ipykernel)",
   "language": "python",
   "name": "python3"
  },
  "language_info": {
   "codemirror_mode": {
    "name": "ipython",
    "version": 3
   },
   "file_extension": ".py",
   "mimetype": "text/x-python",
   "name": "python",
   "nbconvert_exporter": "python",
   "pygments_lexer": "ipython3",
   "version": "3.9.7"
  },
  "toc": {
   "base_numbering": 1,
   "nav_menu": {},
   "number_sections": true,
   "sideBar": true,
   "skip_h1_title": false,
   "title_cell": "Table of Contents",
   "title_sidebar": "Contents",
   "toc_cell": false,
   "toc_position": {},
   "toc_section_display": true,
   "toc_window_display": false
  },
  "varInspector": {
   "cols": {
    "lenName": 16,
    "lenType": 16,
    "lenVar": 40
   },
   "kernels_config": {
    "python": {
     "delete_cmd_postfix": "",
     "delete_cmd_prefix": "del ",
     "library": "var_list.py",
     "varRefreshCmd": "print(var_dic_list())"
    },
    "r": {
     "delete_cmd_postfix": ") ",
     "delete_cmd_prefix": "rm(",
     "library": "var_list.r",
     "varRefreshCmd": "cat(var_dic_list()) "
    }
   },
   "types_to_exclude": [
    "module",
    "function",
    "builtin_function_or_method",
    "instance",
    "_Feature"
   ],
   "window_display": false
  }
 },
 "nbformat": 4,
 "nbformat_minor": 5
}
