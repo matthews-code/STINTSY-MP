{
 "cells": [
  {
   "cell_type": "markdown",
   "id": "62864ea8",
   "metadata": {},
   "source": [
    "# Dataset cleaning"
   ]
  },
  {
   "cell_type": "code",
   "execution_count": 1,
   "id": "327e394b",
   "metadata": {},
   "outputs": [],
   "source": [
    "import matplotlib.pyplot as plt\n",
    "import numpy as np\n",
    "import pandas as pd"
   ]
  },
  {
   "cell_type": "markdown",
   "id": "6abd1cf2",
   "metadata": {},
   "source": [
    "Read CSV file."
   ]
  },
  {
   "cell_type": "code",
   "execution_count": 2,
   "id": "272611e5",
   "metadata": {
    "scrolled": true
   },
   "outputs": [
    {
     "name": "stderr",
     "output_type": "stream",
     "text": [
      "C:\\Users\\buens\\AppData\\Local\\Temp\\ipykernel_14144\\1385207280.py:1: DtypeWarning: Columns (19) have mixed types. Specify dtype option on import or set low_memory=False.\n",
      "  df = pd.read_csv('Dataset.csv')\n"
     ]
    }
   ],
   "source": [
    "df = pd.read_csv('Dataset.csv')"
   ]
  },
  {
   "cell_type": "markdown",
   "id": "a69c7cb0",
   "metadata": {},
   "source": [
    "Drop unneeded columns."
   ]
  },
  {
   "cell_type": "code",
   "execution_count": 3,
   "id": "95f39381",
   "metadata": {
    "scrolled": false
   },
   "outputs": [],
   "source": [
    "df = df.drop(axis = 1, columns = ['type', 'id', 'uri', 'track_href', 'analysis_url', 'Unnamed: 0', 'title', 'song_name'])"
   ]
  },
  {
   "cell_type": "code",
   "execution_count": 4,
   "id": "273f95af",
   "metadata": {},
   "outputs": [
    {
     "data": {
      "text/plain": [
       "array(['Dark Trap', 'Underground Rap', 'Trap Metal', 'Emo', 'Rap', 'RnB',\n",
       "       'Pop', 'Hiphop', 'techhouse', 'techno', 'trance', 'psytrance',\n",
       "       'trap', 'dnb', 'hardstyle'], dtype=object)"
      ]
     },
     "execution_count": 4,
     "metadata": {},
     "output_type": "execute_result"
    }
   ],
   "source": [
    "df['genre'].unique()"
   ]
  },
  {
   "cell_type": "markdown",
   "id": "9ceeb64e",
   "metadata": {},
   "source": [
    "Identify number of songs for each genre."
   ]
  },
  {
   "cell_type": "code",
   "execution_count": 5,
   "id": "db580162",
   "metadata": {},
   "outputs": [
    {
     "data": {
      "text/plain": [
       "Underground Rap    5875\n",
       "Dark Trap          4578\n",
       "Hiphop             3028\n",
       "trance             2999\n",
       "trap               2987\n",
       "techhouse          2975\n",
       "dnb                2966\n",
       "psytrance          2961\n",
       "techno             2956\n",
       "hardstyle          2936\n",
       "RnB                2099\n",
       "Trap Metal         1956\n",
       "Rap                1848\n",
       "Emo                1680\n",
       "Pop                 461\n",
       "Name: genre, dtype: int64"
      ]
     },
     "execution_count": 5,
     "metadata": {},
     "output_type": "execute_result"
    }
   ],
   "source": [
    "df['genre'].value_counts()"
   ]
  },
  {
   "cell_type": "markdown",
   "id": "6a17519f",
   "metadata": {},
   "source": [
    "Since we are only going to use 10 genres for this model, drop the the 5 genres with the least number of songs."
   ]
  },
  {
   "cell_type": "code",
   "execution_count": 6,
   "id": "00216cae",
   "metadata": {},
   "outputs": [],
   "source": [
    "df = df[df['genre'].str.match('RnB|Trap Metal|Rap|Emo|Pop') == False]"
   ]
  },
  {
   "cell_type": "markdown",
   "id": "e26810d8",
   "metadata": {},
   "source": [
    "Check to see if the genres have been successfully dropped."
   ]
  },
  {
   "cell_type": "code",
   "execution_count": 7,
   "id": "17f1b01d",
   "metadata": {},
   "outputs": [
    {
     "data": {
      "text/plain": [
       "array(['Dark Trap', 'Underground Rap', 'Hiphop', 'techhouse', 'techno',\n",
       "       'trance', 'psytrance', 'trap', 'dnb', 'hardstyle'], dtype=object)"
      ]
     },
     "execution_count": 7,
     "metadata": {},
     "output_type": "execute_result"
    }
   ],
   "source": [
    "df['genre'].unique()"
   ]
  },
  {
   "cell_type": "code",
   "execution_count": 8,
   "id": "575580a2",
   "metadata": {},
   "outputs": [],
   "source": [
    "df = df.reset_index()\n",
    "df = df.drop(axis = 1, columns = ['index'])"
   ]
  },
  {
   "cell_type": "markdown",
   "id": "d462e464",
   "metadata": {},
   "source": [
    "Next, we have to convert our nominal labels into numerical labels."
   ]
  },
  {
   "cell_type": "code",
   "execution_count": 9,
   "id": "1bf520fe",
   "metadata": {},
   "outputs": [],
   "source": [
    "from sklearn import preprocessing"
   ]
  },
  {
   "cell_type": "code",
   "execution_count": 10,
   "id": "aea9bcf1",
   "metadata": {},
   "outputs": [],
   "source": [
    "label_enc = preprocessing.LabelEncoder()\n",
    "# df[\"genre\"] = label_enc.fit_transform(df[\"genre\"])"
   ]
  },
  {
   "cell_type": "markdown",
   "id": "dbccdf67",
   "metadata": {},
   "source": [
    "Let us see the mapping of the original nominal labels and the numerical codes."
   ]
  },
  {
   "cell_type": "code",
   "execution_count": 11,
   "id": "a10d3858",
   "metadata": {
    "scrolled": true
   },
   "outputs": [
    {
     "name": "stdout",
     "output_type": "stream",
     "text": [
      "Mapping from nominal to numerical labels:\n"
     ]
    }
   ],
   "source": [
    "print(\"Mapping from nominal to numerical labels:\")\n",
    "# print(dict(zip(label_enc.classes_,label_enc.transform(label_enc.classes_))))"
   ]
  },
  {
   "cell_type": "markdown",
   "id": "827537e5",
   "metadata": {},
   "source": [
    "Check dataframe after preprocessing. As expected, the `genre` column now has numerical values. "
   ]
  },
  {
   "cell_type": "code",
   "execution_count": 12,
   "id": "31e1c126",
   "metadata": {
    "scrolled": true
   },
   "outputs": [
    {
     "data": {
      "text/html": [
       "<div>\n",
       "<style scoped>\n",
       "    .dataframe tbody tr th:only-of-type {\n",
       "        vertical-align: middle;\n",
       "    }\n",
       "\n",
       "    .dataframe tbody tr th {\n",
       "        vertical-align: top;\n",
       "    }\n",
       "\n",
       "    .dataframe thead th {\n",
       "        text-align: right;\n",
       "    }\n",
       "</style>\n",
       "<table border=\"1\" class=\"dataframe\">\n",
       "  <thead>\n",
       "    <tr style=\"text-align: right;\">\n",
       "      <th></th>\n",
       "      <th>danceability</th>\n",
       "      <th>energy</th>\n",
       "      <th>key</th>\n",
       "      <th>loudness</th>\n",
       "      <th>mode</th>\n",
       "      <th>speechiness</th>\n",
       "      <th>acousticness</th>\n",
       "      <th>instrumentalness</th>\n",
       "      <th>liveness</th>\n",
       "      <th>valence</th>\n",
       "      <th>tempo</th>\n",
       "      <th>duration_ms</th>\n",
       "      <th>time_signature</th>\n",
       "      <th>genre</th>\n",
       "    </tr>\n",
       "  </thead>\n",
       "  <tbody>\n",
       "    <tr>\n",
       "      <th>0</th>\n",
       "      <td>0.831</td>\n",
       "      <td>0.814</td>\n",
       "      <td>2</td>\n",
       "      <td>-7.364</td>\n",
       "      <td>1</td>\n",
       "      <td>0.4200</td>\n",
       "      <td>0.059800</td>\n",
       "      <td>0.013400</td>\n",
       "      <td>0.0556</td>\n",
       "      <td>0.3890</td>\n",
       "      <td>156.985</td>\n",
       "      <td>124539</td>\n",
       "      <td>4</td>\n",
       "      <td>Dark Trap</td>\n",
       "    </tr>\n",
       "    <tr>\n",
       "      <th>1</th>\n",
       "      <td>0.719</td>\n",
       "      <td>0.493</td>\n",
       "      <td>8</td>\n",
       "      <td>-7.230</td>\n",
       "      <td>1</td>\n",
       "      <td>0.0794</td>\n",
       "      <td>0.401000</td>\n",
       "      <td>0.000000</td>\n",
       "      <td>0.1180</td>\n",
       "      <td>0.1240</td>\n",
       "      <td>115.080</td>\n",
       "      <td>224427</td>\n",
       "      <td>4</td>\n",
       "      <td>Dark Trap</td>\n",
       "    </tr>\n",
       "    <tr>\n",
       "      <th>2</th>\n",
       "      <td>0.850</td>\n",
       "      <td>0.893</td>\n",
       "      <td>5</td>\n",
       "      <td>-4.783</td>\n",
       "      <td>1</td>\n",
       "      <td>0.0623</td>\n",
       "      <td>0.013800</td>\n",
       "      <td>0.000004</td>\n",
       "      <td>0.3720</td>\n",
       "      <td>0.0391</td>\n",
       "      <td>218.050</td>\n",
       "      <td>98821</td>\n",
       "      <td>4</td>\n",
       "      <td>Dark Trap</td>\n",
       "    </tr>\n",
       "    <tr>\n",
       "      <th>3</th>\n",
       "      <td>0.476</td>\n",
       "      <td>0.781</td>\n",
       "      <td>0</td>\n",
       "      <td>-4.710</td>\n",
       "      <td>1</td>\n",
       "      <td>0.1030</td>\n",
       "      <td>0.023700</td>\n",
       "      <td>0.000000</td>\n",
       "      <td>0.1140</td>\n",
       "      <td>0.1750</td>\n",
       "      <td>186.948</td>\n",
       "      <td>123661</td>\n",
       "      <td>3</td>\n",
       "      <td>Dark Trap</td>\n",
       "    </tr>\n",
       "    <tr>\n",
       "      <th>4</th>\n",
       "      <td>0.798</td>\n",
       "      <td>0.624</td>\n",
       "      <td>2</td>\n",
       "      <td>-7.668</td>\n",
       "      <td>1</td>\n",
       "      <td>0.2930</td>\n",
       "      <td>0.217000</td>\n",
       "      <td>0.000000</td>\n",
       "      <td>0.1660</td>\n",
       "      <td>0.5910</td>\n",
       "      <td>147.988</td>\n",
       "      <td>123298</td>\n",
       "      <td>4</td>\n",
       "      <td>Dark Trap</td>\n",
       "    </tr>\n",
       "    <tr>\n",
       "      <th>...</th>\n",
       "      <td>...</td>\n",
       "      <td>...</td>\n",
       "      <td>...</td>\n",
       "      <td>...</td>\n",
       "      <td>...</td>\n",
       "      <td>...</td>\n",
       "      <td>...</td>\n",
       "      <td>...</td>\n",
       "      <td>...</td>\n",
       "      <td>...</td>\n",
       "      <td>...</td>\n",
       "      <td>...</td>\n",
       "      <td>...</td>\n",
       "      <td>...</td>\n",
       "    </tr>\n",
       "    <tr>\n",
       "      <th>34256</th>\n",
       "      <td>0.528</td>\n",
       "      <td>0.693</td>\n",
       "      <td>4</td>\n",
       "      <td>-5.148</td>\n",
       "      <td>1</td>\n",
       "      <td>0.0304</td>\n",
       "      <td>0.031500</td>\n",
       "      <td>0.000345</td>\n",
       "      <td>0.1210</td>\n",
       "      <td>0.3940</td>\n",
       "      <td>150.013</td>\n",
       "      <td>269208</td>\n",
       "      <td>4</td>\n",
       "      <td>hardstyle</td>\n",
       "    </tr>\n",
       "    <tr>\n",
       "      <th>34257</th>\n",
       "      <td>0.517</td>\n",
       "      <td>0.768</td>\n",
       "      <td>0</td>\n",
       "      <td>-7.922</td>\n",
       "      <td>0</td>\n",
       "      <td>0.0479</td>\n",
       "      <td>0.022500</td>\n",
       "      <td>0.000018</td>\n",
       "      <td>0.2050</td>\n",
       "      <td>0.3830</td>\n",
       "      <td>149.928</td>\n",
       "      <td>210112</td>\n",
       "      <td>4</td>\n",
       "      <td>hardstyle</td>\n",
       "    </tr>\n",
       "    <tr>\n",
       "      <th>34258</th>\n",
       "      <td>0.361</td>\n",
       "      <td>0.821</td>\n",
       "      <td>8</td>\n",
       "      <td>-3.102</td>\n",
       "      <td>1</td>\n",
       "      <td>0.0505</td>\n",
       "      <td>0.026000</td>\n",
       "      <td>0.000242</td>\n",
       "      <td>0.3850</td>\n",
       "      <td>0.1240</td>\n",
       "      <td>154.935</td>\n",
       "      <td>234823</td>\n",
       "      <td>4</td>\n",
       "      <td>hardstyle</td>\n",
       "    </tr>\n",
       "    <tr>\n",
       "      <th>34259</th>\n",
       "      <td>0.477</td>\n",
       "      <td>0.921</td>\n",
       "      <td>6</td>\n",
       "      <td>-4.777</td>\n",
       "      <td>0</td>\n",
       "      <td>0.0392</td>\n",
       "      <td>0.000551</td>\n",
       "      <td>0.029600</td>\n",
       "      <td>0.0575</td>\n",
       "      <td>0.4880</td>\n",
       "      <td>150.042</td>\n",
       "      <td>323200</td>\n",
       "      <td>4</td>\n",
       "      <td>hardstyle</td>\n",
       "    </tr>\n",
       "    <tr>\n",
       "      <th>34260</th>\n",
       "      <td>0.529</td>\n",
       "      <td>0.945</td>\n",
       "      <td>9</td>\n",
       "      <td>-5.862</td>\n",
       "      <td>1</td>\n",
       "      <td>0.0615</td>\n",
       "      <td>0.001890</td>\n",
       "      <td>0.000055</td>\n",
       "      <td>0.4140</td>\n",
       "      <td>0.1340</td>\n",
       "      <td>155.047</td>\n",
       "      <td>162161</td>\n",
       "      <td>4</td>\n",
       "      <td>hardstyle</td>\n",
       "    </tr>\n",
       "  </tbody>\n",
       "</table>\n",
       "<p>34261 rows × 14 columns</p>\n",
       "</div>"
      ],
      "text/plain": [
       "       danceability  energy  key  loudness  mode  speechiness  acousticness  \\\n",
       "0             0.831   0.814    2    -7.364     1       0.4200      0.059800   \n",
       "1             0.719   0.493    8    -7.230     1       0.0794      0.401000   \n",
       "2             0.850   0.893    5    -4.783     1       0.0623      0.013800   \n",
       "3             0.476   0.781    0    -4.710     1       0.1030      0.023700   \n",
       "4             0.798   0.624    2    -7.668     1       0.2930      0.217000   \n",
       "...             ...     ...  ...       ...   ...          ...           ...   \n",
       "34256         0.528   0.693    4    -5.148     1       0.0304      0.031500   \n",
       "34257         0.517   0.768    0    -7.922     0       0.0479      0.022500   \n",
       "34258         0.361   0.821    8    -3.102     1       0.0505      0.026000   \n",
       "34259         0.477   0.921    6    -4.777     0       0.0392      0.000551   \n",
       "34260         0.529   0.945    9    -5.862     1       0.0615      0.001890   \n",
       "\n",
       "       instrumentalness  liveness  valence    tempo  duration_ms  \\\n",
       "0              0.013400    0.0556   0.3890  156.985       124539   \n",
       "1              0.000000    0.1180   0.1240  115.080       224427   \n",
       "2              0.000004    0.3720   0.0391  218.050        98821   \n",
       "3              0.000000    0.1140   0.1750  186.948       123661   \n",
       "4              0.000000    0.1660   0.5910  147.988       123298   \n",
       "...                 ...       ...      ...      ...          ...   \n",
       "34256          0.000345    0.1210   0.3940  150.013       269208   \n",
       "34257          0.000018    0.2050   0.3830  149.928       210112   \n",
       "34258          0.000242    0.3850   0.1240  154.935       234823   \n",
       "34259          0.029600    0.0575   0.4880  150.042       323200   \n",
       "34260          0.000055    0.4140   0.1340  155.047       162161   \n",
       "\n",
       "       time_signature      genre  \n",
       "0                   4  Dark Trap  \n",
       "1                   4  Dark Trap  \n",
       "2                   4  Dark Trap  \n",
       "3                   3  Dark Trap  \n",
       "4                   4  Dark Trap  \n",
       "...               ...        ...  \n",
       "34256               4  hardstyle  \n",
       "34257               4  hardstyle  \n",
       "34258               4  hardstyle  \n",
       "34259               4  hardstyle  \n",
       "34260               4  hardstyle  \n",
       "\n",
       "[34261 rows x 14 columns]"
      ]
     },
     "execution_count": 12,
     "metadata": {},
     "output_type": "execute_result"
    }
   ],
   "source": [
    "df"
   ]
  },
  {
   "cell_type": "markdown",
   "id": "5af385da",
   "metadata": {},
   "source": [
    "## DF 2 STARTS HERE // EXPERIMENTAL "
   ]
  },
  {
   "cell_type": "code",
   "execution_count": 13,
   "id": "11d1fade",
   "metadata": {},
   "outputs": [],
   "source": [
    "df2 = pd.read_csv('SpotifyFeatures.csv')"
   ]
  },
  {
   "cell_type": "code",
   "execution_count": 14,
   "id": "6e8e65d8",
   "metadata": {},
   "outputs": [],
   "source": [
    "df2 = df2.drop(axis = 1, columns = ['artist_name', 'track_name', 'track_id', 'popularity'])"
   ]
  },
  {
   "cell_type": "code",
   "execution_count": 15,
   "id": "cb44a8e4",
   "metadata": {},
   "outputs": [],
   "source": [
    "df2 = df2[['danceability', 'energy', 'key', 'loudness', 'mode', 'speechiness', 'acousticness', 'instrumentalness', 'liveness', 'valence', 'tempo', 'duration_ms', 'time_signature', 'genre']]"
   ]
  },
  {
   "cell_type": "code",
   "execution_count": 16,
   "id": "03948758",
   "metadata": {},
   "outputs": [
    {
     "data": {
      "text/html": [
       "<div>\n",
       "<style scoped>\n",
       "    .dataframe tbody tr th:only-of-type {\n",
       "        vertical-align: middle;\n",
       "    }\n",
       "\n",
       "    .dataframe tbody tr th {\n",
       "        vertical-align: top;\n",
       "    }\n",
       "\n",
       "    .dataframe thead th {\n",
       "        text-align: right;\n",
       "    }\n",
       "</style>\n",
       "<table border=\"1\" class=\"dataframe\">\n",
       "  <thead>\n",
       "    <tr style=\"text-align: right;\">\n",
       "      <th></th>\n",
       "      <th>danceability</th>\n",
       "      <th>energy</th>\n",
       "      <th>key</th>\n",
       "      <th>loudness</th>\n",
       "      <th>mode</th>\n",
       "      <th>speechiness</th>\n",
       "      <th>acousticness</th>\n",
       "      <th>instrumentalness</th>\n",
       "      <th>liveness</th>\n",
       "      <th>valence</th>\n",
       "      <th>tempo</th>\n",
       "      <th>duration_ms</th>\n",
       "      <th>time_signature</th>\n",
       "      <th>genre</th>\n",
       "    </tr>\n",
       "  </thead>\n",
       "  <tbody>\n",
       "    <tr>\n",
       "      <th>0</th>\n",
       "      <td>0.389</td>\n",
       "      <td>0.910</td>\n",
       "      <td>C#</td>\n",
       "      <td>-1.828</td>\n",
       "      <td>Major</td>\n",
       "      <td>0.0525</td>\n",
       "      <td>0.61100</td>\n",
       "      <td>0.000000</td>\n",
       "      <td>0.3460</td>\n",
       "      <td>0.814</td>\n",
       "      <td>166.969</td>\n",
       "      <td>99373</td>\n",
       "      <td>4/4</td>\n",
       "      <td>Movie</td>\n",
       "    </tr>\n",
       "    <tr>\n",
       "      <th>1</th>\n",
       "      <td>0.590</td>\n",
       "      <td>0.737</td>\n",
       "      <td>F#</td>\n",
       "      <td>-5.559</td>\n",
       "      <td>Minor</td>\n",
       "      <td>0.0868</td>\n",
       "      <td>0.24600</td>\n",
       "      <td>0.000000</td>\n",
       "      <td>0.1510</td>\n",
       "      <td>0.816</td>\n",
       "      <td>174.003</td>\n",
       "      <td>137373</td>\n",
       "      <td>4/4</td>\n",
       "      <td>Movie</td>\n",
       "    </tr>\n",
       "    <tr>\n",
       "      <th>2</th>\n",
       "      <td>0.663</td>\n",
       "      <td>0.131</td>\n",
       "      <td>C</td>\n",
       "      <td>-13.879</td>\n",
       "      <td>Minor</td>\n",
       "      <td>0.0362</td>\n",
       "      <td>0.95200</td>\n",
       "      <td>0.000000</td>\n",
       "      <td>0.1030</td>\n",
       "      <td>0.368</td>\n",
       "      <td>99.488</td>\n",
       "      <td>170267</td>\n",
       "      <td>5/4</td>\n",
       "      <td>Movie</td>\n",
       "    </tr>\n",
       "    <tr>\n",
       "      <th>3</th>\n",
       "      <td>0.240</td>\n",
       "      <td>0.326</td>\n",
       "      <td>C#</td>\n",
       "      <td>-12.178</td>\n",
       "      <td>Major</td>\n",
       "      <td>0.0395</td>\n",
       "      <td>0.70300</td>\n",
       "      <td>0.000000</td>\n",
       "      <td>0.0985</td>\n",
       "      <td>0.227</td>\n",
       "      <td>171.758</td>\n",
       "      <td>152427</td>\n",
       "      <td>4/4</td>\n",
       "      <td>Movie</td>\n",
       "    </tr>\n",
       "    <tr>\n",
       "      <th>4</th>\n",
       "      <td>0.331</td>\n",
       "      <td>0.225</td>\n",
       "      <td>F</td>\n",
       "      <td>-21.150</td>\n",
       "      <td>Major</td>\n",
       "      <td>0.0456</td>\n",
       "      <td>0.95000</td>\n",
       "      <td>0.123000</td>\n",
       "      <td>0.2020</td>\n",
       "      <td>0.390</td>\n",
       "      <td>140.576</td>\n",
       "      <td>82625</td>\n",
       "      <td>4/4</td>\n",
       "      <td>Movie</td>\n",
       "    </tr>\n",
       "    <tr>\n",
       "      <th>...</th>\n",
       "      <td>...</td>\n",
       "      <td>...</td>\n",
       "      <td>...</td>\n",
       "      <td>...</td>\n",
       "      <td>...</td>\n",
       "      <td>...</td>\n",
       "      <td>...</td>\n",
       "      <td>...</td>\n",
       "      <td>...</td>\n",
       "      <td>...</td>\n",
       "      <td>...</td>\n",
       "      <td>...</td>\n",
       "      <td>...</td>\n",
       "      <td>...</td>\n",
       "    </tr>\n",
       "    <tr>\n",
       "      <th>232720</th>\n",
       "      <td>0.687</td>\n",
       "      <td>0.714</td>\n",
       "      <td>D</td>\n",
       "      <td>-10.626</td>\n",
       "      <td>Major</td>\n",
       "      <td>0.0316</td>\n",
       "      <td>0.00384</td>\n",
       "      <td>0.544000</td>\n",
       "      <td>0.0845</td>\n",
       "      <td>0.962</td>\n",
       "      <td>115.542</td>\n",
       "      <td>326240</td>\n",
       "      <td>4/4</td>\n",
       "      <td>Soul</td>\n",
       "    </tr>\n",
       "    <tr>\n",
       "      <th>232721</th>\n",
       "      <td>0.785</td>\n",
       "      <td>0.683</td>\n",
       "      <td>E</td>\n",
       "      <td>-6.944</td>\n",
       "      <td>Minor</td>\n",
       "      <td>0.0337</td>\n",
       "      <td>0.03290</td>\n",
       "      <td>0.000880</td>\n",
       "      <td>0.2370</td>\n",
       "      <td>0.969</td>\n",
       "      <td>113.830</td>\n",
       "      <td>282447</td>\n",
       "      <td>4/4</td>\n",
       "      <td>Soul</td>\n",
       "    </tr>\n",
       "    <tr>\n",
       "      <th>232722</th>\n",
       "      <td>0.517</td>\n",
       "      <td>0.419</td>\n",
       "      <td>D</td>\n",
       "      <td>-8.282</td>\n",
       "      <td>Major</td>\n",
       "      <td>0.1480</td>\n",
       "      <td>0.90100</td>\n",
       "      <td>0.000000</td>\n",
       "      <td>0.0945</td>\n",
       "      <td>0.813</td>\n",
       "      <td>84.135</td>\n",
       "      <td>166960</td>\n",
       "      <td>4/4</td>\n",
       "      <td>Soul</td>\n",
       "    </tr>\n",
       "    <tr>\n",
       "      <th>232723</th>\n",
       "      <td>0.745</td>\n",
       "      <td>0.704</td>\n",
       "      <td>A</td>\n",
       "      <td>-7.137</td>\n",
       "      <td>Major</td>\n",
       "      <td>0.1460</td>\n",
       "      <td>0.26200</td>\n",
       "      <td>0.000000</td>\n",
       "      <td>0.3330</td>\n",
       "      <td>0.489</td>\n",
       "      <td>100.031</td>\n",
       "      <td>222442</td>\n",
       "      <td>4/4</td>\n",
       "      <td>Soul</td>\n",
       "    </tr>\n",
       "    <tr>\n",
       "      <th>232724</th>\n",
       "      <td>0.758</td>\n",
       "      <td>0.470</td>\n",
       "      <td>G#</td>\n",
       "      <td>-6.708</td>\n",
       "      <td>Minor</td>\n",
       "      <td>0.0287</td>\n",
       "      <td>0.09730</td>\n",
       "      <td>0.000049</td>\n",
       "      <td>0.0836</td>\n",
       "      <td>0.479</td>\n",
       "      <td>113.897</td>\n",
       "      <td>323027</td>\n",
       "      <td>4/4</td>\n",
       "      <td>Soul</td>\n",
       "    </tr>\n",
       "  </tbody>\n",
       "</table>\n",
       "<p>232725 rows × 14 columns</p>\n",
       "</div>"
      ],
      "text/plain": [
       "        danceability  energy key  loudness   mode  speechiness  acousticness  \\\n",
       "0              0.389   0.910  C#    -1.828  Major       0.0525       0.61100   \n",
       "1              0.590   0.737  F#    -5.559  Minor       0.0868       0.24600   \n",
       "2              0.663   0.131   C   -13.879  Minor       0.0362       0.95200   \n",
       "3              0.240   0.326  C#   -12.178  Major       0.0395       0.70300   \n",
       "4              0.331   0.225   F   -21.150  Major       0.0456       0.95000   \n",
       "...              ...     ...  ..       ...    ...          ...           ...   \n",
       "232720         0.687   0.714   D   -10.626  Major       0.0316       0.00384   \n",
       "232721         0.785   0.683   E    -6.944  Minor       0.0337       0.03290   \n",
       "232722         0.517   0.419   D    -8.282  Major       0.1480       0.90100   \n",
       "232723         0.745   0.704   A    -7.137  Major       0.1460       0.26200   \n",
       "232724         0.758   0.470  G#    -6.708  Minor       0.0287       0.09730   \n",
       "\n",
       "        instrumentalness  liveness  valence    tempo  duration_ms  \\\n",
       "0               0.000000    0.3460    0.814  166.969        99373   \n",
       "1               0.000000    0.1510    0.816  174.003       137373   \n",
       "2               0.000000    0.1030    0.368   99.488       170267   \n",
       "3               0.000000    0.0985    0.227  171.758       152427   \n",
       "4               0.123000    0.2020    0.390  140.576        82625   \n",
       "...                  ...       ...      ...      ...          ...   \n",
       "232720          0.544000    0.0845    0.962  115.542       326240   \n",
       "232721          0.000880    0.2370    0.969  113.830       282447   \n",
       "232722          0.000000    0.0945    0.813   84.135       166960   \n",
       "232723          0.000000    0.3330    0.489  100.031       222442   \n",
       "232724          0.000049    0.0836    0.479  113.897       323027   \n",
       "\n",
       "       time_signature  genre  \n",
       "0                 4/4  Movie  \n",
       "1                 4/4  Movie  \n",
       "2                 5/4  Movie  \n",
       "3                 4/4  Movie  \n",
       "4                 4/4  Movie  \n",
       "...               ...    ...  \n",
       "232720            4/4   Soul  \n",
       "232721            4/4   Soul  \n",
       "232722            4/4   Soul  \n",
       "232723            4/4   Soul  \n",
       "232724            4/4   Soul  \n",
       "\n",
       "[232725 rows x 14 columns]"
      ]
     },
     "execution_count": 16,
     "metadata": {},
     "output_type": "execute_result"
    }
   ],
   "source": [
    "df2"
   ]
  },
  {
   "cell_type": "code",
   "execution_count": 17,
   "id": "b8c57c00",
   "metadata": {},
   "outputs": [
    {
     "name": "stderr",
     "output_type": "stream",
     "text": [
      "C:\\Users\\buens\\AppData\\Local\\Temp\\ipykernel_14144\\2749916982.py:17: SettingWithCopyWarning: \n",
      "A value is trying to be set on a copy of a slice from a DataFrame.\n",
      "Try using .loc[row_indexer,col_indexer] = value instead\n",
      "\n",
      "See the caveats in the documentation: https://pandas.pydata.org/pandas-docs/stable/user_guide/indexing.html#returning-a-view-versus-a-copy\n",
      "  df2['key'] = df2['key'].replace([str(key[i])], str(number[i]))\n",
      "C:\\Users\\buens\\AppData\\Local\\Temp\\ipykernel_14144\\2749916982.py:23: SettingWithCopyWarning: \n",
      "A value is trying to be set on a copy of a slice from a DataFrame.\n",
      "Try using .loc[row_indexer,col_indexer] = value instead\n",
      "\n",
      "See the caveats in the documentation: https://pandas.pydata.org/pandas-docs/stable/user_guide/indexing.html#returning-a-view-versus-a-copy\n",
      "  df2['time_signature'] = df2['time_signature'].replace([str(key[i-1])], number[i-1])\n",
      "C:\\Users\\buens\\AppData\\Local\\Temp\\ipykernel_14144\\2749916982.py:29: SettingWithCopyWarning: \n",
      "A value is trying to be set on a copy of a slice from a DataFrame.\n",
      "Try using .loc[row_indexer,col_indexer] = value instead\n",
      "\n",
      "See the caveats in the documentation: https://pandas.pydata.org/pandas-docs/stable/user_guide/indexing.html#returning-a-view-versus-a-copy\n",
      "  df2['mode'] = df2['mode'].replace([str(key[i])], str(number[i]))\n"
     ]
    }
   ],
   "source": [
    "# Drop the 8 rows with time signature 0/4 and remove a\n",
    "\n",
    "df2 = df2[df2.time_signature != '0/4']\n",
    "\n",
    "# Data numerical representation\n",
    "\n",
    "keys_key = {'C':  0, 'C#': 1, 'D':  2, 'D#': 3, 'E':  4, 'F':  5, 'F#': 6, 'G':  7, 'G#': 8, 'A':  9, 'A#': 10, 'B':  11}\n",
    "keys_time_signature = {'1/4': 1, '2/4': 2, '3/4': 3, '4/4': 4, '5/4': 5}\n",
    "keys_mode = {'Major': 1, 'Minor': 0}\n",
    "\n",
    "# Remap values according to dictionaries above.\n",
    "\n",
    "for i in keys_key.values():\n",
    "    \n",
    "    key = list(keys_key.keys())\n",
    "    number = list(keys_key.values())\n",
    "    df2['key'] = df2['key'].replace([str(key[i])], str(number[i]))\n",
    "    \n",
    "for i in keys_time_signature.values():\n",
    "    \n",
    "    key = list(keys_time_signature.keys())\n",
    "    number = list(keys_time_signature.values())  \n",
    "    df2['time_signature'] = df2['time_signature'].replace([str(key[i-1])], number[i-1])\n",
    "\n",
    "for i in keys_mode.values():\n",
    "    \n",
    "    key = list(keys_mode.keys())\n",
    "    number = list(keys_mode.values())\n",
    "    df2['mode'] = df2['mode'].replace([str(key[i])], str(number[i]))"
   ]
  },
  {
   "cell_type": "code",
   "execution_count": 18,
   "id": "bcef4a23",
   "metadata": {},
   "outputs": [],
   "source": [
    "df2 = df2.reset_index()"
   ]
  },
  {
   "cell_type": "code",
   "execution_count": 19,
   "id": "fac78916",
   "metadata": {
    "scrolled": true
   },
   "outputs": [],
   "source": [
    "df2 = df2.drop(axis = 1, columns = ['index'])"
   ]
  },
  {
   "cell_type": "code",
   "execution_count": 20,
   "id": "9aaf10cf",
   "metadata": {},
   "outputs": [
    {
     "data": {
      "text/plain": [
       "array(['Movie', 'R&B', 'A Capella', 'Alternative', 'Country', 'Dance',\n",
       "       'Electronic', 'Anime', 'Folk', 'Blues', 'Opera', 'Hip-Hop',\n",
       "       \"Children's Music\", 'Children’s Music', 'Rap', 'Indie',\n",
       "       'Classical', 'Pop', 'Reggae', 'Reggaeton', 'Jazz', 'Rock', 'Ska',\n",
       "       'Comedy', 'Soul', 'Soundtrack', 'World'], dtype=object)"
      ]
     },
     "execution_count": 20,
     "metadata": {},
     "output_type": "execute_result"
    }
   ],
   "source": [
    "df2['genre'].unique()"
   ]
  },
  {
   "cell_type": "code",
   "execution_count": 21,
   "id": "9bbf3b3e",
   "metadata": {},
   "outputs": [],
   "source": [
    "df2 = df2.astype({'time_signature': int})"
   ]
  },
  {
   "cell_type": "code",
   "execution_count": 22,
   "id": "771aaaf4",
   "metadata": {},
   "outputs": [
    {
     "data": {
      "text/plain": [
       "Comedy              9680\n",
       "Soundtrack          9646\n",
       "Indie               9543\n",
       "Jazz                9441\n",
       "Pop                 9385\n",
       "Electronic          9377\n",
       "Children’s Music    9353\n",
       "Folk                9299\n",
       "Hip-Hop             9295\n",
       "Rock                9272\n",
       "Alternative         9263\n",
       "Classical           9256\n",
       "Rap                 9231\n",
       "World               9095\n",
       "Soul                9089\n",
       "Blues               9023\n",
       "R&B                 8992\n",
       "Anime               8936\n",
       "Reggaeton           8927\n",
       "Ska                 8874\n",
       "Reggae              8771\n",
       "Dance               8700\n",
       "Country             8664\n",
       "Opera               8277\n",
       "Movie               7806\n",
       "Children's Music    5403\n",
       "A Capella            119\n",
       "Name: genre, dtype: int64"
      ]
     },
     "execution_count": 22,
     "metadata": {},
     "output_type": "execute_result"
    }
   ],
   "source": [
    "df2['genre'].value_counts()"
   ]
  },
  {
   "cell_type": "code",
   "execution_count": 23,
   "id": "701b524e",
   "metadata": {},
   "outputs": [],
   "source": [
    "df2 = df2[df2['genre'].str.match('Anime|Country|Soul|Comedy|Blues|Movie|Soundtrack|Children’s Music|Folk|Alternative|World|Reggaeton|Ska|Reggae|Dance|Opera|Children\\'s Music|A Capella') == False]"
   ]
  },
  {
   "cell_type": "code",
   "execution_count": 24,
   "id": "7cffc29f",
   "metadata": {},
   "outputs": [
    {
     "data": {
      "text/plain": [
       "array(['R&B', 'Electronic', 'Hip-Hop', 'Rap', 'Indie', 'Classical', 'Pop',\n",
       "       'Jazz', 'Rock'], dtype=object)"
      ]
     },
     "execution_count": 24,
     "metadata": {},
     "output_type": "execute_result"
    }
   ],
   "source": [
    "df2['genre'].unique()"
   ]
  },
  {
   "cell_type": "markdown",
   "id": "5b115e44",
   "metadata": {},
   "source": [
    "# Building the models"
   ]
  },
  {
   "cell_type": "markdown",
   "id": "4f8df578",
   "metadata": {},
   "source": [
    "## Train/test split"
   ]
  },
  {
   "cell_type": "markdown",
   "id": "463a9721",
   "metadata": {},
   "source": [
    "Prepare the `X` feature dataset and `y` label vector."
   ]
  },
  {
   "cell_type": "code",
   "execution_count": 25,
   "id": "71934bd8",
   "metadata": {},
   "outputs": [],
   "source": [
    "# Switch between df and df2 to choose between 1st or 2nd dataset\n",
    "X_genre =  df2.values[:,:-1]\n",
    "y_genre = df2.values[:,-1]"
   ]
  },
  {
   "cell_type": "markdown",
   "id": "daf34bc9",
   "metadata": {},
   "source": [
    "Split `X_genre` and `y_genre` into training and test sets."
   ]
  },
  {
   "cell_type": "code",
   "execution_count": 26,
   "id": "932aba50",
   "metadata": {},
   "outputs": [],
   "source": [
    "from sklearn.model_selection import train_test_split"
   ]
  },
  {
   "cell_type": "code",
   "execution_count": 27,
   "id": "235133e5",
   "metadata": {},
   "outputs": [
    {
     "name": "stdout",
     "output_type": "stream",
     "text": [
      "Genre train and test split\n",
      "X_train:  (62844, 13)\n",
      "y_train:  (62844,)\n",
      "X_test:   (20948, 13)\n",
      "y_test:   (20948,)\n"
     ]
    }
   ],
   "source": [
    "X_train, X_test, y_train, y_test = train_test_split(X_genre, y_genre, random_state = 1, stratify = y_genre)\n",
    " \n",
    "print(\"Genre train and test split\")\n",
    "print(\"X_train: \", X_train.shape)\n",
    "print(\"y_train: \", y_train.shape)\n",
    "print(\"X_test:  \", X_test.shape)\n",
    "print(\"y_test:  \", y_test.shape)"
   ]
  },
  {
   "cell_type": "markdown",
   "id": "cf17f49e",
   "metadata": {},
   "source": [
    "Create a function that computes accuracy. Let us call it `compute_accuracy`."
   ]
  },
  {
   "cell_type": "code",
   "execution_count": 28,
   "id": "562198d8",
   "metadata": {},
   "outputs": [],
   "source": [
    "def compute_accuracy(predictions, actual):\n",
    "    \n",
    "    num_correct = sum(predictions == actual)\n",
    "    accuracy = (num_correct/len(actual)) * 100\n",
    "    \n",
    "    return accuracy"
   ]
  },
  {
   "cell_type": "markdown",
   "id": "e77b170c",
   "metadata": {},
   "source": [
    "## Guassian Naive Bayes"
   ]
  },
  {
   "cell_type": "code",
   "execution_count": 29,
   "id": "d3ee175a",
   "metadata": {},
   "outputs": [],
   "source": [
    "from sklearn.naive_bayes import GaussianNB"
   ]
  },
  {
   "cell_type": "markdown",
   "id": "d7f6ea11",
   "metadata": {},
   "source": [
    "Intialize a `GaussianNB` model."
   ]
  },
  {
   "cell_type": "code",
   "execution_count": 30,
   "id": "289819b3",
   "metadata": {},
   "outputs": [],
   "source": [
    "nb_genre = GaussianNB()"
   ]
  },
  {
   "cell_type": "markdown",
   "id": "dc5b0413",
   "metadata": {},
   "source": [
    "Train it with training data sets."
   ]
  },
  {
   "cell_type": "code",
   "execution_count": 31,
   "id": "9d9530b8",
   "metadata": {},
   "outputs": [
    {
     "data": {
      "text/plain": [
       "GaussianNB()"
      ]
     },
     "execution_count": 31,
     "metadata": {},
     "output_type": "execute_result"
    }
   ],
   "source": [
    "nb_genre.fit(X_train, y_train)"
   ]
  },
  {
   "cell_type": "markdown",
   "id": "0d936970",
   "metadata": {},
   "source": [
    "Get its training predictions."
   ]
  },
  {
   "cell_type": "code",
   "execution_count": 32,
   "id": "a2b9c7b9",
   "metadata": {},
   "outputs": [],
   "source": [
    "nb_train_predictions = nb_genre.predict(X_train)"
   ]
  },
  {
   "cell_type": "markdown",
   "id": "351d767a",
   "metadata": {},
   "source": [
    "Get the accuracy of the model's training predictions."
   ]
  },
  {
   "cell_type": "code",
   "execution_count": 33,
   "id": "24d66045",
   "metadata": {},
   "outputs": [
    {
     "name": "stdout",
     "output_type": "stream",
     "text": [
      "Training accuracy:  25.70332887785628 %\n"
     ]
    }
   ],
   "source": [
    "print(\"Training accuracy: \", compute_accuracy(nb_train_predictions, y_train), \"%\")"
   ]
  },
  {
   "cell_type": "markdown",
   "id": "cadb9180",
   "metadata": {},
   "source": [
    "Next, test the model with the test set."
   ]
  },
  {
   "cell_type": "code",
   "execution_count": 34,
   "id": "3d24b0b4",
   "metadata": {},
   "outputs": [],
   "source": [
    "nb_test_predictions = nb_genre.predict(X_test)"
   ]
  },
  {
   "cell_type": "markdown",
   "id": "f16378c7",
   "metadata": {},
   "source": [
    "Get the accuracy of the model's test set predictions."
   ]
  },
  {
   "cell_type": "code",
   "execution_count": 35,
   "id": "428e0a34",
   "metadata": {},
   "outputs": [
    {
     "name": "stdout",
     "output_type": "stream",
     "text": [
      "Test set accuracy:  25.587168226083634 %\n"
     ]
    }
   ],
   "source": [
    "print(\"Test set accuracy: \", compute_accuracy(nb_test_predictions, y_test), \"%\")"
   ]
  },
  {
   "cell_type": "markdown",
   "id": "4a22d651",
   "metadata": {},
   "source": [
    "## Logistic Regression"
   ]
  },
  {
   "cell_type": "code",
   "execution_count": 36,
   "id": "7c7bc93e",
   "metadata": {},
   "outputs": [],
   "source": [
    "from sklearn.linear_model import LogisticRegression"
   ]
  },
  {
   "cell_type": "code",
   "execution_count": 37,
   "id": "1d1a2d1e",
   "metadata": {},
   "outputs": [],
   "source": [
    "lr_genre = LogisticRegression()"
   ]
  },
  {
   "cell_type": "code",
   "execution_count": 38,
   "id": "b19d8fd6",
   "metadata": {},
   "outputs": [
    {
     "data": {
      "text/plain": [
       "LogisticRegression()"
      ]
     },
     "execution_count": 38,
     "metadata": {},
     "output_type": "execute_result"
    }
   ],
   "source": [
    "lr_genre.fit(X_train, y_train)"
   ]
  },
  {
   "cell_type": "code",
   "execution_count": 39,
   "id": "9d63e003",
   "metadata": {},
   "outputs": [],
   "source": [
    "lr_train_predictions = lr_genre.predict(X_train)"
   ]
  },
  {
   "cell_type": "code",
   "execution_count": 40,
   "id": "aeb96e18",
   "metadata": {},
   "outputs": [
    {
     "name": "stdout",
     "output_type": "stream",
     "text": [
      "Training accuracy:  15.339571001209343 %\n"
     ]
    }
   ],
   "source": [
    "print(\"Training accuracy: \", compute_accuracy(lr_train_predictions, y_train), \"%\")"
   ]
  },
  {
   "cell_type": "code",
   "execution_count": 41,
   "id": "fec58a6c",
   "metadata": {},
   "outputs": [],
   "source": [
    "lr_test_predictions = lr_genre.predict(X_test)"
   ]
  },
  {
   "cell_type": "code",
   "execution_count": 42,
   "id": "e78a5db9",
   "metadata": {},
   "outputs": [
    {
     "name": "stdout",
     "output_type": "stream",
     "text": [
      "Test set accuracy:  15.404811915218636 %\n"
     ]
    }
   ],
   "source": [
    "print(\"Test set accuracy: \", compute_accuracy(lr_test_predictions, y_test), \"%\")"
   ]
  },
  {
   "cell_type": "markdown",
   "id": "19b7612c",
   "metadata": {},
   "source": [
    "## Random Forest Classifier"
   ]
  },
  {
   "cell_type": "code",
   "execution_count": 43,
   "id": "b72a2599",
   "metadata": {},
   "outputs": [],
   "source": [
    "from sklearn.ensemble import RandomForestClassifier"
   ]
  },
  {
   "cell_type": "code",
   "execution_count": 44,
   "id": "a0b34e0b",
   "metadata": {},
   "outputs": [],
   "source": [
    "rfc_genre = RandomForestClassifier()"
   ]
  },
  {
   "cell_type": "code",
   "execution_count": 45,
   "id": "d1991e3e",
   "metadata": {},
   "outputs": [
    {
     "data": {
      "text/plain": [
       "RandomForestClassifier()"
      ]
     },
     "execution_count": 45,
     "metadata": {},
     "output_type": "execute_result"
    }
   ],
   "source": [
    "rfc_genre.fit(X_train, y_train)"
   ]
  },
  {
   "cell_type": "code",
   "execution_count": 46,
   "id": "80da6a11",
   "metadata": {},
   "outputs": [],
   "source": [
    "rfc_train_predictions = rfc_genre.predict(X_train)"
   ]
  },
  {
   "cell_type": "code",
   "execution_count": 47,
   "id": "db1af00b",
   "metadata": {},
   "outputs": [
    {
     "name": "stdout",
     "output_type": "stream",
     "text": [
      "Training accuracy:  81.25994526128191 %\n"
     ]
    }
   ],
   "source": [
    "print(\"Training accuracy: \", compute_accuracy(rfc_train_predictions, y_train), \"%\")"
   ]
  },
  {
   "cell_type": "code",
   "execution_count": 48,
   "id": "f0aa0616",
   "metadata": {},
   "outputs": [],
   "source": [
    "rfc_test_predictions = rfc_genre.predict(X_test)"
   ]
  },
  {
   "cell_type": "code",
   "execution_count": 49,
   "id": "74830c6d",
   "metadata": {},
   "outputs": [
    {
     "name": "stdout",
     "output_type": "stream",
     "text": [
      "Test set accuracy:  35.77429826236395 %\n"
     ]
    }
   ],
   "source": [
    "print(\"Test set accuracy: \", compute_accuracy(rfc_test_predictions, y_test), \"%\")"
   ]
  },
  {
   "cell_type": "markdown",
   "id": "dbe298b2",
   "metadata": {},
   "source": [
    "## Neural Networks"
   ]
  },
  {
   "cell_type": "markdown",
   "id": "558a98cb",
   "metadata": {},
   "source": [
    "# Spotify API"
   ]
  },
  {
   "cell_type": "markdown",
   "id": "8256b9a5",
   "metadata": {},
   "source": [
    "Import necessary libraries and initialize `Spotify` object."
   ]
  },
  {
   "cell_type": "code",
   "execution_count": 50,
   "id": "d33462cc",
   "metadata": {},
   "outputs": [],
   "source": [
    "import spotipy\n",
    "from spotipy.oauth2 import SpotifyClientCredentials"
   ]
  },
  {
   "cell_type": "code",
   "execution_count": 51,
   "id": "d3a30d0e",
   "metadata": {},
   "outputs": [],
   "source": [
    "sp = spotipy.Spotify(auth_manager=SpotifyClientCredentials(client_id=\"9d4f5395df08402c8b25d34f50f7504f\",\n",
    "                                                           client_secret=\"3a450bdfecdb42d0a66e81320b8012ee\"))"
   ]
  },
  {
   "cell_type": "markdown",
   "id": "5fa58110",
   "metadata": {},
   "source": [
    "Choose a song and enter its Spotify link below!"
   ]
  },
  {
   "cell_type": "code",
   "execution_count": 52,
   "id": "88ff0f45",
   "metadata": {},
   "outputs": [],
   "source": [
    "#song_link = input(\"Enter song link: \")\n",
    "song_link = 'https://open.spotify.com/track/6HZILIRieu8S0iqY8kIKhj?si=09ce038d82834b06'"
   ]
  },
  {
   "cell_type": "code",
   "execution_count": 53,
   "id": "4f06d567",
   "metadata": {},
   "outputs": [],
   "source": [
    "result_object = sp.track(song_link)\n",
    "title = result_object.get('name')\n",
    "artist = result_object.get('album').get('artists')[0].get('name')"
   ]
  },
  {
   "cell_type": "code",
   "execution_count": 54,
   "id": "f8ed3778",
   "metadata": {},
   "outputs": [
    {
     "name": "stdout",
     "output_type": "stream",
     "text": [
      "The title of the song is DNA. by Kendrick Lamar. Its audio features will be shown below.\n"
     ]
    }
   ],
   "source": [
    "print('The title of the song is ' + title + ' by ' + artist + '. Its audio features will be shown below.')"
   ]
  },
  {
   "cell_type": "markdown",
   "id": "85c6f56d",
   "metadata": {},
   "source": [
    "Retreive the song's audio features using the `Spotify` object and remove unecessary keys."
   ]
  },
  {
   "cell_type": "code",
   "execution_count": 55,
   "id": "2c8b4feb",
   "metadata": {},
   "outputs": [],
   "source": [
    "audio_features = sp.audio_features(song_link)\n",
    "\n",
    "keys_to_remove = ('type', 'uri', 'track_href', 'analysis_url', 'id')\n",
    "\n",
    "for key in keys_to_remove:\n",
    "    audio_features[0].pop(key, None)"
   ]
  },
  {
   "cell_type": "code",
   "execution_count": 56,
   "id": "0b99d385",
   "metadata": {},
   "outputs": [
    {
     "data": {
      "text/html": [
       "<div>\n",
       "<style scoped>\n",
       "    .dataframe tbody tr th:only-of-type {\n",
       "        vertical-align: middle;\n",
       "    }\n",
       "\n",
       "    .dataframe tbody tr th {\n",
       "        vertical-align: top;\n",
       "    }\n",
       "\n",
       "    .dataframe thead th {\n",
       "        text-align: right;\n",
       "    }\n",
       "</style>\n",
       "<table border=\"1\" class=\"dataframe\">\n",
       "  <thead>\n",
       "    <tr style=\"text-align: right;\">\n",
       "      <th></th>\n",
       "      <th>danceability</th>\n",
       "      <th>energy</th>\n",
       "      <th>key</th>\n",
       "      <th>loudness</th>\n",
       "      <th>mode</th>\n",
       "      <th>speechiness</th>\n",
       "      <th>acousticness</th>\n",
       "      <th>instrumentalness</th>\n",
       "      <th>liveness</th>\n",
       "      <th>valence</th>\n",
       "      <th>tempo</th>\n",
       "      <th>duration_ms</th>\n",
       "      <th>time_signature</th>\n",
       "    </tr>\n",
       "  </thead>\n",
       "  <tbody>\n",
       "    <tr>\n",
       "      <th>0</th>\n",
       "      <td>0.638</td>\n",
       "      <td>0.523</td>\n",
       "      <td>1</td>\n",
       "      <td>-6.664</td>\n",
       "      <td>1</td>\n",
       "      <td>0.357</td>\n",
       "      <td>0.00454</td>\n",
       "      <td>0</td>\n",
       "      <td>0.0842</td>\n",
       "      <td>0.422</td>\n",
       "      <td>139.913</td>\n",
       "      <td>185947</td>\n",
       "      <td>4</td>\n",
       "    </tr>\n",
       "  </tbody>\n",
       "</table>\n",
       "</div>"
      ],
      "text/plain": [
       "   danceability  energy  key  loudness  mode  speechiness  acousticness  \\\n",
       "0         0.638   0.523    1    -6.664     1        0.357       0.00454   \n",
       "\n",
       "   instrumentalness  liveness  valence    tempo  duration_ms  time_signature  \n",
       "0                 0    0.0842    0.422  139.913       185947               4  "
      ]
     },
     "execution_count": 56,
     "metadata": {},
     "output_type": "execute_result"
    }
   ],
   "source": [
    "pd.DataFrame(audio_features)"
   ]
  },
  {
   "cell_type": "markdown",
   "id": "70bf20fb",
   "metadata": {},
   "source": [
    "Convert dictionary into list to be used by the model."
   ]
  },
  {
   "cell_type": "code",
   "execution_count": 57,
   "id": "1b01f94e",
   "metadata": {},
   "outputs": [],
   "source": [
    "test_case = list(audio_features[0].values())"
   ]
  },
  {
   "cell_type": "markdown",
   "id": "a0f10677",
   "metadata": {},
   "source": [
    "Predict the song's genre using the model."
   ]
  },
  {
   "cell_type": "code",
   "execution_count": 58,
   "id": "48b208ef",
   "metadata": {},
   "outputs": [
    {
     "data": {
      "text/plain": [
       "array(['R&B', 'Electronic', 'Hip-Hop', 'Rap', 'Indie', 'Classical', 'Pop',\n",
       "       'Jazz', 'Rock'], dtype=object)"
      ]
     },
     "execution_count": 58,
     "metadata": {},
     "output_type": "execute_result"
    }
   ],
   "source": [
    "df2['genre'].unique()"
   ]
  },
  {
   "cell_type": "markdown",
   "id": "5f91c247",
   "metadata": {},
   "source": [
    "Naive Bayes: `nb_genre`\n",
    "Logistic Regression: `lr_genre` \n",
    "Random Forest Classifier: `rfc_genre`"
   ]
  },
  {
   "cell_type": "code",
   "execution_count": 59,
   "id": "c29a99e3",
   "metadata": {},
   "outputs": [
    {
     "name": "stdout",
     "output_type": "stream",
     "text": [
      "Hip-Hop\n"
     ]
    }
   ],
   "source": [
    "print(rfc_genre.predict([test_case])[0])\n",
    "#label_enc.classes_[6]"
   ]
  }
 ],
 "metadata": {
  "kernelspec": {
   "display_name": "Python 3 (ipykernel)",
   "language": "python",
   "name": "python3"
  },
  "language_info": {
   "codemirror_mode": {
    "name": "ipython",
    "version": 3
   },
   "file_extension": ".py",
   "mimetype": "text/x-python",
   "name": "python",
   "nbconvert_exporter": "python",
   "pygments_lexer": "ipython3",
   "version": "3.9.12"
  },
  "toc": {
   "base_numbering": 1,
   "nav_menu": {},
   "number_sections": true,
   "sideBar": true,
   "skip_h1_title": false,
   "title_cell": "Table of Contents",
   "title_sidebar": "Contents",
   "toc_cell": false,
   "toc_position": {},
   "toc_section_display": true,
   "toc_window_display": false
  },
  "varInspector": {
   "cols": {
    "lenName": 16,
    "lenType": 16,
    "lenVar": 40
   },
   "kernels_config": {
    "python": {
     "delete_cmd_postfix": "",
     "delete_cmd_prefix": "del ",
     "library": "var_list.py",
     "varRefreshCmd": "print(var_dic_list())"
    },
    "r": {
     "delete_cmd_postfix": ") ",
     "delete_cmd_prefix": "rm(",
     "library": "var_list.r",
     "varRefreshCmd": "cat(var_dic_list()) "
    }
   },
   "types_to_exclude": [
    "module",
    "function",
    "builtin_function_or_method",
    "instance",
    "_Feature"
   ],
   "window_display": false
  }
 },
 "nbformat": 4,
 "nbformat_minor": 5
}
