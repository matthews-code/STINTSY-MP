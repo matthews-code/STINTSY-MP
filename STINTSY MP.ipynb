{
 "cells": [
  {
   "cell_type": "markdown",
   "id": "62864ea8",
   "metadata": {},
   "source": [
    "# Dataset cleaning"
   ]
  },
  {
   "cell_type": "code",
   "execution_count": 1,
   "id": "327e394b",
   "metadata": {},
   "outputs": [],
   "source": [
    "import matplotlib.pyplot as plt\n",
    "import numpy as np\n",
    "import pandas as pd"
   ]
  },
  {
   "cell_type": "markdown",
   "id": "6abd1cf2",
   "metadata": {},
   "source": [
    "Read CSV file."
   ]
  },
  {
   "cell_type": "code",
   "execution_count": 2,
   "id": "11d1fade",
   "metadata": {},
   "outputs": [],
   "source": [
    "df = pd.read_csv('SpotifyFeatures.csv')"
   ]
  },
  {
   "cell_type": "markdown",
   "id": "f959e821",
   "metadata": {},
   "source": [
    "Drop duplicate values."
   ]
  },
  {
   "cell_type": "code",
   "execution_count": 3,
   "id": "8dc0fa66",
   "metadata": {
    "scrolled": false
   },
   "outputs": [
    {
     "data": {
      "text/html": [
       "<div>\n",
       "<style scoped>\n",
       "    .dataframe tbody tr th:only-of-type {\n",
       "        vertical-align: middle;\n",
       "    }\n",
       "\n",
       "    .dataframe tbody tr th {\n",
       "        vertical-align: top;\n",
       "    }\n",
       "\n",
       "    .dataframe thead th {\n",
       "        text-align: right;\n",
       "    }\n",
       "</style>\n",
       "<table border=\"1\" class=\"dataframe\">\n",
       "  <thead>\n",
       "    <tr style=\"text-align: right;\">\n",
       "      <th></th>\n",
       "      <th>genre</th>\n",
       "      <th>artist_name</th>\n",
       "      <th>track_name</th>\n",
       "      <th>track_id</th>\n",
       "      <th>popularity</th>\n",
       "      <th>acousticness</th>\n",
       "      <th>danceability</th>\n",
       "      <th>duration_ms</th>\n",
       "      <th>energy</th>\n",
       "      <th>instrumentalness</th>\n",
       "      <th>key</th>\n",
       "      <th>liveness</th>\n",
       "      <th>loudness</th>\n",
       "      <th>mode</th>\n",
       "      <th>speechiness</th>\n",
       "      <th>tempo</th>\n",
       "      <th>time_signature</th>\n",
       "      <th>valence</th>\n",
       "    </tr>\n",
       "  </thead>\n",
       "  <tbody>\n",
       "    <tr>\n",
       "      <th>0</th>\n",
       "      <td>Movie</td>\n",
       "      <td>Henri Salvador</td>\n",
       "      <td>C'est beau de faire un Show</td>\n",
       "      <td>0BRjO6ga9RKCKjfDqeFgWV</td>\n",
       "      <td>0</td>\n",
       "      <td>0.6110</td>\n",
       "      <td>0.389</td>\n",
       "      <td>99373</td>\n",
       "      <td>0.910</td>\n",
       "      <td>0.000000</td>\n",
       "      <td>C#</td>\n",
       "      <td>0.3460</td>\n",
       "      <td>-1.828</td>\n",
       "      <td>Major</td>\n",
       "      <td>0.0525</td>\n",
       "      <td>166.969</td>\n",
       "      <td>4/4</td>\n",
       "      <td>0.814</td>\n",
       "    </tr>\n",
       "    <tr>\n",
       "      <th>1</th>\n",
       "      <td>Movie</td>\n",
       "      <td>Martin &amp; les fées</td>\n",
       "      <td>Perdu d'avance (par Gad Elmaleh)</td>\n",
       "      <td>0BjC1NfoEOOusryehmNudP</td>\n",
       "      <td>1</td>\n",
       "      <td>0.2460</td>\n",
       "      <td>0.590</td>\n",
       "      <td>137373</td>\n",
       "      <td>0.737</td>\n",
       "      <td>0.000000</td>\n",
       "      <td>F#</td>\n",
       "      <td>0.1510</td>\n",
       "      <td>-5.559</td>\n",
       "      <td>Minor</td>\n",
       "      <td>0.0868</td>\n",
       "      <td>174.003</td>\n",
       "      <td>4/4</td>\n",
       "      <td>0.816</td>\n",
       "    </tr>\n",
       "    <tr>\n",
       "      <th>2</th>\n",
       "      <td>Movie</td>\n",
       "      <td>Joseph Williams</td>\n",
       "      <td>Don't Let Me Be Lonely Tonight</td>\n",
       "      <td>0CoSDzoNIKCRs124s9uTVy</td>\n",
       "      <td>3</td>\n",
       "      <td>0.9520</td>\n",
       "      <td>0.663</td>\n",
       "      <td>170267</td>\n",
       "      <td>0.131</td>\n",
       "      <td>0.000000</td>\n",
       "      <td>C</td>\n",
       "      <td>0.1030</td>\n",
       "      <td>-13.879</td>\n",
       "      <td>Minor</td>\n",
       "      <td>0.0362</td>\n",
       "      <td>99.488</td>\n",
       "      <td>5/4</td>\n",
       "      <td>0.368</td>\n",
       "    </tr>\n",
       "    <tr>\n",
       "      <th>3</th>\n",
       "      <td>Movie</td>\n",
       "      <td>Henri Salvador</td>\n",
       "      <td>Dis-moi Monsieur Gordon Cooper</td>\n",
       "      <td>0Gc6TVm52BwZD07Ki6tIvf</td>\n",
       "      <td>0</td>\n",
       "      <td>0.7030</td>\n",
       "      <td>0.240</td>\n",
       "      <td>152427</td>\n",
       "      <td>0.326</td>\n",
       "      <td>0.000000</td>\n",
       "      <td>C#</td>\n",
       "      <td>0.0985</td>\n",
       "      <td>-12.178</td>\n",
       "      <td>Major</td>\n",
       "      <td>0.0395</td>\n",
       "      <td>171.758</td>\n",
       "      <td>4/4</td>\n",
       "      <td>0.227</td>\n",
       "    </tr>\n",
       "    <tr>\n",
       "      <th>4</th>\n",
       "      <td>Movie</td>\n",
       "      <td>Fabien Nataf</td>\n",
       "      <td>Ouverture</td>\n",
       "      <td>0IuslXpMROHdEPvSl1fTQK</td>\n",
       "      <td>4</td>\n",
       "      <td>0.9500</td>\n",
       "      <td>0.331</td>\n",
       "      <td>82625</td>\n",
       "      <td>0.225</td>\n",
       "      <td>0.123000</td>\n",
       "      <td>F</td>\n",
       "      <td>0.2020</td>\n",
       "      <td>-21.150</td>\n",
       "      <td>Major</td>\n",
       "      <td>0.0456</td>\n",
       "      <td>140.576</td>\n",
       "      <td>4/4</td>\n",
       "      <td>0.390</td>\n",
       "    </tr>\n",
       "    <tr>\n",
       "      <th>...</th>\n",
       "      <td>...</td>\n",
       "      <td>...</td>\n",
       "      <td>...</td>\n",
       "      <td>...</td>\n",
       "      <td>...</td>\n",
       "      <td>...</td>\n",
       "      <td>...</td>\n",
       "      <td>...</td>\n",
       "      <td>...</td>\n",
       "      <td>...</td>\n",
       "      <td>...</td>\n",
       "      <td>...</td>\n",
       "      <td>...</td>\n",
       "      <td>...</td>\n",
       "      <td>...</td>\n",
       "      <td>...</td>\n",
       "      <td>...</td>\n",
       "      <td>...</td>\n",
       "    </tr>\n",
       "    <tr>\n",
       "      <th>232716</th>\n",
       "      <td>Soul</td>\n",
       "      <td>John Legend</td>\n",
       "      <td>Quickly (feat. Brandy)</td>\n",
       "      <td>1U0OMWvR89Cm20vCNar50f</td>\n",
       "      <td>39</td>\n",
       "      <td>0.2310</td>\n",
       "      <td>0.736</td>\n",
       "      <td>222667</td>\n",
       "      <td>0.701</td>\n",
       "      <td>0.000000</td>\n",
       "      <td>A#</td>\n",
       "      <td>0.2030</td>\n",
       "      <td>-4.345</td>\n",
       "      <td>Minor</td>\n",
       "      <td>0.1000</td>\n",
       "      <td>99.991</td>\n",
       "      <td>4/4</td>\n",
       "      <td>0.770</td>\n",
       "    </tr>\n",
       "    <tr>\n",
       "      <th>232717</th>\n",
       "      <td>Soul</td>\n",
       "      <td>Belly</td>\n",
       "      <td>P.O.P.</td>\n",
       "      <td>2gGqKJWfWbToha2YmDxnnj</td>\n",
       "      <td>43</td>\n",
       "      <td>0.1040</td>\n",
       "      <td>0.802</td>\n",
       "      <td>201173</td>\n",
       "      <td>0.516</td>\n",
       "      <td>0.000485</td>\n",
       "      <td>D</td>\n",
       "      <td>0.1050</td>\n",
       "      <td>-9.014</td>\n",
       "      <td>Major</td>\n",
       "      <td>0.2130</td>\n",
       "      <td>175.666</td>\n",
       "      <td>4/4</td>\n",
       "      <td>0.482</td>\n",
       "    </tr>\n",
       "    <tr>\n",
       "      <th>232719</th>\n",
       "      <td>Soul</td>\n",
       "      <td>Bobby \"Blue\" Bland</td>\n",
       "      <td>I'll Take Care Of You - Single Version</td>\n",
       "      <td>2iZf3EUedz9MPqbAvXdpdA</td>\n",
       "      <td>32</td>\n",
       "      <td>0.5660</td>\n",
       "      <td>0.423</td>\n",
       "      <td>144667</td>\n",
       "      <td>0.337</td>\n",
       "      <td>0.000000</td>\n",
       "      <td>A#</td>\n",
       "      <td>0.2760</td>\n",
       "      <td>-13.092</td>\n",
       "      <td>Minor</td>\n",
       "      <td>0.0436</td>\n",
       "      <td>80.023</td>\n",
       "      <td>4/4</td>\n",
       "      <td>0.497</td>\n",
       "    </tr>\n",
       "    <tr>\n",
       "      <th>232721</th>\n",
       "      <td>Soul</td>\n",
       "      <td>Jr Thomas &amp; The Volcanos</td>\n",
       "      <td>Burning Fire</td>\n",
       "      <td>1qWZdkBl4UVPj9lK6HuuFM</td>\n",
       "      <td>38</td>\n",
       "      <td>0.0329</td>\n",
       "      <td>0.785</td>\n",
       "      <td>282447</td>\n",
       "      <td>0.683</td>\n",
       "      <td>0.000880</td>\n",
       "      <td>E</td>\n",
       "      <td>0.2370</td>\n",
       "      <td>-6.944</td>\n",
       "      <td>Minor</td>\n",
       "      <td>0.0337</td>\n",
       "      <td>113.830</td>\n",
       "      <td>4/4</td>\n",
       "      <td>0.969</td>\n",
       "    </tr>\n",
       "    <tr>\n",
       "      <th>232724</th>\n",
       "      <td>Soul</td>\n",
       "      <td>Mint Condition</td>\n",
       "      <td>You Don't Have To Hurt No More</td>\n",
       "      <td>34XO9RwPMKjbvRry54QzWn</td>\n",
       "      <td>35</td>\n",
       "      <td>0.0973</td>\n",
       "      <td>0.758</td>\n",
       "      <td>323027</td>\n",
       "      <td>0.470</td>\n",
       "      <td>0.000049</td>\n",
       "      <td>G#</td>\n",
       "      <td>0.0836</td>\n",
       "      <td>-6.708</td>\n",
       "      <td>Minor</td>\n",
       "      <td>0.0287</td>\n",
       "      <td>113.897</td>\n",
       "      <td>4/4</td>\n",
       "      <td>0.479</td>\n",
       "    </tr>\n",
       "  </tbody>\n",
       "</table>\n",
       "<p>141650 rows × 18 columns</p>\n",
       "</div>"
      ],
      "text/plain": [
       "        genre               artist_name  \\\n",
       "0       Movie            Henri Salvador   \n",
       "1       Movie         Martin & les fées   \n",
       "2       Movie           Joseph Williams   \n",
       "3       Movie            Henri Salvador   \n",
       "4       Movie              Fabien Nataf   \n",
       "...       ...                       ...   \n",
       "232716   Soul               John Legend   \n",
       "232717   Soul                     Belly   \n",
       "232719   Soul        Bobby \"Blue\" Bland   \n",
       "232721   Soul  Jr Thomas & The Volcanos   \n",
       "232724   Soul            Mint Condition   \n",
       "\n",
       "                                    track_name                track_id  \\\n",
       "0                  C'est beau de faire un Show  0BRjO6ga9RKCKjfDqeFgWV   \n",
       "1             Perdu d'avance (par Gad Elmaleh)  0BjC1NfoEOOusryehmNudP   \n",
       "2               Don't Let Me Be Lonely Tonight  0CoSDzoNIKCRs124s9uTVy   \n",
       "3               Dis-moi Monsieur Gordon Cooper  0Gc6TVm52BwZD07Ki6tIvf   \n",
       "4                                    Ouverture  0IuslXpMROHdEPvSl1fTQK   \n",
       "...                                        ...                     ...   \n",
       "232716                  Quickly (feat. Brandy)  1U0OMWvR89Cm20vCNar50f   \n",
       "232717                                  P.O.P.  2gGqKJWfWbToha2YmDxnnj   \n",
       "232719  I'll Take Care Of You - Single Version  2iZf3EUedz9MPqbAvXdpdA   \n",
       "232721                            Burning Fire  1qWZdkBl4UVPj9lK6HuuFM   \n",
       "232724          You Don't Have To Hurt No More  34XO9RwPMKjbvRry54QzWn   \n",
       "\n",
       "        popularity  acousticness  danceability  duration_ms  energy  \\\n",
       "0                0        0.6110         0.389        99373   0.910   \n",
       "1                1        0.2460         0.590       137373   0.737   \n",
       "2                3        0.9520         0.663       170267   0.131   \n",
       "3                0        0.7030         0.240       152427   0.326   \n",
       "4                4        0.9500         0.331        82625   0.225   \n",
       "...            ...           ...           ...          ...     ...   \n",
       "232716          39        0.2310         0.736       222667   0.701   \n",
       "232717          43        0.1040         0.802       201173   0.516   \n",
       "232719          32        0.5660         0.423       144667   0.337   \n",
       "232721          38        0.0329         0.785       282447   0.683   \n",
       "232724          35        0.0973         0.758       323027   0.470   \n",
       "\n",
       "        instrumentalness key  liveness  loudness   mode  speechiness    tempo  \\\n",
       "0               0.000000  C#    0.3460    -1.828  Major       0.0525  166.969   \n",
       "1               0.000000  F#    0.1510    -5.559  Minor       0.0868  174.003   \n",
       "2               0.000000   C    0.1030   -13.879  Minor       0.0362   99.488   \n",
       "3               0.000000  C#    0.0985   -12.178  Major       0.0395  171.758   \n",
       "4               0.123000   F    0.2020   -21.150  Major       0.0456  140.576   \n",
       "...                  ...  ..       ...       ...    ...          ...      ...   \n",
       "232716          0.000000  A#    0.2030    -4.345  Minor       0.1000   99.991   \n",
       "232717          0.000485   D    0.1050    -9.014  Major       0.2130  175.666   \n",
       "232719          0.000000  A#    0.2760   -13.092  Minor       0.0436   80.023   \n",
       "232721          0.000880   E    0.2370    -6.944  Minor       0.0337  113.830   \n",
       "232724          0.000049  G#    0.0836    -6.708  Minor       0.0287  113.897   \n",
       "\n",
       "       time_signature  valence  \n",
       "0                 4/4    0.814  \n",
       "1                 4/4    0.816  \n",
       "2                 5/4    0.368  \n",
       "3                 4/4    0.227  \n",
       "4                 4/4    0.390  \n",
       "...               ...      ...  \n",
       "232716            4/4    0.770  \n",
       "232717            4/4    0.482  \n",
       "232719            4/4    0.497  \n",
       "232721            4/4    0.969  \n",
       "232724            4/4    0.479  \n",
       "\n",
       "[141650 rows x 18 columns]"
      ]
     },
     "execution_count": 3,
     "metadata": {},
     "output_type": "execute_result"
    }
   ],
   "source": [
    "df = df.drop_duplicates(subset='track_id', keep=False, inplace=False)\n",
    "df"
   ]
  },
  {
   "cell_type": "markdown",
   "id": "a69c7cb0",
   "metadata": {},
   "source": [
    "Drop unneeded columns."
   ]
  },
  {
   "cell_type": "code",
   "execution_count": 4,
   "id": "6e8e65d8",
   "metadata": {},
   "outputs": [],
   "source": [
    "df = df.drop(axis = 1, columns = ['artist_name', 'track_name', 'track_id', 'popularity'])"
   ]
  },
  {
   "cell_type": "markdown",
   "id": "c5670ce3",
   "metadata": {},
   "source": [
    "Re-arrange dataframe columns to match with Spotify API."
   ]
  },
  {
   "cell_type": "code",
   "execution_count": 5,
   "id": "cb44a8e4",
   "metadata": {},
   "outputs": [],
   "source": [
    "df = df[['danceability', 'energy', 'key', 'loudness', 'mode', 'speechiness', 'acousticness', 'instrumentalness', 'liveness', 'valence', 'tempo', 'duration_ms', 'time_signature', 'genre']]"
   ]
  },
  {
   "cell_type": "markdown",
   "id": "1aa944c8",
   "metadata": {},
   "source": [
    "Re-assign `key`, `mode`, and `time_signature` entries to their corresponding numerical values based on [this website](https://www.therecordindustry.io/analyzing-spotify-audio-features/)."
   ]
  },
  {
   "cell_type": "code",
   "execution_count": 6,
   "id": "b8c57c00",
   "metadata": {},
   "outputs": [],
   "source": [
    "# Drop the 8 rows with time signature 0/4 and remove a\n",
    "\n",
    "df = df[df.time_signature != '0/4']\n",
    "\n",
    "# Data's numerical representation\n",
    "\n",
    "keys_key = {'C':  0, 'C#': 1, 'D':  2, 'D#': 3, 'E':  4, 'F':  5, 'F#': 6, 'G':  7, 'G#': 8, 'A':  9, 'A#': 10, 'B':  11}\n",
    "keys_time_signature = {'1/4': 1, '2/4': 2, '3/4': 3, '4/4': 4, '5/4': 5}\n",
    "keys_mode = {'Major': 1, 'Minor': 0}\n",
    "\n",
    "# Remap values according to dictionaries above.\n",
    "\n",
    "for i in keys_key.values():\n",
    "    \n",
    "    key = list(keys_key.keys())\n",
    "    number = list(keys_key.values())\n",
    "    df['key'] = df['key'].replace([str(key[i])], str(number[i]))\n",
    "    \n",
    "for i in keys_time_signature.values():\n",
    "    \n",
    "    key = list(keys_time_signature.keys())\n",
    "    number = list(keys_time_signature.values())  \n",
    "    df['time_signature'] = df['time_signature'].replace([str(key[i-1])], number[i-1])\n",
    "\n",
    "for i in keys_mode.values():\n",
    "    \n",
    "    key = list(keys_mode.keys())\n",
    "    number = list(keys_mode.values())\n",
    "    df['mode'] = df['mode'].replace([str(key[i])], str(number[i]))"
   ]
  },
  {
   "cell_type": "code",
   "execution_count": 7,
   "id": "9aaf10cf",
   "metadata": {},
   "outputs": [
    {
     "data": {
      "text/plain": [
       "array(['Movie', 'A Capella', 'Alternative', 'Country', 'Dance',\n",
       "       'Electronic', 'Anime', 'Folk', 'Blues', 'R&B', 'Opera', 'Hip-Hop',\n",
       "       \"Children's Music\", 'Children’s Music', 'Rap', 'Indie',\n",
       "       'Classical', 'Pop', 'Reggae', 'Reggaeton', 'Jazz', 'Rock', 'Ska',\n",
       "       'Comedy', 'Soul', 'Soundtrack', 'World'], dtype=object)"
      ]
     },
     "execution_count": 7,
     "metadata": {},
     "output_type": "execute_result"
    }
   ],
   "source": [
    "df['genre'].unique()"
   ]
  },
  {
   "cell_type": "markdown",
   "id": "9ceeb64e",
   "metadata": {},
   "source": [
    "Identify number of songs for each genre."
   ]
  },
  {
   "cell_type": "code",
   "execution_count": 8,
   "id": "771aaaf4",
   "metadata": {},
   "outputs": [
    {
     "data": {
      "text/plain": [
       "Comedy              9672\n",
       "Anime               8556\n",
       "Reggaeton           8526\n",
       "Soundtrack          8446\n",
       "Electronic          8186\n",
       "Classical           8042\n",
       "Ska                 8016\n",
       "World               7960\n",
       "Opera               7888\n",
       "Reggae              7689\n",
       "Movie               7480\n",
       "Blues               7255\n",
       "Jazz                7185\n",
       "Country             6526\n",
       "Children's Music    5402\n",
       "Soul                4418\n",
       "Folk                4342\n",
       "Dance               2738\n",
       "R&B                 2725\n",
       "Indie               1974\n",
       "Hip-Hop             1903\n",
       "Rock                1865\n",
       "Alternative         1817\n",
       "Pop                 1329\n",
       "Rap                  982\n",
       "Children’s Music     604\n",
       "A Capella            119\n",
       "Name: genre, dtype: int64"
      ]
     },
     "execution_count": 8,
     "metadata": {},
     "output_type": "execute_result"
    }
   ],
   "source": [
    "df['genre'].value_counts()"
   ]
  },
  {
   "cell_type": "markdown",
   "id": "6a17519f",
   "metadata": {},
   "source": [
    "Since we are only going to use 8 genres for this model, drop genres that can be a subgenre of another genre."
   ]
  },
  {
   "cell_type": "code",
   "execution_count": 9,
   "id": "701b524e",
   "metadata": {},
   "outputs": [],
   "source": [
    "df = df[df['genre'].str.match('Soul|Indie|Anime|Country|Comedy|Blues|Movie|Soundtrack|Children’s Music|Folk|Alternative|World|Reggaeton|Ska|Reggae|Dance|Opera|Children\\'s Music|A Capella') == False]"
   ]
  },
  {
   "cell_type": "markdown",
   "id": "e26810d8",
   "metadata": {},
   "source": [
    "Check to see if the genres have been successfully dropped."
   ]
  },
  {
   "cell_type": "code",
   "execution_count": 10,
   "id": "7cffc29f",
   "metadata": {},
   "outputs": [
    {
     "data": {
      "text/plain": [
       "array(['Electronic', 'R&B', 'Hip-Hop', 'Rap', 'Classical', 'Pop', 'Jazz',\n",
       "       'Rock'], dtype=object)"
      ]
     },
     "execution_count": 10,
     "metadata": {},
     "output_type": "execute_result"
    }
   ],
   "source": [
    "df['genre'].unique()"
   ]
  },
  {
   "cell_type": "markdown",
   "id": "d462e464",
   "metadata": {},
   "source": [
    "Next, we have to convert our nominal labels into numerical labels."
   ]
  },
  {
   "cell_type": "code",
   "execution_count": 11,
   "id": "1bf520fe",
   "metadata": {},
   "outputs": [],
   "source": [
    "from sklearn import preprocessing"
   ]
  },
  {
   "cell_type": "code",
   "execution_count": 12,
   "id": "aea9bcf1",
   "metadata": {},
   "outputs": [],
   "source": [
    "label_enc = preprocessing.LabelEncoder()\n",
    "df[\"genre\"] = label_enc.fit_transform(df[\"genre\"])"
   ]
  },
  {
   "cell_type": "markdown",
   "id": "dbccdf67",
   "metadata": {},
   "source": [
    "Let us see the mapping of the original nominal labels and the numerical codes."
   ]
  },
  {
   "cell_type": "code",
   "execution_count": 13,
   "id": "a10d3858",
   "metadata": {
    "scrolled": true
   },
   "outputs": [
    {
     "name": "stdout",
     "output_type": "stream",
     "text": [
      "Mapping from nominal to numerical labels:\n",
      "{'Classical': 0, 'Electronic': 1, 'Hip-Hop': 2, 'Jazz': 3, 'Pop': 4, 'R&B': 5, 'Rap': 6, 'Rock': 7}\n"
     ]
    }
   ],
   "source": [
    "print(\"Mapping from nominal to numerical labels:\")\n",
    "print(dict(zip(label_enc.classes_,label_enc.transform(label_enc.classes_))))"
   ]
  },
  {
   "cell_type": "code",
   "execution_count": 14,
   "id": "624f23a9",
   "metadata": {},
   "outputs": [],
   "source": [
    "df = df.reset_index()\n",
    "df = df.drop(axis = 1, columns = ['index'])"
   ]
  },
  {
   "cell_type": "markdown",
   "id": "827537e5",
   "metadata": {},
   "source": [
    "Check dataframe after preprocessing. As expected, the `genre` column now has numerical values. "
   ]
  },
  {
   "cell_type": "code",
   "execution_count": 15,
   "id": "4c9dc70c",
   "metadata": {},
   "outputs": [
    {
     "data": {
      "text/html": [
       "<div>\n",
       "<style scoped>\n",
       "    .dataframe tbody tr th:only-of-type {\n",
       "        vertical-align: middle;\n",
       "    }\n",
       "\n",
       "    .dataframe tbody tr th {\n",
       "        vertical-align: top;\n",
       "    }\n",
       "\n",
       "    .dataframe thead th {\n",
       "        text-align: right;\n",
       "    }\n",
       "</style>\n",
       "<table border=\"1\" class=\"dataframe\">\n",
       "  <thead>\n",
       "    <tr style=\"text-align: right;\">\n",
       "      <th></th>\n",
       "      <th>danceability</th>\n",
       "      <th>energy</th>\n",
       "      <th>key</th>\n",
       "      <th>loudness</th>\n",
       "      <th>mode</th>\n",
       "      <th>speechiness</th>\n",
       "      <th>acousticness</th>\n",
       "      <th>instrumentalness</th>\n",
       "      <th>liveness</th>\n",
       "      <th>valence</th>\n",
       "      <th>tempo</th>\n",
       "      <th>duration_ms</th>\n",
       "      <th>time_signature</th>\n",
       "      <th>genre</th>\n",
       "    </tr>\n",
       "  </thead>\n",
       "  <tbody>\n",
       "    <tr>\n",
       "      <th>0</th>\n",
       "      <td>0.536</td>\n",
       "      <td>0.879</td>\n",
       "      <td>1</td>\n",
       "      <td>-3.019</td>\n",
       "      <td>1</td>\n",
       "      <td>0.0621</td>\n",
       "      <td>0.074200</td>\n",
       "      <td>0.000000</td>\n",
       "      <td>0.0847</td>\n",
       "      <td>0.334</td>\n",
       "      <td>140.137</td>\n",
       "      <td>192000</td>\n",
       "      <td>4</td>\n",
       "      <td>1</td>\n",
       "    </tr>\n",
       "    <tr>\n",
       "      <th>1</th>\n",
       "      <td>0.793</td>\n",
       "      <td>0.703</td>\n",
       "      <td>0</td>\n",
       "      <td>-9.548</td>\n",
       "      <td>1</td>\n",
       "      <td>0.0581</td>\n",
       "      <td>0.000726</td>\n",
       "      <td>0.880000</td>\n",
       "      <td>0.0750</td>\n",
       "      <td>0.856</td>\n",
       "      <td>130.270</td>\n",
       "      <td>450800</td>\n",
       "      <td>4</td>\n",
       "      <td>1</td>\n",
       "    </tr>\n",
       "    <tr>\n",
       "      <th>2</th>\n",
       "      <td>0.611</td>\n",
       "      <td>0.697</td>\n",
       "      <td>2</td>\n",
       "      <td>-8.618</td>\n",
       "      <td>1</td>\n",
       "      <td>0.1330</td>\n",
       "      <td>0.019300</td>\n",
       "      <td>0.000000</td>\n",
       "      <td>0.3320</td>\n",
       "      <td>0.476</td>\n",
       "      <td>122.752</td>\n",
       "      <td>320357</td>\n",
       "      <td>4</td>\n",
       "      <td>1</td>\n",
       "    </tr>\n",
       "    <tr>\n",
       "      <th>3</th>\n",
       "      <td>0.794</td>\n",
       "      <td>0.811</td>\n",
       "      <td>6</td>\n",
       "      <td>-8.966</td>\n",
       "      <td>0</td>\n",
       "      <td>0.0380</td>\n",
       "      <td>0.042600</td>\n",
       "      <td>0.000001</td>\n",
       "      <td>0.1010</td>\n",
       "      <td>0.862</td>\n",
       "      <td>116.047</td>\n",
       "      <td>248413</td>\n",
       "      <td>4</td>\n",
       "      <td>1</td>\n",
       "    </tr>\n",
       "    <tr>\n",
       "      <th>4</th>\n",
       "      <td>0.775</td>\n",
       "      <td>0.585</td>\n",
       "      <td>10</td>\n",
       "      <td>-9.516</td>\n",
       "      <td>0</td>\n",
       "      <td>0.0271</td>\n",
       "      <td>0.042200</td>\n",
       "      <td>0.619000</td>\n",
       "      <td>0.0770</td>\n",
       "      <td>0.518</td>\n",
       "      <td>109.942</td>\n",
       "      <td>337560</td>\n",
       "      <td>4</td>\n",
       "      <td>1</td>\n",
       "    </tr>\n",
       "    <tr>\n",
       "      <th>...</th>\n",
       "      <td>...</td>\n",
       "      <td>...</td>\n",
       "      <td>...</td>\n",
       "      <td>...</td>\n",
       "      <td>...</td>\n",
       "      <td>...</td>\n",
       "      <td>...</td>\n",
       "      <td>...</td>\n",
       "      <td>...</td>\n",
       "      <td>...</td>\n",
       "      <td>...</td>\n",
       "      <td>...</td>\n",
       "      <td>...</td>\n",
       "      <td>...</td>\n",
       "    </tr>\n",
       "    <tr>\n",
       "      <th>32212</th>\n",
       "      <td>0.630</td>\n",
       "      <td>0.688</td>\n",
       "      <td>2</td>\n",
       "      <td>-9.816</td>\n",
       "      <td>1</td>\n",
       "      <td>0.0266</td>\n",
       "      <td>0.124000</td>\n",
       "      <td>0.000048</td>\n",
       "      <td>0.1580</td>\n",
       "      <td>0.893</td>\n",
       "      <td>124.825</td>\n",
       "      <td>218040</td>\n",
       "      <td>4</td>\n",
       "      <td>7</td>\n",
       "    </tr>\n",
       "    <tr>\n",
       "      <th>32213</th>\n",
       "      <td>0.615</td>\n",
       "      <td>0.401</td>\n",
       "      <td>4</td>\n",
       "      <td>-14.070</td>\n",
       "      <td>0</td>\n",
       "      <td>0.0507</td>\n",
       "      <td>0.203000</td>\n",
       "      <td>0.000000</td>\n",
       "      <td>0.0860</td>\n",
       "      <td>0.672</td>\n",
       "      <td>87.959</td>\n",
       "      <td>264960</td>\n",
       "      <td>4</td>\n",
       "      <td>7</td>\n",
       "    </tr>\n",
       "    <tr>\n",
       "      <th>32214</th>\n",
       "      <td>0.394</td>\n",
       "      <td>0.682</td>\n",
       "      <td>9</td>\n",
       "      <td>-11.972</td>\n",
       "      <td>1</td>\n",
       "      <td>0.1110</td>\n",
       "      <td>0.033500</td>\n",
       "      <td>0.000231</td>\n",
       "      <td>0.3070</td>\n",
       "      <td>0.361</td>\n",
       "      <td>100.646</td>\n",
       "      <td>262747</td>\n",
       "      <td>4</td>\n",
       "      <td>7</td>\n",
       "    </tr>\n",
       "    <tr>\n",
       "      <th>32215</th>\n",
       "      <td>0.658</td>\n",
       "      <td>0.537</td>\n",
       "      <td>6</td>\n",
       "      <td>-7.535</td>\n",
       "      <td>0</td>\n",
       "      <td>0.0307</td>\n",
       "      <td>0.138000</td>\n",
       "      <td>0.000000</td>\n",
       "      <td>0.0572</td>\n",
       "      <td>0.887</td>\n",
       "      <td>132.115</td>\n",
       "      <td>116373</td>\n",
       "      <td>4</td>\n",
       "      <td>7</td>\n",
       "    </tr>\n",
       "    <tr>\n",
       "      <th>32216</th>\n",
       "      <td>0.718</td>\n",
       "      <td>0.593</td>\n",
       "      <td>0</td>\n",
       "      <td>-9.976</td>\n",
       "      <td>1</td>\n",
       "      <td>0.0377</td>\n",
       "      <td>0.670000</td>\n",
       "      <td>0.000000</td>\n",
       "      <td>0.1720</td>\n",
       "      <td>0.869</td>\n",
       "      <td>124.251</td>\n",
       "      <td>136067</td>\n",
       "      <td>4</td>\n",
       "      <td>7</td>\n",
       "    </tr>\n",
       "  </tbody>\n",
       "</table>\n",
       "<p>32217 rows × 14 columns</p>\n",
       "</div>"
      ],
      "text/plain": [
       "       danceability  energy key  loudness mode  speechiness  acousticness  \\\n",
       "0             0.536   0.879   1    -3.019    1       0.0621      0.074200   \n",
       "1             0.793   0.703   0    -9.548    1       0.0581      0.000726   \n",
       "2             0.611   0.697   2    -8.618    1       0.1330      0.019300   \n",
       "3             0.794   0.811   6    -8.966    0       0.0380      0.042600   \n",
       "4             0.775   0.585  10    -9.516    0       0.0271      0.042200   \n",
       "...             ...     ...  ..       ...  ...          ...           ...   \n",
       "32212         0.630   0.688   2    -9.816    1       0.0266      0.124000   \n",
       "32213         0.615   0.401   4   -14.070    0       0.0507      0.203000   \n",
       "32214         0.394   0.682   9   -11.972    1       0.1110      0.033500   \n",
       "32215         0.658   0.537   6    -7.535    0       0.0307      0.138000   \n",
       "32216         0.718   0.593   0    -9.976    1       0.0377      0.670000   \n",
       "\n",
       "       instrumentalness  liveness  valence    tempo  duration_ms  \\\n",
       "0              0.000000    0.0847    0.334  140.137       192000   \n",
       "1              0.880000    0.0750    0.856  130.270       450800   \n",
       "2              0.000000    0.3320    0.476  122.752       320357   \n",
       "3              0.000001    0.1010    0.862  116.047       248413   \n",
       "4              0.619000    0.0770    0.518  109.942       337560   \n",
       "...                 ...       ...      ...      ...          ...   \n",
       "32212          0.000048    0.1580    0.893  124.825       218040   \n",
       "32213          0.000000    0.0860    0.672   87.959       264960   \n",
       "32214          0.000231    0.3070    0.361  100.646       262747   \n",
       "32215          0.000000    0.0572    0.887  132.115       116373   \n",
       "32216          0.000000    0.1720    0.869  124.251       136067   \n",
       "\n",
       "       time_signature  genre  \n",
       "0                   4      1  \n",
       "1                   4      1  \n",
       "2                   4      1  \n",
       "3                   4      1  \n",
       "4                   4      1  \n",
       "...               ...    ...  \n",
       "32212               4      7  \n",
       "32213               4      7  \n",
       "32214               4      7  \n",
       "32215               4      7  \n",
       "32216               4      7  \n",
       "\n",
       "[32217 rows x 14 columns]"
      ]
     },
     "execution_count": 15,
     "metadata": {},
     "output_type": "execute_result"
    }
   ],
   "source": [
    "df"
   ]
  },
  {
   "cell_type": "markdown",
   "id": "5b115e44",
   "metadata": {},
   "source": [
    "# Building the models"
   ]
  },
  {
   "cell_type": "markdown",
   "id": "4f8df578",
   "metadata": {},
   "source": [
    "## Train/test split"
   ]
  },
  {
   "cell_type": "markdown",
   "id": "463a9721",
   "metadata": {},
   "source": [
    "Prepare the `X` feature dataset and `y` label vector."
   ]
  },
  {
   "cell_type": "code",
   "execution_count": 16,
   "id": "71934bd8",
   "metadata": {},
   "outputs": [],
   "source": [
    "X_genre =  df.values[:,:-1]\n",
    "y_genre = df.values[:,-1].astype(int)"
   ]
  },
  {
   "cell_type": "markdown",
   "id": "daf34bc9",
   "metadata": {},
   "source": [
    "Split `X_genre` and `y_genre` into training and test sets."
   ]
  },
  {
   "cell_type": "code",
   "execution_count": 17,
   "id": "932aba50",
   "metadata": {},
   "outputs": [],
   "source": [
    "from sklearn.model_selection import train_test_split"
   ]
  },
  {
   "cell_type": "code",
   "execution_count": 18,
   "id": "235133e5",
   "metadata": {},
   "outputs": [
    {
     "name": "stdout",
     "output_type": "stream",
     "text": [
      "Genre train and test split\n",
      "X_train:  (27384, 13)\n",
      "y_train:  (27384,)\n",
      "X_test:   (4833, 13)\n",
      "y_test:   (4833,)\n"
     ]
    }
   ],
   "source": [
    "X_train, X_test, y_train, y_test = train_test_split(X_genre, y_genre, test_size = 0.15, random_state = 1, stratify = y_genre)\n",
    " \n",
    "print(\"Genre train and test split\")\n",
    "print(\"X_train: \", X_train.shape)\n",
    "print(\"y_train: \", y_train.shape)\n",
    "print(\"X_test:  \", X_test.shape)\n",
    "print(\"y_test:  \", y_test.shape)"
   ]
  },
  {
   "cell_type": "markdown",
   "id": "cf17f49e",
   "metadata": {},
   "source": [
    "Create a function that computes accuracy. Let us call it `compute_accuracy`."
   ]
  },
  {
   "cell_type": "code",
   "execution_count": 19,
   "id": "562198d8",
   "metadata": {},
   "outputs": [],
   "source": [
    "def compute_accuracy(predictions, actual):\n",
    "    \n",
    "    num_correct = sum(predictions == actual)\n",
    "    accuracy = (num_correct/len(actual)) * 100\n",
    "    \n",
    "    return accuracy"
   ]
  },
  {
   "cell_type": "markdown",
   "id": "e77b170c",
   "metadata": {},
   "source": [
    "## Guassian Naive Bayes"
   ]
  },
  {
   "cell_type": "code",
   "execution_count": 20,
   "id": "d3ee175a",
   "metadata": {},
   "outputs": [],
   "source": [
    "from sklearn.naive_bayes import GaussianNB"
   ]
  },
  {
   "cell_type": "code",
   "execution_count": 21,
   "id": "289819b3",
   "metadata": {},
   "outputs": [],
   "source": [
    "nb_genre = GaussianNB()"
   ]
  },
  {
   "cell_type": "code",
   "execution_count": 22,
   "id": "9d9530b8",
   "metadata": {},
   "outputs": [
    {
     "data": {
      "text/plain": [
       "GaussianNB()"
      ]
     },
     "execution_count": 22,
     "metadata": {},
     "output_type": "execute_result"
    }
   ],
   "source": [
    "nb_genre.fit(X_train, y_train)"
   ]
  },
  {
   "cell_type": "code",
   "execution_count": 23,
   "id": "a2b9c7b9",
   "metadata": {},
   "outputs": [],
   "source": [
    "nb_train_predictions = nb_genre.predict(X_train)"
   ]
  },
  {
   "cell_type": "code",
   "execution_count": 24,
   "id": "24d66045",
   "metadata": {},
   "outputs": [
    {
     "name": "stdout",
     "output_type": "stream",
     "text": [
      "Training accuracy:  49.934268185801926 %\n"
     ]
    }
   ],
   "source": [
    "print(\"Training accuracy: \", compute_accuracy(nb_train_predictions, y_train), \"%\")"
   ]
  },
  {
   "cell_type": "code",
   "execution_count": 25,
   "id": "3d24b0b4",
   "metadata": {},
   "outputs": [],
   "source": [
    "nb_test_predictions = nb_genre.predict(X_test)"
   ]
  },
  {
   "cell_type": "code",
   "execution_count": 26,
   "id": "428e0a34",
   "metadata": {},
   "outputs": [
    {
     "name": "stdout",
     "output_type": "stream",
     "text": [
      "Test set accuracy:  50.5276225946617 %\n"
     ]
    }
   ],
   "source": [
    "print(\"Test set accuracy: \", compute_accuracy(nb_test_predictions, y_test), \"%\")"
   ]
  },
  {
   "cell_type": "markdown",
   "id": "4a22d651",
   "metadata": {},
   "source": [
    "## Logistic Regression"
   ]
  },
  {
   "cell_type": "code",
   "execution_count": 27,
   "id": "7c7bc93e",
   "metadata": {},
   "outputs": [],
   "source": [
    "from sklearn.linear_model import LogisticRegression"
   ]
  },
  {
   "cell_type": "code",
   "execution_count": 28,
   "id": "1d1a2d1e",
   "metadata": {},
   "outputs": [],
   "source": [
    "lr_genre = LogisticRegression()"
   ]
  },
  {
   "cell_type": "code",
   "execution_count": 29,
   "id": "b19d8fd6",
   "metadata": {},
   "outputs": [
    {
     "data": {
      "text/plain": [
       "LogisticRegression()"
      ]
     },
     "execution_count": 29,
     "metadata": {},
     "output_type": "execute_result"
    }
   ],
   "source": [
    "lr_genre.fit(X_train, y_train)"
   ]
  },
  {
   "cell_type": "code",
   "execution_count": 30,
   "id": "9d63e003",
   "metadata": {},
   "outputs": [],
   "source": [
    "lr_train_predictions = lr_genre.predict(X_train)"
   ]
  },
  {
   "cell_type": "code",
   "execution_count": 31,
   "id": "aeb96e18",
   "metadata": {},
   "outputs": [
    {
     "name": "stdout",
     "output_type": "stream",
     "text": [
      "Training accuracy:  32.27432077125329 %\n"
     ]
    }
   ],
   "source": [
    "print(\"Training accuracy: \", compute_accuracy(lr_train_predictions, y_train), \"%\")"
   ]
  },
  {
   "cell_type": "code",
   "execution_count": 32,
   "id": "fec58a6c",
   "metadata": {},
   "outputs": [],
   "source": [
    "lr_test_predictions = lr_genre.predict(X_test)"
   ]
  },
  {
   "cell_type": "code",
   "execution_count": 33,
   "id": "e78a5db9",
   "metadata": {},
   "outputs": [
    {
     "name": "stdout",
     "output_type": "stream",
     "text": [
      "Test set accuracy:  31.96772191185599 %\n"
     ]
    }
   ],
   "source": [
    "print(\"Test set accuracy: \", compute_accuracy(lr_test_predictions, y_test), \"%\")"
   ]
  },
  {
   "cell_type": "markdown",
   "id": "5c39fbe0",
   "metadata": {},
   "source": [
    "## Random Forest Classifier"
   ]
  },
  {
   "cell_type": "code",
   "execution_count": 34,
   "id": "5790785f",
   "metadata": {},
   "outputs": [],
   "source": [
    "from sklearn.ensemble import RandomForestClassifier"
   ]
  },
  {
   "cell_type": "code",
   "execution_count": 35,
   "id": "62000895",
   "metadata": {},
   "outputs": [],
   "source": [
    "rfc_genre = RandomForestClassifier()"
   ]
  },
  {
   "cell_type": "code",
   "execution_count": 36,
   "id": "ae45a4b8",
   "metadata": {},
   "outputs": [
    {
     "data": {
      "text/plain": [
       "RandomForestClassifier()"
      ]
     },
     "execution_count": 36,
     "metadata": {},
     "output_type": "execute_result"
    }
   ],
   "source": [
    "rfc_genre.fit(X_train, y_train)"
   ]
  },
  {
   "cell_type": "code",
   "execution_count": 37,
   "id": "fb825f52",
   "metadata": {},
   "outputs": [],
   "source": [
    "rfc_train_predictions = rfc_genre.predict(X_train)"
   ]
  },
  {
   "cell_type": "code",
   "execution_count": 38,
   "id": "fb5357c2",
   "metadata": {},
   "outputs": [
    {
     "name": "stdout",
     "output_type": "stream",
     "text": [
      "Training accuracy:  99.99634823254455 %\n"
     ]
    }
   ],
   "source": [
    "print(\"Training accuracy: \", compute_accuracy(rfc_train_predictions, y_train), \"%\")"
   ]
  },
  {
   "cell_type": "code",
   "execution_count": 39,
   "id": "2ce02daf",
   "metadata": {},
   "outputs": [],
   "source": [
    "rfc_test_predictions = rfc_genre.predict(X_test)"
   ]
  },
  {
   "cell_type": "code",
   "execution_count": 40,
   "id": "0c597a57",
   "metadata": {},
   "outputs": [
    {
     "name": "stdout",
     "output_type": "stream",
     "text": [
      "Test set accuracy:  68.77715704531347 %\n"
     ]
    }
   ],
   "source": [
    "print(\"Test set accuracy: \", compute_accuracy(rfc_test_predictions, y_test), \"%\")"
   ]
  },
  {
   "cell_type": "markdown",
   "id": "f6b82d14",
   "metadata": {},
   "source": [
    "## Neural Networks"
   ]
  },
  {
   "cell_type": "code",
   "execution_count": 41,
   "id": "6d332d59",
   "metadata": {},
   "outputs": [],
   "source": [
    "# import here"
   ]
  },
  {
   "cell_type": "markdown",
   "id": "558a98cb",
   "metadata": {},
   "source": [
    "# Spotify API"
   ]
  },
  {
   "cell_type": "markdown",
   "id": "8256b9a5",
   "metadata": {},
   "source": [
    "Import necessary libraries and initialize `Spotify` object."
   ]
  },
  {
   "cell_type": "code",
   "execution_count": 42,
   "id": "d33462cc",
   "metadata": {},
   "outputs": [],
   "source": [
    "import spotipy\n",
    "from spotipy.oauth2 import SpotifyClientCredentials"
   ]
  },
  {
   "cell_type": "code",
   "execution_count": 43,
   "id": "d3a30d0e",
   "metadata": {},
   "outputs": [],
   "source": [
    "sp = spotipy.Spotify(auth_manager=SpotifyClientCredentials(client_id=\"9d4f5395df08402c8b25d34f50f7504f\",\n",
    "                                                           client_secret=\"3a450bdfecdb42d0a66e81320b8012ee\"))"
   ]
  },
  {
   "cell_type": "markdown",
   "id": "5fa58110",
   "metadata": {},
   "source": [
    "Choose a song and enter its Spotify link below!"
   ]
  },
  {
   "cell_type": "code",
   "execution_count": 44,
   "id": "88ff0f45",
   "metadata": {},
   "outputs": [],
   "source": [
    "#song_link = input(\"Enter song link: \")\n",
    "song_link = 'https://open.spotify.com/track/527k23H0A4Q0UJN3vGs0Da?si=a80692e0d7584405'"
   ]
  },
  {
   "cell_type": "code",
   "execution_count": 45,
   "id": "4f06d567",
   "metadata": {},
   "outputs": [],
   "source": [
    "result_object = sp.track(song_link)\n",
    "title = result_object.get('name')\n",
    "artist = result_object.get('album').get('artists')[0].get('name')"
   ]
  },
  {
   "cell_type": "code",
   "execution_count": 46,
   "id": "f8ed3778",
   "metadata": {},
   "outputs": [
    {
     "name": "stdout",
     "output_type": "stream",
     "text": [
      "The title of the song is After Party by Don Toliver. Its audio features will be shown below.\n"
     ]
    }
   ],
   "source": [
    "print('The title of the song is ' + title + ' by ' + artist + '. Its audio features will be shown below.')"
   ]
  },
  {
   "cell_type": "markdown",
   "id": "85c6f56d",
   "metadata": {},
   "source": [
    "Retreive the song's audio features using the `Spotify` object and remove unecessary keys."
   ]
  },
  {
   "cell_type": "code",
   "execution_count": 47,
   "id": "2c8b4feb",
   "metadata": {},
   "outputs": [],
   "source": [
    "audio_features = sp.audio_features(song_link)\n",
    "\n",
    "keys_to_remove = ('type', 'uri', 'track_href', 'analysis_url', 'id')\n",
    "\n",
    "for key in keys_to_remove:\n",
    "    audio_features[0].pop(key, None)"
   ]
  },
  {
   "cell_type": "code",
   "execution_count": 48,
   "id": "0b99d385",
   "metadata": {},
   "outputs": [
    {
     "data": {
      "text/html": [
       "<div>\n",
       "<style scoped>\n",
       "    .dataframe tbody tr th:only-of-type {\n",
       "        vertical-align: middle;\n",
       "    }\n",
       "\n",
       "    .dataframe tbody tr th {\n",
       "        vertical-align: top;\n",
       "    }\n",
       "\n",
       "    .dataframe thead th {\n",
       "        text-align: right;\n",
       "    }\n",
       "</style>\n",
       "<table border=\"1\" class=\"dataframe\">\n",
       "  <thead>\n",
       "    <tr style=\"text-align: right;\">\n",
       "      <th></th>\n",
       "      <th>danceability</th>\n",
       "      <th>energy</th>\n",
       "      <th>key</th>\n",
       "      <th>loudness</th>\n",
       "      <th>mode</th>\n",
       "      <th>speechiness</th>\n",
       "      <th>acousticness</th>\n",
       "      <th>instrumentalness</th>\n",
       "      <th>liveness</th>\n",
       "      <th>valence</th>\n",
       "      <th>tempo</th>\n",
       "      <th>duration_ms</th>\n",
       "      <th>time_signature</th>\n",
       "    </tr>\n",
       "  </thead>\n",
       "  <tbody>\n",
       "    <tr>\n",
       "      <th>0</th>\n",
       "      <td>0.629</td>\n",
       "      <td>0.692</td>\n",
       "      <td>5</td>\n",
       "      <td>-8.045</td>\n",
       "      <td>1</td>\n",
       "      <td>0.0376</td>\n",
       "      <td>0.00981</td>\n",
       "      <td>0.331</td>\n",
       "      <td>0.603</td>\n",
       "      <td>0.453</td>\n",
       "      <td>162.948</td>\n",
       "      <td>167916</td>\n",
       "      <td>4</td>\n",
       "    </tr>\n",
       "  </tbody>\n",
       "</table>\n",
       "</div>"
      ],
      "text/plain": [
       "   danceability  energy  key  loudness  mode  speechiness  acousticness  \\\n",
       "0         0.629   0.692    5    -8.045     1       0.0376       0.00981   \n",
       "\n",
       "   instrumentalness  liveness  valence    tempo  duration_ms  time_signature  \n",
       "0             0.331     0.603    0.453  162.948       167916               4  "
      ]
     },
     "execution_count": 48,
     "metadata": {},
     "output_type": "execute_result"
    }
   ],
   "source": [
    "pd.DataFrame(audio_features)"
   ]
  },
  {
   "cell_type": "markdown",
   "id": "70bf20fb",
   "metadata": {},
   "source": [
    "Convert dictionary into list to be used by the model."
   ]
  },
  {
   "cell_type": "code",
   "execution_count": 49,
   "id": "1b01f94e",
   "metadata": {},
   "outputs": [],
   "source": [
    "test_case = list(audio_features[0].values())"
   ]
  },
  {
   "cell_type": "markdown",
   "id": "a0f10677",
   "metadata": {},
   "source": [
    "Predict the song's genre using the model."
   ]
  },
  {
   "cell_type": "code",
   "execution_count": 50,
   "id": "48b208ef",
   "metadata": {},
   "outputs": [
    {
     "data": {
      "text/plain": [
       "array(['Electronic', 'R&B', 'Hip-Hop', 'Rap', 'Classical', 'Pop', 'Jazz',\n",
       "       'Rock'], dtype=object)"
      ]
     },
     "execution_count": 50,
     "metadata": {},
     "output_type": "execute_result"
    }
   ],
   "source": [
    "label_enc.classes_[df['genre'].unique()]"
   ]
  },
  {
   "cell_type": "markdown",
   "id": "1fee9fcd",
   "metadata": {},
   "source": [
    "**Model objects**\n",
    "- Naive Bayes: `nb_genre`\n",
    "- Logistic Regression: `lr_genre` \n",
    "- Random Forest Classifier: `rfc_genre`"
   ]
  },
  {
   "cell_type": "code",
   "execution_count": 51,
   "id": "c29a99e3",
   "metadata": {},
   "outputs": [
    {
     "data": {
      "text/plain": [
       "'Electronic'"
      ]
     },
     "execution_count": 51,
     "metadata": {},
     "output_type": "execute_result"
    }
   ],
   "source": [
    "label_enc.classes_[rfc_genre.predict([test_case])[0]]"
   ]
  }
 ],
 "metadata": {
  "kernelspec": {
   "display_name": "Python 3 (ipykernel)",
   "language": "python",
   "name": "python3"
  },
  "language_info": {
   "codemirror_mode": {
    "name": "ipython",
    "version": 3
   },
   "file_extension": ".py",
   "mimetype": "text/x-python",
   "name": "python",
   "nbconvert_exporter": "python",
   "pygments_lexer": "ipython3",
   "version": "3.9.12"
  },
  "toc": {
   "base_numbering": 1,
   "nav_menu": {},
   "number_sections": true,
   "sideBar": true,
   "skip_h1_title": false,
   "title_cell": "Table of Contents",
   "title_sidebar": "Contents",
   "toc_cell": false,
   "toc_position": {},
   "toc_section_display": true,
   "toc_window_display": false
  },
  "varInspector": {
   "cols": {
    "lenName": 16,
    "lenType": 16,
    "lenVar": 40
   },
   "kernels_config": {
    "python": {
     "delete_cmd_postfix": "",
     "delete_cmd_prefix": "del ",
     "library": "var_list.py",
     "varRefreshCmd": "print(var_dic_list())"
    },
    "r": {
     "delete_cmd_postfix": ") ",
     "delete_cmd_prefix": "rm(",
     "library": "var_list.r",
     "varRefreshCmd": "cat(var_dic_list()) "
    }
   },
   "types_to_exclude": [
    "module",
    "function",
    "builtin_function_or_method",
    "instance",
    "_Feature"
   ],
   "window_display": false
  }
 },
 "nbformat": 4,
 "nbformat_minor": 5
}
